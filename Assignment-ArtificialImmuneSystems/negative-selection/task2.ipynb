{
 "cells": [
  {
   "cell_type": "markdown",
   "metadata": {},
   "source": [
    "# Natural Computing, assignment 3 - task 2\n",
    "\n",
    "Group 8 - Guus, Bono, Charlotte"
   ]
  },
  {
   "cell_type": "markdown",
   "metadata": {},
   "source": [
    "## Libraries"
   ]
  },
  {
   "cell_type": "code",
   "execution_count": 3,
   "metadata": {},
   "outputs": [],
   "source": [
    "import subprocess\n",
    "import os\n",
    "import numpy as np\n",
    "from sklearn import metrics\n",
    "import matplotlib.pyplot as plt\n",
    "%matplotlib inline"
   ]
  },
  {
   "cell_type": "markdown",
   "metadata": {},
   "source": [
    "# Task 2"
   ]
  },
  {
   "cell_type": "code",
   "execution_count": 11,
   "metadata": {},
   "outputs": [
    {
     "name": "stdout",
     "output_type": "stream",
     "text": [
      "/Users/charlottecvn/Downloads/Natural Computing/negative-selection\n"
     ]
    }
   ],
   "source": [
    "# current directory\n",
    "print(os.getcwd())\n",
    "\n",
    "syscalls_folder = 'syscalls'\n",
    "results_folder = 'Task2'\n",
    "subfolders = ['snd-cert', 'snd-unm']\n",
    "test_files_indexes = ['1', '2', '3']"
   ]
  },
  {
   "cell_type": "code",
   "execution_count": 52,
   "metadata": {},
   "outputs": [],
   "source": [
    "# load data \n",
    "def process_data_train(input_file, output_file, chunk_size=7):\n",
    "    with open(input_file, 'r') as df:\n",
    "        lines = df.readlines()\n",
    "        output_data = open(output_file, 'w+')\n",
    "        for idx, line in enumerate(lines):\n",
    "            for i in range(len(line)-chunk_size): \n",
    "                output_data.write(f'{line[i:i+chunk_size]}\\n')\n",
    "                \n",
    "    with open (output_file) as new_df:\n",
    "        out_new = new_df.read()\n",
    "        out_new = out_new.splitlines()\n",
    "    \n",
    "    return out_new\n",
    "\n",
    "def process_data_test(input_file, output_file, lbl_input, lbl_ouput, chunk_size=7):\n",
    "    with open(input_file, 'r') as df:\n",
    "        lines = df.readlines()\n",
    "        output_test = open(output_file, 'w+')\n",
    "        output_lbls = open(lbl_ouput, 'w+')\n",
    "        for idx, line in enumerate(lines):\n",
    "            for i in range(len(line)-chunk_size): \n",
    "                output_lbls.write(f'{lbl_input[idx]}\\n')\n",
    "                output_test.write(f'{line[i:i+chunk_size]}\\n')\n",
    "\n",
    "    with open(output_file) as df_test:\n",
    "        test_new = df_test.read()\n",
    "        test_new = test_new.splitlines()  \n",
    "        \n",
    "    with open(lbl_ouput) as df_lbls:\n",
    "        lbls_new = df_lbls.read()\n",
    "        lbls_new = lbls_new.splitlines()\n",
    "    \n",
    "    return test_new, lbls_new\n",
    "\n",
    "\n",
    "def load_data(input_file):\n",
    "    with open (input_file) as df:\n",
    "        out = df.read()\n",
    "        out = out.splitlines()\n",
    "    return out\n",
    "\n",
    "#snd_cert data\n",
    "sndcert_train = process_data_train(f\"{syscalls_folder}/{subfolders[0]}/{subfolders[0]}.train\", \n",
    "                                   f\"{results_folder}/{subfolders[0]}.train\")\n",
    "\n",
    "sndcert_lbls1 = load_data(f\"{syscalls_folder}/{subfolders[0]}/{subfolders[0]}.{test_files_indexes[0]}.labels\")\n",
    "sndcert_lbls2 = load_data(f\"{syscalls_folder}/{subfolders[0]}/{subfolders[0]}.{test_files_indexes[1]}.labels\")\n",
    "sndcert_lbls3 = load_data(f\"{syscalls_folder}/{subfolders[0]}/{subfolders[0]}.{test_files_indexes[2]}.labels\")\n",
    "\n",
    "sndcert_test1, sndcert_lbls1 = process_data_test(f\"{syscalls_folder}/{subfolders[0]}/{subfolders[0]}.{test_files_indexes[0]}.test\", \n",
    "                                                 f\"{results_folder}/{subfolders[0]}.{test_files_indexes[0]}.test\", \n",
    "                                                 sndcert_lbls1,\n",
    "                                                 f\"{results_folder}/{subfolders[0]}.{test_files_indexes[0]}.labels\")\n",
    "\n",
    "sndcert_test2, sndcert_lbls2 = process_data_test(f\"{syscalls_folder}/{subfolders[0]}/{subfolders[0]}.{test_files_indexes[1]}.test\", \n",
    "                                                 f\"{results_folder}/{subfolders[0]}.{test_files_indexes[1]}.test\", \n",
    "                                                 sndcert_lbls2,\n",
    "                                                 f\"{results_folder}/{subfolders[0]}.{test_files_indexes[1]}.labels\")\n",
    "\n",
    "sndcert_test3, sndcert_lbls3 = process_data_test(f\"{syscalls_folder}/{subfolders[0]}/{subfolders[0]}.{test_files_indexes[2]}.test\", \n",
    "                                                 f\"{results_folder}/{subfolders[0]}.{test_files_indexes[2]}.test\", \n",
    "                                                 sndcert_lbls3,\n",
    "                                                 f\"{results_folder}/{subfolders[0]}.{test_files_indexes[2]}.labels\")\n",
    "\n",
    "sndcert_alpha = load_data(f\"{syscalls_folder}/{subfolders[1]}/{subfolders[1]}.alpha\")\n",
    "\n",
    "#snd_unm data\n",
    "sndunm_train = process_data_train(f\"{syscalls_folder}/{subfolders[1]}/{subfolders[1]}.train\", \n",
    "                                  f\"{results_folder}/{subfolders[1]}.train\")\n",
    "\n",
    "sndunm_lbls1 = load_data(f\"{syscalls_folder}/{subfolders[1]}/{subfolders[1]}.{test_files_indexes[0]}.labels\")\n",
    "sndunm_lbls2 = load_data(f\"{syscalls_folder}/{subfolders[1]}/{subfolders[1]}.{test_files_indexes[1]}.labels\")\n",
    "sndunm_lbls3 = load_data(f\"{syscalls_folder}/{subfolders[1]}/{subfolders[1]}.{test_files_indexes[2]}.labels\")\n",
    "\n",
    "sndunm_test1, sndunm_lbls1 = process_data_test(f\"{syscalls_folder}/{subfolders[1]}/{subfolders[1]}.{test_files_indexes[0]}.test\", \n",
    "                                               f\"{results_folder}/{subfolders[1]}.{test_files_indexes[0]}.test\", \n",
    "                                               sndunm_lbls1,\n",
    "                                               f\"{results_folder}/{subfolders[1]}.{test_files_indexes[0]}.labels\")\n",
    "\n",
    "sndunm_test2, sndunm_lbls2 = process_data_test(f\"{syscalls_folder}/{subfolders[1]}/{subfolders[1]}.{test_files_indexes[1]}.test\", \n",
    "                                               f\"{results_folder}/{subfolders[1]}.{test_files_indexes[1]}.test\", \n",
    "                                               sndunm_lbls2,\n",
    "                                               f\"{results_folder}/{subfolders[1]}.{test_files_indexes[1]}.labels\")\n",
    "\n",
    "sndunm_test3, sndunm_lbls3 = process_data_test(f\"{syscalls_folder}/{subfolders[1]}/{subfolders[1]}.{test_files_indexes[2]}.test\", \n",
    "                                               f\"{results_folder}/{subfolders[1]}.{test_files_indexes[2]}.test\", \n",
    "                                               sndunm_lbls3,\n",
    "                                               f\"{results_folder}/{subfolders[1]}.{test_files_indexes[2]}.labels\")\n",
    "\n",
    "sndunm_alpha = load_data(f\"{syscalls_folder}/{subfolders[1]}/{subfolders[1]}.alpha\")                    "
   ]
  },
  {
   "cell_type": "code",
   "execution_count": 145,
   "metadata": {},
   "outputs": [],
   "source": [
    "# java outputs (terminal, subprocess)\n",
    "def terminal_output (test_file, train_file, alpha_file, n, r):\n",
    "    command_java = f\"java -jar negsel2.jar -alphabet file://{alpha_file} -self {train_file} -n {n} -r {r} -c -l < {test_file}\"\n",
    "    stream = subprocess.Popen(command_java, shell=True, stderr=subprocess.STDOUT, stdout=subprocess.PIPE)\n",
    "    scores_results = [float(line.rstrip().decode('utf-8')) for line in iter(stream.stdout.readline, b'')]\n",
    "    return scores_results\n",
    "\n",
    "def terminal_output_chunks(test_file, train_file, alpha_file, n, r):\n",
    "    command_java = f\"java -jar negsel2.jar -alphabet file://{alpha_file} -self {train_file} -n {n} -r {r} -c -l\"\n",
    "    stream = subprocess.Popen([command_java], shell=True, stdin=subprocess.PIPE, stdout=subprocess.PIPE)\n",
    "    scores_results = []\n",
    "    with open(test_file, 'r') as test_df:\n",
    "        lines = test_df.readlines()\n",
    "        for line in lines:\n",
    "            substrings = [line[i:i+n] for i in range(len(line)-n)]\n",
    "            score = 0\n",
    "            for unique_sequence in substrings:\n",
    "                stream.stdin.write(f'{unique_sequence}\\n'.encode('utf-8'))\n",
    "                stream.stdin.flush()\n",
    "                output_seq = stream.stdout.readline().decode(\"utf-8\").rstrip()\n",
    "                score += float(output_seq)\n",
    "            scores_results.append(score/len(substrings))\n",
    "    return scores_results"
   ]
  },
  {
   "cell_type": "code",
   "execution_count": 146,
   "metadata": {},
   "outputs": [],
   "source": [
    "# functions to calculate the sensitivity and specificity\n",
    "def sensitivity (distinct, positive_lbls):\n",
    "    sensitivity_distinct = []\n",
    "    for i, score in enumerate(distinct):\n",
    "        positive = distinct[i:]\n",
    "        true_pos = len([score for score in positive if score[1] == 1])\n",
    "        sensitivity_distinct.append(true_pos / positive_lbls)\n",
    "    return sensitivity_distinct\n",
    "\n",
    "def specificity (distinct, negative_lbls):\n",
    "    specificity_distinct = []\n",
    "    for i, score in enumerate(distinct):\n",
    "        negative = distinct[:i]\n",
    "        true_neg = len([score for score in negative if score[1] == 0])\n",
    "        specificity_distinct.append(1 - true_neg / negative_lbls)\n",
    "    return specificity_distinct"
   ]
  },
  {
   "cell_type": "code",
   "execution_count": 149,
   "metadata": {},
   "outputs": [],
   "source": [
    "# auc output (score and plots) for the desired files\n",
    "def auc_output (test_file, train_file, labels_file, alphabet, n_values, r_values, title, title_num):\n",
    "    fig = plt.figure()\n",
    "    for n in n_values: \n",
    "        for r in r_values:\n",
    "            results = terminal_output_chunks(test_file, train_file, alphabet, n=n, r=r)\n",
    "            \n",
    "            labels = [int(i) for i in labels_file]\n",
    "            distinct_anomaly = np.unique(results)\n",
    "            \n",
    "            anomaly_labels = tuple(zip(distinct_anomaly, labels))\n",
    "            sorted_distinct = sorted(anomaly_labels, key=lambda tup: tup[0])\n",
    "        \n",
    "            auc_roc_score = metrics.roc_auc_score(labels, results)\n",
    "\n",
    "            positive_lbls = len([x for x in labels if x == 1])\n",
    "            negative_lbls = len([x for x in labels if x == 0])\n",
    "\n",
    "            sensitivity_auc = sensitivity(sorted_distinct, positive_lbls) \n",
    "            specificity_auc = specificity(sorted_distinct, negative_lbls)\n",
    "\n",
    "            print(min(sensitivity_auc), max(sensitivity_auc))\n",
    "            print(min(specificity_auc), max(specificity_auc))\n",
    "            \n",
    "            plt.plot(sorted(sensitivity_auc), sorted(specificity_auc), label=f\"n={n}, r={r}; AUC: {np.round(auc_roc_score,3)}\")\n",
    "        \n",
    "    plt.plot([0, 1], [0, 1], lw=1, linestyle='--')\n",
    "    plt.xlim([0.0, 1.0])\n",
    "    plt.ylim([0.0, 1.0])\n",
    "    plt.xlabel('sensitivity')\n",
    "    plt.ylabel('specificity') \n",
    "    plt.legend()\n",
    "    plt.title(f\"ROC-curve, {title}.{title_num}\")\n",
    "\n",
    "    fig.savefig('{}/task2_ROC_{}_{}.png'.format(os.path.join(os.getcwd(), results_folder), title, title_num))\n",
    "\n",
    "    plt.show()"
   ]
  },
  {
   "cell_type": "code",
   "execution_count": 143,
   "metadata": {},
   "outputs": [
    {
     "ename": "KeyboardInterrupt",
     "evalue": "",
     "output_type": "error",
     "traceback": [
      "\u001b[0;31m---------------------------------------------------------------------------\u001b[0m",
      "\u001b[0;31mKeyboardInterrupt\u001b[0m                         Traceback (most recent call last)",
      "\u001b[0;32m<ipython-input-143-7515d80958ea>\u001b[0m in \u001b[0;36m<module>\u001b[0;34m\u001b[0m\n\u001b[1;32m      8\u001b[0m         \u001b[0mlabels\u001b[0m \u001b[0;34m=\u001b[0m \u001b[0mload_data\u001b[0m\u001b[0;34m(\u001b[0m\u001b[0;34mf\"{results_folder}/{subfolders[i]}.{test_files_indexes[j]}.labels\"\u001b[0m\u001b[0;34m)\u001b[0m\u001b[0;34m\u001b[0m\u001b[0;34m\u001b[0m\u001b[0m\n\u001b[1;32m      9\u001b[0m         \u001b[0malpha_file\u001b[0m \u001b[0;34m=\u001b[0m \u001b[0;34mf\"{syscalls_folder}/{subfolders[i]}/{subfolders[i]}.alpha\"\u001b[0m\u001b[0;34m\u001b[0m\u001b[0;34m\u001b[0m\u001b[0m\n\u001b[0;32m---> 10\u001b[0;31m         \u001b[0mauc_output\u001b[0m\u001b[0;34m(\u001b[0m\u001b[0mtest_file\u001b[0m\u001b[0;34m,\u001b[0m \u001b[0mtrain_file\u001b[0m\u001b[0;34m,\u001b[0m \u001b[0mlabels\u001b[0m\u001b[0;34m,\u001b[0m \u001b[0malpha_file\u001b[0m\u001b[0;34m,\u001b[0m \u001b[0mn_values\u001b[0m\u001b[0;34m,\u001b[0m \u001b[0mr_values\u001b[0m\u001b[0;34m,\u001b[0m \u001b[0msubfolders\u001b[0m\u001b[0;34m[\u001b[0m\u001b[0mi\u001b[0m\u001b[0;34m]\u001b[0m\u001b[0;34m,\u001b[0m \u001b[0mtest_files_indexes\u001b[0m\u001b[0;34m[\u001b[0m\u001b[0mj\u001b[0m\u001b[0;34m]\u001b[0m\u001b[0;34m)\u001b[0m\u001b[0;34m\u001b[0m\u001b[0;34m\u001b[0m\u001b[0m\n\u001b[0m",
      "\u001b[0;32m<ipython-input-142-9b5abfb75933>\u001b[0m in \u001b[0;36mauc_output\u001b[0;34m(test_file, train_file, labels_file, alphabet, n_values, r_values, title, title_num)\u001b[0m\n\u001b[1;32m      4\u001b[0m     \u001b[0;32mfor\u001b[0m \u001b[0mn\u001b[0m \u001b[0;32min\u001b[0m \u001b[0mn_values\u001b[0m\u001b[0;34m:\u001b[0m\u001b[0;34m\u001b[0m\u001b[0;34m\u001b[0m\u001b[0m\n\u001b[1;32m      5\u001b[0m         \u001b[0;32mfor\u001b[0m \u001b[0mr\u001b[0m \u001b[0;32min\u001b[0m \u001b[0mr_values\u001b[0m\u001b[0;34m:\u001b[0m\u001b[0;34m\u001b[0m\u001b[0;34m\u001b[0m\u001b[0m\n\u001b[0;32m----> 6\u001b[0;31m             \u001b[0mresults\u001b[0m \u001b[0;34m=\u001b[0m \u001b[0mterminal_output_chunks\u001b[0m\u001b[0;34m(\u001b[0m\u001b[0mtest_file\u001b[0m\u001b[0;34m,\u001b[0m \u001b[0mtrain_file\u001b[0m\u001b[0;34m,\u001b[0m \u001b[0malphabet\u001b[0m\u001b[0;34m,\u001b[0m \u001b[0mn\u001b[0m\u001b[0;34m=\u001b[0m\u001b[0mn\u001b[0m\u001b[0;34m,\u001b[0m \u001b[0mr\u001b[0m\u001b[0;34m=\u001b[0m\u001b[0mr\u001b[0m\u001b[0;34m)\u001b[0m\u001b[0;34m\u001b[0m\u001b[0;34m\u001b[0m\u001b[0m\n\u001b[0m\u001b[1;32m      7\u001b[0m \u001b[0;34m\u001b[0m\u001b[0m\n\u001b[1;32m      8\u001b[0m             \u001b[0mlabels\u001b[0m \u001b[0;34m=\u001b[0m \u001b[0;34m[\u001b[0m\u001b[0mint\u001b[0m\u001b[0;34m(\u001b[0m\u001b[0mi\u001b[0m\u001b[0;34m)\u001b[0m \u001b[0;32mfor\u001b[0m \u001b[0mi\u001b[0m \u001b[0;32min\u001b[0m \u001b[0mlabels_file\u001b[0m\u001b[0;34m]\u001b[0m\u001b[0;34m\u001b[0m\u001b[0;34m\u001b[0m\u001b[0m\n",
      "\u001b[0;32m<ipython-input-132-004ca17dc63d>\u001b[0m in \u001b[0;36mterminal_output_chunks\u001b[0;34m(test_file, train_file, alpha_file, n, r)\u001b[0m\n\u001b[1;32m     18\u001b[0m                 \u001b[0mprocess\u001b[0m\u001b[0;34m.\u001b[0m\u001b[0mstdin\u001b[0m\u001b[0;34m.\u001b[0m\u001b[0mwrite\u001b[0m\u001b[0;34m(\u001b[0m\u001b[0;34mf'{unique_sequence}\\n'\u001b[0m\u001b[0;34m.\u001b[0m\u001b[0mencode\u001b[0m\u001b[0;34m(\u001b[0m\u001b[0;34m'utf-8'\u001b[0m\u001b[0;34m)\u001b[0m\u001b[0;34m)\u001b[0m\u001b[0;34m\u001b[0m\u001b[0;34m\u001b[0m\u001b[0m\n\u001b[1;32m     19\u001b[0m                 \u001b[0mprocess\u001b[0m\u001b[0;34m.\u001b[0m\u001b[0mstdin\u001b[0m\u001b[0;34m.\u001b[0m\u001b[0mflush\u001b[0m\u001b[0;34m(\u001b[0m\u001b[0;34m)\u001b[0m\u001b[0;34m\u001b[0m\u001b[0;34m\u001b[0m\u001b[0m\n\u001b[0;32m---> 20\u001b[0;31m                 \u001b[0moutput\u001b[0m \u001b[0;34m=\u001b[0m \u001b[0mprocess\u001b[0m\u001b[0;34m.\u001b[0m\u001b[0mstdout\u001b[0m\u001b[0;34m.\u001b[0m\u001b[0mreadline\u001b[0m\u001b[0;34m(\u001b[0m\u001b[0;34m)\u001b[0m\u001b[0;34m.\u001b[0m\u001b[0mdecode\u001b[0m\u001b[0;34m(\u001b[0m\u001b[0;34m\"utf-8\"\u001b[0m\u001b[0;34m)\u001b[0m\u001b[0;34m.\u001b[0m\u001b[0mstrip\u001b[0m\u001b[0;34m(\u001b[0m\u001b[0;34m)\u001b[0m\u001b[0;34m\u001b[0m\u001b[0;34m\u001b[0m\u001b[0m\n\u001b[0m\u001b[1;32m     21\u001b[0m                 \u001b[0mscore\u001b[0m \u001b[0;34m+=\u001b[0m \u001b[0mfloat\u001b[0m\u001b[0;34m(\u001b[0m\u001b[0moutput\u001b[0m\u001b[0;34m)\u001b[0m\u001b[0;34m\u001b[0m\u001b[0;34m\u001b[0m\u001b[0m\n\u001b[1;32m     22\u001b[0m             \u001b[0mscores_results\u001b[0m\u001b[0;34m.\u001b[0m\u001b[0mappend\u001b[0m\u001b[0;34m(\u001b[0m\u001b[0mscore\u001b[0m\u001b[0;34m/\u001b[0m\u001b[0mlen\u001b[0m\u001b[0;34m(\u001b[0m\u001b[0msubstrings\u001b[0m\u001b[0;34m)\u001b[0m\u001b[0;34m)\u001b[0m\u001b[0;34m\u001b[0m\u001b[0;34m\u001b[0m\u001b[0m\n",
      "\u001b[0;31mKeyboardInterrupt\u001b[0m: "
     ]
    },
    {
     "data": {
      "text/plain": [
       "<Figure size 432x288 with 0 Axes>"
      ]
     },
     "metadata": {},
     "output_type": "display_data"
    }
   ],
   "source": [
    "n_values = [7]\n",
    "r_values = [3,5,7]\n",
    "\n",
    "for i in range(len(subfolders)):\n",
    "    for j in range(len(test_files_indexes)):\n",
    "        train_file = f\"{results_folder}/{subfolders[i]}.train\"\n",
    "        test_file = f\"{results_folder}/{subfolders[i]}.{test_files_indexes[j]}.test\"\n",
    "        labels = load_data(f\"{results_folder}/{subfolders[i]}.{test_files_indexes[j]}.labels\")\n",
    "        alpha_file = f\"{syscalls_folder}/{subfolders[i]}/{subfolders[i]}.alpha\"\n",
    "        auc_output(test_file, train_file, labels, alpha_file, n_values, r_values, subfolders[i], test_files_indexes[j])"
   ]
  },
  {
   "cell_type": "code",
   "execution_count": 148,
   "metadata": {},
   "outputs": [
    {
     "ename": "ValueError",
     "evalue": "Found input variables with inconsistent numbers of samples: [45608, 224]",
     "output_type": "error",
     "traceback": [
      "\u001b[0;31m---------------------------------------------------------------------------\u001b[0m",
      "\u001b[0;31mValueError\u001b[0m                                Traceback (most recent call last)",
      "\u001b[0;32m<ipython-input-148-63ddeb92e2f3>\u001b[0m in \u001b[0;36m<module>\u001b[0;34m\u001b[0m\n\u001b[1;32m      9\u001b[0m \u001b[0mlabels\u001b[0m \u001b[0;34m=\u001b[0m \u001b[0mload_data\u001b[0m\u001b[0;34m(\u001b[0m\u001b[0;34mf\"{results_folder}/{subfolders[i]}.{test_files_indexes[j]}.labels\"\u001b[0m\u001b[0;34m)\u001b[0m\u001b[0;34m\u001b[0m\u001b[0;34m\u001b[0m\u001b[0m\n\u001b[1;32m     10\u001b[0m \u001b[0malpha_file\u001b[0m \u001b[0;34m=\u001b[0m \u001b[0;34mf\"{syscalls_folder}/{subfolders[i]}/{subfolders[i]}.alpha\"\u001b[0m\u001b[0;34m\u001b[0m\u001b[0;34m\u001b[0m\u001b[0m\n\u001b[0;32m---> 11\u001b[0;31m \u001b[0mauc_output\u001b[0m\u001b[0;34m(\u001b[0m\u001b[0mtest_file\u001b[0m\u001b[0;34m,\u001b[0m \u001b[0mtrain_file\u001b[0m\u001b[0;34m,\u001b[0m \u001b[0mlabels\u001b[0m\u001b[0;34m,\u001b[0m \u001b[0malpha_file\u001b[0m\u001b[0;34m,\u001b[0m \u001b[0mn_values\u001b[0m\u001b[0;34m,\u001b[0m \u001b[0mr_values\u001b[0m\u001b[0;34m,\u001b[0m \u001b[0msubfolders\u001b[0m\u001b[0;34m[\u001b[0m\u001b[0mi\u001b[0m\u001b[0;34m]\u001b[0m\u001b[0;34m,\u001b[0m \u001b[0mtest_files_indexes\u001b[0m\u001b[0;34m[\u001b[0m\u001b[0mj\u001b[0m\u001b[0;34m]\u001b[0m\u001b[0;34m)\u001b[0m\u001b[0;34m\u001b[0m\u001b[0;34m\u001b[0m\u001b[0m\n\u001b[0m",
      "\u001b[0;32m<ipython-input-147-a91983309b64>\u001b[0m in \u001b[0;36mauc_output\u001b[0;34m(test_file, train_file, labels_file, alphabet, n_values, r_values, title, title_num)\u001b[0m\n\u001b[1;32m     12\u001b[0m             \u001b[0msorted_distinct\u001b[0m \u001b[0;34m=\u001b[0m \u001b[0msorted\u001b[0m\u001b[0;34m(\u001b[0m\u001b[0manomaly_labels\u001b[0m\u001b[0;34m,\u001b[0m \u001b[0mkey\u001b[0m\u001b[0;34m=\u001b[0m\u001b[0;32mlambda\u001b[0m \u001b[0mtup\u001b[0m\u001b[0;34m:\u001b[0m \u001b[0mtup\u001b[0m\u001b[0;34m[\u001b[0m\u001b[0;36m0\u001b[0m\u001b[0;34m]\u001b[0m\u001b[0;34m)\u001b[0m\u001b[0;34m\u001b[0m\u001b[0;34m\u001b[0m\u001b[0m\n\u001b[1;32m     13\u001b[0m \u001b[0;34m\u001b[0m\u001b[0m\n\u001b[0;32m---> 14\u001b[0;31m             \u001b[0mauc_roc_score\u001b[0m \u001b[0;34m=\u001b[0m \u001b[0mmetrics\u001b[0m\u001b[0;34m.\u001b[0m\u001b[0mroc_auc_score\u001b[0m\u001b[0;34m(\u001b[0m\u001b[0mlabels\u001b[0m\u001b[0;34m,\u001b[0m \u001b[0msorted_distinct\u001b[0m\u001b[0;34m)\u001b[0m\u001b[0;34m\u001b[0m\u001b[0;34m\u001b[0m\u001b[0m\n\u001b[0m\u001b[1;32m     15\u001b[0m \u001b[0;34m\u001b[0m\u001b[0m\n\u001b[1;32m     16\u001b[0m             \u001b[0mpositive_lbls\u001b[0m \u001b[0;34m=\u001b[0m \u001b[0mlen\u001b[0m\u001b[0;34m(\u001b[0m\u001b[0;34m[\u001b[0m\u001b[0mx\u001b[0m \u001b[0;32mfor\u001b[0m \u001b[0mx\u001b[0m \u001b[0;32min\u001b[0m \u001b[0mlabels\u001b[0m \u001b[0;32mif\u001b[0m \u001b[0mx\u001b[0m \u001b[0;34m==\u001b[0m \u001b[0;36m1\u001b[0m\u001b[0;34m]\u001b[0m\u001b[0;34m)\u001b[0m\u001b[0;34m\u001b[0m\u001b[0;34m\u001b[0m\u001b[0m\n",
      "\u001b[0;32m~/anaconda3/lib/python3.7/site-packages/sklearn/metrics/ranking.py\u001b[0m in \u001b[0;36mroc_auc_score\u001b[0;34m(y_true, y_score, average, sample_weight, max_fpr)\u001b[0m\n\u001b[1;32m    353\u001b[0m     return _average_binary_score(\n\u001b[1;32m    354\u001b[0m         \u001b[0m_binary_roc_auc_score\u001b[0m\u001b[0;34m,\u001b[0m \u001b[0my_true\u001b[0m\u001b[0;34m,\u001b[0m \u001b[0my_score\u001b[0m\u001b[0;34m,\u001b[0m \u001b[0maverage\u001b[0m\u001b[0;34m,\u001b[0m\u001b[0;34m\u001b[0m\u001b[0;34m\u001b[0m\u001b[0m\n\u001b[0;32m--> 355\u001b[0;31m         sample_weight=sample_weight)\n\u001b[0m\u001b[1;32m    356\u001b[0m \u001b[0;34m\u001b[0m\u001b[0m\n\u001b[1;32m    357\u001b[0m \u001b[0;34m\u001b[0m\u001b[0m\n",
      "\u001b[0;32m~/anaconda3/lib/python3.7/site-packages/sklearn/metrics/base.py\u001b[0m in \u001b[0;36m_average_binary_score\u001b[0;34m(binary_metric, y_true, y_score, average, sample_weight)\u001b[0m\n\u001b[1;32m     74\u001b[0m \u001b[0;34m\u001b[0m\u001b[0m\n\u001b[1;32m     75\u001b[0m     \u001b[0;32mif\u001b[0m \u001b[0my_type\u001b[0m \u001b[0;34m==\u001b[0m \u001b[0;34m\"binary\"\u001b[0m\u001b[0;34m:\u001b[0m\u001b[0;34m\u001b[0m\u001b[0;34m\u001b[0m\u001b[0m\n\u001b[0;32m---> 76\u001b[0;31m         \u001b[0;32mreturn\u001b[0m \u001b[0mbinary_metric\u001b[0m\u001b[0;34m(\u001b[0m\u001b[0my_true\u001b[0m\u001b[0;34m,\u001b[0m \u001b[0my_score\u001b[0m\u001b[0;34m,\u001b[0m \u001b[0msample_weight\u001b[0m\u001b[0;34m=\u001b[0m\u001b[0msample_weight\u001b[0m\u001b[0;34m)\u001b[0m\u001b[0;34m\u001b[0m\u001b[0;34m\u001b[0m\u001b[0m\n\u001b[0m\u001b[1;32m     77\u001b[0m \u001b[0;34m\u001b[0m\u001b[0m\n\u001b[1;32m     78\u001b[0m     \u001b[0mcheck_consistent_length\u001b[0m\u001b[0;34m(\u001b[0m\u001b[0my_true\u001b[0m\u001b[0;34m,\u001b[0m \u001b[0my_score\u001b[0m\u001b[0;34m,\u001b[0m \u001b[0msample_weight\u001b[0m\u001b[0;34m)\u001b[0m\u001b[0;34m\u001b[0m\u001b[0;34m\u001b[0m\u001b[0m\n",
      "\u001b[0;32m~/anaconda3/lib/python3.7/site-packages/sklearn/metrics/ranking.py\u001b[0m in \u001b[0;36m_binary_roc_auc_score\u001b[0;34m(y_true, y_score, sample_weight)\u001b[0m\n\u001b[1;32m    325\u001b[0m \u001b[0;34m\u001b[0m\u001b[0m\n\u001b[1;32m    326\u001b[0m         fpr, tpr, _ = roc_curve(y_true, y_score,\n\u001b[0;32m--> 327\u001b[0;31m                                 sample_weight=sample_weight)\n\u001b[0m\u001b[1;32m    328\u001b[0m         \u001b[0;32mif\u001b[0m \u001b[0mmax_fpr\u001b[0m \u001b[0;32mis\u001b[0m \u001b[0;32mNone\u001b[0m \u001b[0;32mor\u001b[0m \u001b[0mmax_fpr\u001b[0m \u001b[0;34m==\u001b[0m \u001b[0;36m1\u001b[0m\u001b[0;34m:\u001b[0m\u001b[0;34m\u001b[0m\u001b[0;34m\u001b[0m\u001b[0m\n\u001b[1;32m    329\u001b[0m             \u001b[0;32mreturn\u001b[0m \u001b[0mauc\u001b[0m\u001b[0;34m(\u001b[0m\u001b[0mfpr\u001b[0m\u001b[0;34m,\u001b[0m \u001b[0mtpr\u001b[0m\u001b[0;34m)\u001b[0m\u001b[0;34m\u001b[0m\u001b[0;34m\u001b[0m\u001b[0m\n",
      "\u001b[0;32m~/anaconda3/lib/python3.7/site-packages/sklearn/metrics/ranking.py\u001b[0m in \u001b[0;36mroc_curve\u001b[0;34m(y_true, y_score, pos_label, sample_weight, drop_intermediate)\u001b[0m\n\u001b[1;32m    620\u001b[0m     \"\"\"\n\u001b[1;32m    621\u001b[0m     fps, tps, thresholds = _binary_clf_curve(\n\u001b[0;32m--> 622\u001b[0;31m         y_true, y_score, pos_label=pos_label, sample_weight=sample_weight)\n\u001b[0m\u001b[1;32m    623\u001b[0m \u001b[0;34m\u001b[0m\u001b[0m\n\u001b[1;32m    624\u001b[0m     \u001b[0;31m# Attempt to drop thresholds corresponding to points in between and\u001b[0m\u001b[0;34m\u001b[0m\u001b[0;34m\u001b[0m\u001b[0;34m\u001b[0m\u001b[0m\n",
      "\u001b[0;32m~/anaconda3/lib/python3.7/site-packages/sklearn/metrics/ranking.py\u001b[0m in \u001b[0;36m_binary_clf_curve\u001b[0;34m(y_true, y_score, pos_label, sample_weight)\u001b[0m\n\u001b[1;32m    396\u001b[0m         \u001b[0;32mraise\u001b[0m \u001b[0mValueError\u001b[0m\u001b[0;34m(\u001b[0m\u001b[0;34m\"{0} format is not supported\"\u001b[0m\u001b[0;34m.\u001b[0m\u001b[0mformat\u001b[0m\u001b[0;34m(\u001b[0m\u001b[0my_type\u001b[0m\u001b[0;34m)\u001b[0m\u001b[0;34m)\u001b[0m\u001b[0;34m\u001b[0m\u001b[0;34m\u001b[0m\u001b[0m\n\u001b[1;32m    397\u001b[0m \u001b[0;34m\u001b[0m\u001b[0m\n\u001b[0;32m--> 398\u001b[0;31m     \u001b[0mcheck_consistent_length\u001b[0m\u001b[0;34m(\u001b[0m\u001b[0my_true\u001b[0m\u001b[0;34m,\u001b[0m \u001b[0my_score\u001b[0m\u001b[0;34m,\u001b[0m \u001b[0msample_weight\u001b[0m\u001b[0;34m)\u001b[0m\u001b[0;34m\u001b[0m\u001b[0;34m\u001b[0m\u001b[0m\n\u001b[0m\u001b[1;32m    399\u001b[0m     \u001b[0my_true\u001b[0m \u001b[0;34m=\u001b[0m \u001b[0mcolumn_or_1d\u001b[0m\u001b[0;34m(\u001b[0m\u001b[0my_true\u001b[0m\u001b[0;34m)\u001b[0m\u001b[0;34m\u001b[0m\u001b[0;34m\u001b[0m\u001b[0m\n\u001b[1;32m    400\u001b[0m     \u001b[0my_score\u001b[0m \u001b[0;34m=\u001b[0m \u001b[0mcolumn_or_1d\u001b[0m\u001b[0;34m(\u001b[0m\u001b[0my_score\u001b[0m\u001b[0;34m)\u001b[0m\u001b[0;34m\u001b[0m\u001b[0;34m\u001b[0m\u001b[0m\n",
      "\u001b[0;32m~/anaconda3/lib/python3.7/site-packages/sklearn/utils/validation.py\u001b[0m in \u001b[0;36mcheck_consistent_length\u001b[0;34m(*arrays)\u001b[0m\n\u001b[1;32m    203\u001b[0m     \u001b[0;32mif\u001b[0m \u001b[0mlen\u001b[0m\u001b[0;34m(\u001b[0m\u001b[0muniques\u001b[0m\u001b[0;34m)\u001b[0m \u001b[0;34m>\u001b[0m \u001b[0;36m1\u001b[0m\u001b[0;34m:\u001b[0m\u001b[0;34m\u001b[0m\u001b[0;34m\u001b[0m\u001b[0m\n\u001b[1;32m    204\u001b[0m         raise ValueError(\"Found input variables with inconsistent numbers of\"\n\u001b[0;32m--> 205\u001b[0;31m                          \" samples: %r\" % [int(l) for l in lengths])\n\u001b[0m\u001b[1;32m    206\u001b[0m \u001b[0;34m\u001b[0m\u001b[0m\n\u001b[1;32m    207\u001b[0m \u001b[0;34m\u001b[0m\u001b[0m\n",
      "\u001b[0;31mValueError\u001b[0m: Found input variables with inconsistent numbers of samples: [45608, 224]"
     ]
    },
    {
     "data": {
      "text/plain": [
       "<Figure size 432x288 with 0 Axes>"
      ]
     },
     "metadata": {},
     "output_type": "display_data"
    }
   ],
   "source": [
    "n_values = [7]\n",
    "r_values = [3]\n",
    "\n",
    "i = 0\n",
    "j = 0\n",
    "\n",
    "train_file = f\"{results_folder}/{subfolders[i]}.train\"\n",
    "test_file = f\"{results_folder}/{subfolders[i]}.{test_files_indexes[j]}.test\"\n",
    "labels = load_data(f\"{results_folder}/{subfolders[i]}.{test_files_indexes[j]}.labels\")\n",
    "alpha_file = f\"{syscalls_folder}/{subfolders[i]}/{subfolders[i]}.alpha\"\n",
    "auc_output(test_file, train_file, labels, alpha_file, n_values, r_values, subfolders[i], test_files_indexes[j])"
   ]
  },
  {
   "cell_type": "code",
   "execution_count": null,
   "metadata": {},
   "outputs": [],
   "source": []
  }
 ],
 "metadata": {
  "kernelspec": {
   "display_name": "Python 3",
   "language": "python",
   "name": "python3"
  },
  "language_info": {
   "codemirror_mode": {
    "name": "ipython",
    "version": 3
   },
   "file_extension": ".py",
   "mimetype": "text/x-python",
   "name": "python",
   "nbconvert_exporter": "python",
   "pygments_lexer": "ipython3",
   "version": "3.7.3"
  }
 },
 "nbformat": 4,
 "nbformat_minor": 2
}
