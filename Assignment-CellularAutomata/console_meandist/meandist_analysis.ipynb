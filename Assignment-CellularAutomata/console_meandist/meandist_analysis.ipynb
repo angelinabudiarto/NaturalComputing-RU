{
  "cells": [
    {
      "cell_type": "code",
      "metadata": {
        "tags": [],
        "cell_id": "00000-362cc8f4-6f00-4c8f-993d-513ff1f7b5f1",
        "deepnote_to_be_reexecuted": false,
        "source_hash": "7fd56b45",
        "execution_millis": 0,
        "execution_start": 1617624560868,
        "deepnote_cell_type": "code"
      },
      "source": "import numpy as np\n\ndef mean_dist_sim (file_n):\n    file_name = \"%s.txt\" % (file_n)\n    file_open = open(file_name, \"r\")\n\n    mean_dist = []\n    for line in file_open:\n        mean_dist_i = line.rsplit()[1]\n        #print(mean_dist_i)\n        mean_dist.append(float(mean_dist_i))\n    file_open.close()\n\n    print(\"Mean distance of cells in the simulation (\", file_name, \") is: \", np.average(mean_dist))\n    return(np.average(mean_dist))\n",
      "execution_count": 25,
      "outputs": []
    },
    {
      "cell_type": "code",
      "metadata": {
        "tags": [],
        "cell_id": "00001-4ad1d414-657d-4d28-8151-16aabd11d680",
        "deepnote_to_be_reexecuted": false,
        "source_hash": "4dd7623c",
        "execution_millis": 51,
        "execution_start": 1617624748218,
        "deepnote_cell_type": "code"
      },
      "source": "file_names = (\"Console-start\", \"Console-start-circular\", \"Console-grid\", \n                \"Console-grid-c10o1\", \"Console-grid-c10o9\", \"Console-grid-c10o49\",\n                \"Console-grid-c50o1\", \"Console-grid-c50o9\", \"Console-grid-c50o49\",\n                \"Console-grid-c100o1\", \"Console-grid-c100o9\", \"Console-grid-c100o49\")\n\nfor file_n in file_names:\n    mean_dist_sim (file_n)",
      "execution_count": 28,
      "outputs": [
        {
          "name": "stdout",
          "text": "Mean distance of cells in the simulation ( Console-start.txt ) is:  0.1108041898798168\nMean distance of cells in the simulation ( Console-start-circular.txt ) is:  0.3906429629171295\nMean distance of cells in the simulation ( Console-grid.txt ) is:  0.16969827728211684\nMean distance of cells in the simulation ( Console-grid-c10o1.txt ) is:  0.2740772844551018\nMean distance of cells in the simulation ( Console-grid-c10o9.txt ) is:  0.13348697031995738\nMean distance of cells in the simulation ( Console-grid-c10o49.txt ) is:  0.5635645530523095\nMean distance of cells in the simulation ( Console-grid-c50o1.txt ) is:  0.39665891119440455\nMean distance of cells in the simulation ( Console-grid-c50o9.txt ) is:  0.25819632416662314\nMean distance of cells in the simulation ( Console-grid-c50o49.txt ) is:  0.24399265774072074\nMean distance of cells in the simulation ( Console-grid-c100o1.txt ) is:  0.31794813172661207\nMean distance of cells in the simulation ( Console-grid-c100o9.txt ) is:  0.3281597167007807\nMean distance of cells in the simulation ( Console-grid-c100o49.txt ) is:  0.22572461028451227\n",
          "output_type": "stream"
        }
      ]
    },
    {
      "cell_type": "markdown",
      "source": "<a style='text-decoration:none;line-height:16px;display:flex;color:#5B5B62;padding:10px;justify-content:end;' href='https://deepnote.com?utm_source=created-in-deepnote-cell&projectId=a99332b8-5d3d-47fa-8230-1d208927ff84' target=\"_blank\">\n<img alt='Created in deepnote.com' style='display:inline;max-height:16px;margin:0px;margin-right:7.5px;' src='data:image/svg+xml;base64,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' > </img>\nCreated in <span style='font-weight:600;margin-left:4px;'>Deepnote</span></a>",
      "metadata": {
        "tags": [],
        "created_in_deepnote_cell": true,
        "deepnote_cell_type": "markdown"
      }
    }
  ],
  "nbformat": 4,
  "nbformat_minor": 2,
  "metadata": {
    "orig_nbformat": 2,
    "deepnote_notebook_id": "b300f7a8-8c16-4af7-b8eb-782b327ad328",
    "deepnote": {},
    "deepnote_execution_queue": []
  }
}