{
 "cells": [
  {
   "cell_type": "markdown",
   "id": "aboriginal-complex",
   "metadata": {
    "papermill": {
     "duration": 0.016399,
     "end_time": "2021-06-09T19:49:19.299189",
     "exception": false,
     "start_time": "2021-06-09T19:49:19.282790",
     "status": "completed"
    },
    "tags": []
   },
   "source": [
    "## Natural Computing - Genetic Algorithm with PyGAD\n",
    "This notebook is used on Kaggle for the Natural Computing project.\n",
    "In this notebook the dataset Metastatic Tissue Classification - PatchCamelyon (`metastatic-tissue-classification-patchcamelyon`) is used."
   ]
  },
  {
   "cell_type": "markdown",
   "id": "structured-triangle",
   "metadata": {
    "papermill": {
     "duration": 0.015271,
     "end_time": "2021-06-09T19:49:19.330148",
     "exception": false,
     "start_time": "2021-06-09T19:49:19.314877",
     "status": "completed"
    },
    "tags": []
   },
   "source": [
    "First install pygad for later use, since this isn't included in the default Kaggle workspace."
   ]
  },
  {
   "cell_type": "code",
   "execution_count": 1,
   "id": "tribal-reducing",
   "metadata": {
    "execution": {
     "iopub.execute_input": "2021-06-09T19:49:19.381431Z",
     "iopub.status.busy": "2021-06-09T19:49:19.380473Z",
     "iopub.status.idle": "2021-06-09T19:49:26.890068Z",
     "shell.execute_reply": "2021-06-09T19:49:26.889517Z",
     "shell.execute_reply.started": "2021-06-09T12:05:25.565046Z"
    },
    "papermill": {
     "duration": 7.544618,
     "end_time": "2021-06-09T19:49:26.890212",
     "exception": false,
     "start_time": "2021-06-09T19:49:19.345594",
     "status": "completed"
    },
    "tags": []
   },
   "outputs": [
    {
     "name": "stdout",
     "output_type": "stream",
     "text": [
      "Collecting pygad\r\n",
      "  Downloading pygad-2.14.3-py3-none-any.whl (46 kB)\r\n",
      "\u001b[K     |████████████████████████████████| 46 kB 445 kB/s \r\n",
      "\u001b[?25hRequirement already satisfied: matplotlib in /opt/conda/lib/python3.7/site-packages (from pygad) (3.4.1)\r\n",
      "Requirement already satisfied: numpy in /opt/conda/lib/python3.7/site-packages (from pygad) (1.19.5)\r\n",
      "Requirement already satisfied: python-dateutil>=2.7 in /opt/conda/lib/python3.7/site-packages (from matplotlib->pygad) (2.8.1)\r\n",
      "Requirement already satisfied: cycler>=0.10 in /opt/conda/lib/python3.7/site-packages (from matplotlib->pygad) (0.10.0)\r\n",
      "Requirement already satisfied: kiwisolver>=1.0.1 in /opt/conda/lib/python3.7/site-packages (from matplotlib->pygad) (1.3.1)\r\n",
      "Requirement already satisfied: pyparsing>=2.2.1 in /opt/conda/lib/python3.7/site-packages (from matplotlib->pygad) (2.4.7)\r\n",
      "Requirement already satisfied: pillow>=6.2.0 in /opt/conda/lib/python3.7/site-packages (from matplotlib->pygad) (7.2.0)\r\n",
      "Requirement already satisfied: six in /opt/conda/lib/python3.7/site-packages (from cycler>=0.10->matplotlib->pygad) (1.15.0)\r\n",
      "Installing collected packages: pygad\r\n",
      "Successfully installed pygad-2.14.3\r\n"
     ]
    }
   ],
   "source": [
    "!pip install pygad"
   ]
  },
  {
   "cell_type": "code",
   "execution_count": 2,
   "id": "floppy-registrar",
   "metadata": {
    "execution": {
     "iopub.execute_input": "2021-06-09T19:49:26.931698Z",
     "iopub.status.busy": "2021-06-09T19:49:26.930960Z",
     "iopub.status.idle": "2021-06-09T19:49:32.448154Z",
     "shell.execute_reply": "2021-06-09T19:49:32.447214Z",
     "shell.execute_reply.started": "2021-06-09T12:05:35.43079Z"
    },
    "papermill": {
     "duration": 5.539785,
     "end_time": "2021-06-09T19:49:32.448329",
     "exception": false,
     "start_time": "2021-06-09T19:49:26.908544",
     "status": "completed"
    },
    "tags": []
   },
   "outputs": [],
   "source": [
    "import tensorflow.keras\n",
    "import pygad.kerasga\n",
    "import numpy as np\n",
    "import pandas as pd\n",
    "import pygad\n",
    "import cv2\n",
    "import h5py\n",
    "\n",
    "from keras.datasets import mnist\n",
    "from keras.preprocessing import image\n",
    "from keras.applications.vgg16 import VGG16, preprocess_input\n",
    "from keras.layers import Input, Flatten, Dense, Dropout\n",
    "from keras.models import Model\n",
    "from sklearn.metrics import confusion_matrix"
   ]
  },
  {
   "cell_type": "markdown",
   "id": "latter-syndrome",
   "metadata": {
    "papermill": {
     "duration": 0.017707,
     "end_time": "2021-06-09T19:49:32.483911",
     "exception": false,
     "start_time": "2021-06-09T19:49:32.466204",
     "status": "completed"
    },
    "tags": []
   },
   "source": [
    "#### Data\n",
    "Import the data from the dataset and define the number of samples from the train set to run with the Genetic Algorithm."
   ]
  },
  {
   "cell_type": "code",
   "execution_count": 3,
   "id": "naval-liability",
   "metadata": {
    "execution": {
     "iopub.execute_input": "2021-06-09T19:49:33.495197Z",
     "iopub.status.busy": "2021-06-09T19:49:33.493862Z",
     "iopub.status.idle": "2021-06-09T19:49:43.679030Z",
     "shell.execute_reply": "2021-06-09T19:49:43.678576Z",
     "shell.execute_reply.started": "2021-06-09T12:05:42.672763Z"
    },
    "papermill": {
     "duration": 11.177639,
     "end_time": "2021-06-09T19:49:43.679159",
     "exception": false,
     "start_time": "2021-06-09T19:49:32.501520",
     "status": "completed"
    },
    "tags": []
   },
   "outputs": [],
   "source": [
    "num_samples = 1000\n",
    "\n",
    "x_train = []\n",
    "y_train = []\n",
    "\n",
    "x_test = []\n",
    "y_test = []\n",
    "\n",
    "with h5py.File('/kaggle/input/metastatic-tissue-classification-patchcamelyon/pcam/training_split.h5', 'r') as f:\n",
    "    x_train = np.array(f['x'][:num_samples])\n",
    "    \n",
    "with h5py.File('/kaggle/input/metastatic-tissue-classification-patchcamelyon/Labels/Labels/camelyonpatch_level_2_split_train_y.h5', 'r') as f:\n",
    "    y_train = np.array(f['y'][:num_samples].flat)\n",
    "    \n",
    "with h5py.File('/kaggle/input/metastatic-tissue-classification-patchcamelyon/pcam/test_split.h5', 'r') as f:\n",
    "    x_test = np.array(f['x'][:])\n",
    "    \n",
    "with h5py.File('/kaggle/input/metastatic-tissue-classification-patchcamelyon/Labels/Labels/camelyonpatch_level_2_split_test_y.h5', 'r') as f:\n",
    "    y_test = np.array(f['y'][:].flat)"
   ]
  },
  {
   "cell_type": "code",
   "execution_count": 4,
   "id": "empty-sweden",
   "metadata": {
    "execution": {
     "iopub.execute_input": "2021-06-09T19:49:43.719442Z",
     "iopub.status.busy": "2021-06-09T19:49:43.718199Z",
     "iopub.status.idle": "2021-06-09T19:49:43.721403Z",
     "shell.execute_reply": "2021-06-09T19:49:43.721955Z",
     "shell.execute_reply.started": "2021-06-09T12:05:52.854068Z"
    },
    "papermill": {
     "duration": 0.025353,
     "end_time": "2021-06-09T19:49:43.722105",
     "exception": false,
     "start_time": "2021-06-09T19:49:43.696752",
     "status": "completed"
    },
    "tags": []
   },
   "outputs": [
    {
     "name": "stdout",
     "output_type": "stream",
     "text": [
      "(1000, 96, 96, 3) (1000,)\n",
      "(32768, 96, 96, 3) (32768,)\n"
     ]
    }
   ],
   "source": [
    "print(x_train.shape, y_train.shape)\n",
    "print(x_test.shape, y_test.shape)"
   ]
  },
  {
   "cell_type": "code",
   "execution_count": 5,
   "id": "convinced-storm",
   "metadata": {
    "execution": {
     "iopub.execute_input": "2021-06-09T19:49:43.760984Z",
     "iopub.status.busy": "2021-06-09T19:49:43.760501Z",
     "iopub.status.idle": "2021-06-09T19:49:43.764019Z",
     "shell.execute_reply": "2021-06-09T19:49:43.763575Z",
     "shell.execute_reply.started": "2021-06-09T12:05:52.876439Z"
    },
    "papermill": {
     "duration": 0.023552,
     "end_time": "2021-06-09T19:49:43.764115",
     "exception": false,
     "start_time": "2021-06-09T19:49:43.740563",
     "status": "completed"
    },
    "tags": []
   },
   "outputs": [],
   "source": [
    "input_img = (96, 96, 3) #All images in PatchCamelyon are in this shape, use for the input_shape of the Keras model"
   ]
  },
  {
   "cell_type": "markdown",
   "id": "isolated-intro",
   "metadata": {
    "papermill": {
     "duration": 0.017273,
     "end_time": "2021-06-09T19:49:43.798980",
     "exception": false,
     "start_time": "2021-06-09T19:49:43.781707",
     "status": "completed"
    },
    "tags": []
   },
   "source": [
    "Setup of the Keras model VGG16"
   ]
  },
  {
   "cell_type": "code",
   "execution_count": 6,
   "id": "isolated-russian",
   "metadata": {
    "execution": {
     "iopub.execute_input": "2021-06-09T19:49:43.840848Z",
     "iopub.status.busy": "2021-06-09T19:49:43.840369Z",
     "iopub.status.idle": "2021-06-09T19:49:47.211186Z",
     "shell.execute_reply": "2021-06-09T19:49:47.211616Z",
     "shell.execute_reply.started": "2021-06-09T12:05:52.889263Z"
    },
    "papermill": {
     "duration": 3.395403,
     "end_time": "2021-06-09T19:49:47.211768",
     "exception": false,
     "start_time": "2021-06-09T19:49:43.816365",
     "status": "completed"
    },
    "tags": []
   },
   "outputs": [
    {
     "name": "stdout",
     "output_type": "stream",
     "text": [
      "Downloading data from https://storage.googleapis.com/tensorflow/keras-applications/vgg16/vgg16_weights_tf_dim_ordering_tf_kernels_notop.h5\n",
      "58892288/58889256 [==============================] - 1s 0us/step\n",
      "Model: \"model\"\n",
      "_________________________________________________________________\n",
      "Layer (type)                 Output Shape              Param #   \n",
      "=================================================================\n",
      "input_1 (InputLayer)         [(None, 96, 96, 3)]       0         \n",
      "_________________________________________________________________\n",
      "block1_conv1 (Conv2D)        (None, 96, 96, 64)        1792      \n",
      "_________________________________________________________________\n",
      "block1_conv2 (Conv2D)        (None, 96, 96, 64)        36928     \n",
      "_________________________________________________________________\n",
      "block1_pool (MaxPooling2D)   (None, 48, 48, 64)        0         \n",
      "_________________________________________________________________\n",
      "block2_conv1 (Conv2D)        (None, 48, 48, 128)       73856     \n",
      "_________________________________________________________________\n",
      "block2_conv2 (Conv2D)        (None, 48, 48, 128)       147584    \n",
      "_________________________________________________________________\n",
      "block2_pool (MaxPooling2D)   (None, 24, 24, 128)       0         \n",
      "_________________________________________________________________\n",
      "block3_conv1 (Conv2D)        (None, 24, 24, 256)       295168    \n",
      "_________________________________________________________________\n",
      "block3_conv2 (Conv2D)        (None, 24, 24, 256)       590080    \n",
      "_________________________________________________________________\n",
      "block3_conv3 (Conv2D)        (None, 24, 24, 256)       590080    \n",
      "_________________________________________________________________\n",
      "block3_pool (MaxPooling2D)   (None, 12, 12, 256)       0         \n",
      "_________________________________________________________________\n",
      "block4_conv1 (Conv2D)        (None, 12, 12, 512)       1180160   \n",
      "_________________________________________________________________\n",
      "block4_conv2 (Conv2D)        (None, 12, 12, 512)       2359808   \n",
      "_________________________________________________________________\n",
      "block4_conv3 (Conv2D)        (None, 12, 12, 512)       2359808   \n",
      "_________________________________________________________________\n",
      "block4_pool (MaxPooling2D)   (None, 6, 6, 512)         0         \n",
      "_________________________________________________________________\n",
      "block5_conv1 (Conv2D)        (None, 6, 6, 512)         2359808   \n",
      "_________________________________________________________________\n",
      "block5_conv2 (Conv2D)        (None, 6, 6, 512)         2359808   \n",
      "_________________________________________________________________\n",
      "block5_conv3 (Conv2D)        (None, 6, 6, 512)         2359808   \n",
      "_________________________________________________________________\n",
      "block5_pool (MaxPooling2D)   (None, 3, 3, 512)         0         \n",
      "_________________________________________________________________\n",
      "flatten (Flatten)            (None, 4608)              0         \n",
      "_________________________________________________________________\n",
      "dense (Dense)                (None, 2)                 9218      \n",
      "=================================================================\n",
      "Total params: 14,723,906\n",
      "Trainable params: 9,218\n",
      "Non-trainable params: 14,714,688\n",
      "_________________________________________________________________\n",
      "None\n"
     ]
    }
   ],
   "source": [
    "vgg_model = VGG16(weights='imagenet', include_top=False, input_shape=input_img)\n",
    "\n",
    "for layer in vgg_model.layers:\n",
    "    layer.trainable = False\n",
    "\n",
    "x = vgg_model.output\n",
    "x = Flatten()(x)\n",
    "x = Dense(2, activation='softmax')(x)\n",
    "\n",
    "model = Model(inputs=vgg_model.input, outputs=x)\n",
    "print(model.summary())"
   ]
  },
  {
   "cell_type": "code",
   "execution_count": 7,
   "id": "subtle-navigation",
   "metadata": {
    "execution": {
     "iopub.execute_input": "2021-06-09T19:49:47.259113Z",
     "iopub.status.busy": "2021-06-09T19:49:47.258629Z",
     "iopub.status.idle": "2021-06-09T19:49:47.268927Z",
     "shell.execute_reply": "2021-06-09T19:49:47.268535Z",
     "shell.execute_reply.started": "2021-06-09T12:05:56.997657Z"
    },
    "papermill": {
     "duration": 0.03492,
     "end_time": "2021-06-09T19:49:47.269032",
     "exception": false,
     "start_time": "2021-06-09T19:49:47.234112",
     "status": "completed"
    },
    "tags": []
   },
   "outputs": [],
   "source": [
    "keras_ga = pygad.kerasga.KerasGA(model=model, num_solutions=10)"
   ]
  },
  {
   "cell_type": "markdown",
   "id": "developed-allowance",
   "metadata": {
    "papermill": {
     "duration": 0.021391,
     "end_time": "2021-06-09T19:49:47.312001",
     "exception": false,
     "start_time": "2021-06-09T19:49:47.290610",
     "status": "completed"
    },
    "tags": []
   },
   "source": [
    "#### Fitness function\n",
    "Define the fitness function:\n",
    "- Form the model weights for usage in the VGG16 model\n",
    "- Apply the model weights\n",
    "- Predict the train set with updated model\n",
    "- Calculate Binary Crossentropy\n",
    "- Define fitness score\n",
    "- Return fitness score for particular solution"
   ]
  },
  {
   "cell_type": "code",
   "execution_count": 8,
   "id": "adjacent-coach",
   "metadata": {
    "execution": {
     "iopub.execute_input": "2021-06-09T19:49:47.360158Z",
     "iopub.status.busy": "2021-06-09T19:49:47.359660Z",
     "iopub.status.idle": "2021-06-09T19:49:47.363174Z",
     "shell.execute_reply": "2021-06-09T19:49:47.363575Z",
     "shell.execute_reply.started": "2021-06-09T12:23:37.853176Z"
    },
    "papermill": {
     "duration": 0.030119,
     "end_time": "2021-06-09T19:49:47.363718",
     "exception": false,
     "start_time": "2021-06-09T19:49:47.333599",
     "status": "completed"
    },
    "tags": []
   },
   "outputs": [],
   "source": [
    "def fitness_func(solution, sol_idx):\n",
    "    global x_train, y_train, keras_ga, model\n",
    "    \n",
    "    model_weights_matrix = pygad.kerasga.model_weights_as_matrix(model=model, weights_vector=solution)\n",
    "\n",
    "    model.set_weights(model_weights_matrix)\n",
    "    \n",
    "    predictions = model.predict(x_train)\n",
    "    \n",
    "    bce = tensorflow.keras.losses.BinaryCrossentropy()\n",
    "    solution_fitness = 1.0 / (bce(y_train, predictions).numpy() + 0.00000001)\n",
    "    \n",
    "    return solution_fitness"
   ]
  },
  {
   "cell_type": "markdown",
   "id": "increasing-finnish",
   "metadata": {
    "papermill": {
     "duration": 0.021923,
     "end_time": "2021-06-09T19:49:47.407492",
     "exception": false,
     "start_time": "2021-06-09T19:49:47.385569",
     "status": "completed"
    },
    "tags": []
   },
   "source": [
    "The callback generation is a way to displays information per generation. In this case we use this to display the generation number and the fitness score of the current best solution."
   ]
  },
  {
   "cell_type": "code",
   "execution_count": 9,
   "id": "guided-phoenix",
   "metadata": {
    "execution": {
     "iopub.execute_input": "2021-06-09T19:49:47.456265Z",
     "iopub.status.busy": "2021-06-09T19:49:47.454984Z",
     "iopub.status.idle": "2021-06-09T19:49:47.457560Z",
     "shell.execute_reply": "2021-06-09T19:49:47.457975Z",
     "shell.execute_reply.started": "2021-06-09T12:05:57.027689Z"
    },
    "papermill": {
     "duration": 0.028727,
     "end_time": "2021-06-09T19:49:47.458087",
     "exception": false,
     "start_time": "2021-06-09T19:49:47.429360",
     "status": "completed"
    },
    "tags": []
   },
   "outputs": [],
   "source": [
    "def callback_generation(ga_instance):\n",
    "    print(\"Generation = {generation}\".format(generation=ga_instance.generations_completed))\n",
    "    print(\"Fitness    = {fitness}\".format(fitness=ga_instance.best_solution()[1]))"
   ]
  },
  {
   "cell_type": "markdown",
   "id": "amended-commerce",
   "metadata": {
    "papermill": {
     "duration": 0.02135,
     "end_time": "2021-06-09T19:49:47.500973",
     "exception": false,
     "start_time": "2021-06-09T19:49:47.479623",
     "status": "completed"
    },
    "tags": []
   },
   "source": [
    "We form a categorical array from the y labels of train and test to make it easier to work with the Binary Cross Entropy."
   ]
  },
  {
   "cell_type": "code",
   "execution_count": 10,
   "id": "therapeutic-demand",
   "metadata": {
    "execution": {
     "iopub.execute_input": "2021-06-09T19:49:47.550572Z",
     "iopub.status.busy": "2021-06-09T19:49:47.548758Z",
     "iopub.status.idle": "2021-06-09T19:49:47.554308Z",
     "shell.execute_reply": "2021-06-09T19:49:47.553703Z",
     "shell.execute_reply.started": "2021-06-09T12:05:57.038124Z"
    },
    "papermill": {
     "duration": 0.03156,
     "end_time": "2021-06-09T19:49:47.554442",
     "exception": false,
     "start_time": "2021-06-09T19:49:47.522882",
     "status": "completed"
    },
    "tags": []
   },
   "outputs": [
    {
     "name": "stdout",
     "output_type": "stream",
     "text": [
      "1000 (1000, 2)\n",
      "32768 (32768, 2)\n"
     ]
    }
   ],
   "source": [
    "y_train = tensorflow.keras.utils.to_categorical(y_train)\n",
    "print(len(x_train),y_train.shape)\n",
    "\n",
    "y_test = tensorflow.keras.utils.to_categorical(y_test)\n",
    "print(len(x_test),y_test.shape)"
   ]
  },
  {
   "cell_type": "code",
   "execution_count": 11,
   "id": "functional-nicholas",
   "metadata": {
    "execution": {
     "iopub.execute_input": "2021-06-09T19:49:47.603397Z",
     "iopub.status.busy": "2021-06-09T19:49:47.602865Z",
     "iopub.status.idle": "2021-06-09T19:49:47.606710Z",
     "shell.execute_reply": "2021-06-09T19:49:47.606314Z",
     "shell.execute_reply.started": "2021-06-09T12:05:57.054073Z"
    },
    "papermill": {
     "duration": 0.029619,
     "end_time": "2021-06-09T19:49:47.606812",
     "exception": false,
     "start_time": "2021-06-09T19:49:47.577193",
     "status": "completed"
    },
    "tags": []
   },
   "outputs": [],
   "source": [
    "num_generations = 75 # Number of generations.\n",
    "num_parents_mating = 5 # Number of solutions to be selected as parents in the mating pool.\n",
    "initial_population = keras_ga.population_weights # Initial population of network weights.\n",
    "parent_selection_type = \"sss\" # Type of parent selection.\n",
    "crossover_type = \"single_point\" # Type of the crossover operator.\n",
    "mutation_type = \"random\" # Type of the mutation operator.\n",
    "mutation_percent_genes = 10 # Percentage of genes to mutate.\n",
    "keep_parents = 2 # Number of parents to keep in the next population."
   ]
  },
  {
   "cell_type": "markdown",
   "id": "small-railway",
   "metadata": {
    "papermill": {
     "duration": 0.022167,
     "end_time": "2021-06-09T19:49:47.650708",
     "exception": false,
     "start_time": "2021-06-09T19:49:47.628541",
     "status": "completed"
    },
    "tags": []
   },
   "source": [
    "#### PyGAD instance\n",
    "Below the PyGAD Genetic Algorithm gets instantiated with the parameters set up above. After that it will run it's generations and show the Iteration vs. Fitness result graph."
   ]
  },
  {
   "cell_type": "code",
   "execution_count": 12,
   "id": "civic-citizen",
   "metadata": {
    "execution": {
     "iopub.execute_input": "2021-06-09T19:49:47.699488Z",
     "iopub.status.busy": "2021-06-09T19:49:47.698686Z",
     "iopub.status.idle": "2021-06-10T04:15:26.933367Z",
     "shell.execute_reply": "2021-06-10T04:15:26.933733Z",
     "shell.execute_reply.started": "2021-06-09T12:23:40.504524Z"
    },
    "papermill": {
     "duration": 30339.261081,
     "end_time": "2021-06-10T04:15:26.933898",
     "exception": false,
     "start_time": "2021-06-09T19:49:47.672817",
     "status": "completed"
    },
    "tags": []
   },
   "outputs": [
    {
     "name": "stdout",
     "output_type": "stream",
     "text": [
      "Generation = 1\n",
      "Fitness    = 0.20514782932719894\n",
      "Generation = 2\n",
      "Fitness    = 0.20514782932719894\n",
      "Generation = 3\n",
      "Fitness    = 0.20514782932719894\n",
      "Generation = 4\n",
      "Fitness    = 0.20514782932719894\n",
      "Generation = 5\n",
      "Fitness    = 0.20514782932719894\n",
      "Generation = 6\n",
      "Fitness    = 0.20514782932719894\n",
      "Generation = 7\n",
      "Fitness    = 0.20514782932719894\n",
      "Generation = 8\n",
      "Fitness    = 0.20514782932719894\n",
      "Generation = 9\n",
      "Fitness    = 0.20514782932719894\n",
      "Generation = 10\n",
      "Fitness    = 0.20514782932719894\n",
      "Generation = 11\n",
      "Fitness    = 0.20514782932719894\n",
      "Generation = 12\n",
      "Fitness    = 0.20514782932719894\n",
      "Generation = 13\n",
      "Fitness    = 0.20514782932719894\n",
      "Generation = 14\n",
      "Fitness    = 0.20514782932719894\n",
      "Generation = 15\n",
      "Fitness    = 0.20679576041860817\n",
      "Generation = 16\n",
      "Fitness    = 0.20679576041860817\n",
      "Generation = 17\n",
      "Fitness    = 0.21182718008941168\n",
      "Generation = 18\n",
      "Fitness    = 0.2161285996116207\n",
      "Generation = 19\n",
      "Fitness    = 0.23085073891745886\n",
      "Generation = 20\n",
      "Fitness    = 0.24075112522629286\n",
      "Generation = 21\n",
      "Fitness    = 0.24075112522629286\n",
      "Generation = 22\n",
      "Fitness    = 0.24075112522629286\n",
      "Generation = 23\n",
      "Fitness    = 0.24075112522629286\n",
      "Generation = 24\n",
      "Fitness    = 0.24075112522629286\n",
      "Generation = 25\n",
      "Fitness    = 0.24075112522629286\n",
      "Generation = 26\n",
      "Fitness    = 0.24075112522629286\n",
      "Generation = 27\n",
      "Fitness    = 0.24556605017897468\n",
      "Generation = 28\n",
      "Fitness    = 0.25065160747450055\n",
      "Generation = 29\n",
      "Fitness    = 0.25065160747450055\n",
      "Generation = 30\n",
      "Fitness    = 0.25065160747450055\n",
      "Generation = 31\n",
      "Fitness    = 0.25272022027364266\n",
      "Generation = 32\n",
      "Fitness    = 0.2531768854655607\n",
      "Generation = 33\n",
      "Fitness    = 0.2531768854655607\n",
      "Generation = 34\n",
      "Fitness    = 0.2531768854655607\n",
      "Generation = 35\n",
      "Fitness    = 0.2531768854655607\n",
      "Generation = 36\n",
      "Fitness    = 0.2531768854655607\n",
      "Generation = 37\n",
      "Fitness    = 0.2531768854655607\n",
      "Generation = 38\n",
      "Fitness    = 0.2531768854655607\n",
      "Generation = 39\n",
      "Fitness    = 0.2531768854655607\n",
      "Generation = 40\n",
      "Fitness    = 0.2531768854655607\n",
      "Generation = 41\n",
      "Fitness    = 0.25374648155589774\n",
      "Generation = 42\n",
      "Fitness    = 0.2617740144660791\n",
      "Generation = 43\n",
      "Fitness    = 0.2626024375168986\n",
      "Generation = 44\n",
      "Fitness    = 0.2626024375168986\n",
      "Generation = 45\n",
      "Fitness    = 0.2626024375168986\n",
      "Generation = 46\n",
      "Fitness    = 0.2626024375168986\n",
      "Generation = 47\n",
      "Fitness    = 0.2626024375168986\n",
      "Generation = 48\n",
      "Fitness    = 0.26662621934620706\n",
      "Generation = 49\n",
      "Fitness    = 0.2680224862337437\n",
      "Generation = 50\n",
      "Fitness    = 0.2680224862337437\n",
      "Generation = 51\n",
      "Fitness    = 0.2680224862337437\n",
      "Generation = 52\n",
      "Fitness    = 0.2680224862337437\n",
      "Generation = 53\n",
      "Fitness    = 0.2680224862337437\n",
      "Generation = 54\n",
      "Fitness    = 0.2680224862337437\n",
      "Generation = 55\n",
      "Fitness    = 0.2680224862337437\n",
      "Generation = 56\n",
      "Fitness    = 0.2680224862337437\n",
      "Generation = 57\n",
      "Fitness    = 0.2680224862337437\n",
      "Generation = 58\n",
      "Fitness    = 0.2680224862337437\n",
      "Generation = 59\n",
      "Fitness    = 0.2680224862337437\n",
      "Generation = 60\n",
      "Fitness    = 0.266922224081479\n",
      "Generation = 61\n",
      "Fitness    = 0.2680224862337437\n",
      "Generation = 62\n",
      "Fitness    = 0.2680224862337437\n",
      "Generation = 63\n",
      "Fitness    = 0.27239741243647764\n",
      "Generation = 64\n",
      "Fitness    = 0.27239741243647764\n",
      "Generation = 65\n",
      "Fitness    = 0.27239741243647764\n",
      "Generation = 66\n",
      "Fitness    = 0.27239741243647764\n",
      "Generation = 67\n",
      "Fitness    = 0.27258690586937523\n",
      "Generation = 68\n",
      "Fitness    = 0.2779640633453236\n",
      "Generation = 69\n",
      "Fitness    = 0.2779640633453236\n",
      "Generation = 70\n",
      "Fitness    = 0.2800389240751134\n",
      "Generation = 71\n",
      "Fitness    = 0.2800389240751134\n",
      "Generation = 72\n",
      "Fitness    = 0.2800389240751134\n",
      "Generation = 73\n",
      "Fitness    = 0.2800389240751134\n",
      "Generation = 74\n",
      "Fitness    = 0.2800389240751134\n",
      "Generation = 75\n",
      "Fitness    = 0.2800389240751134\n"
     ]
    },
    {
     "data": {
      "image/png": "[encoded data removed]",
      "text/plain": [
       "<Figure size 432x288 with 1 Axes>"
      ]
     },
     "metadata": {
      "needs_background": "light"
     },
     "output_type": "display_data"
    },
    {
     "data": {
      "image/png": "[encoded data removed]",
      "text/plain": [
       "<Figure size 432x288 with 1 Axes>"
      ]
     },
     "execution_count": 12,
     "metadata": {},
     "output_type": "execute_result"
    }
   ],
   "source": [
    "ga_instance = pygad.GA(num_generations=num_generations,\n",
    "                       num_parents_mating=num_parents_mating,\n",
    "                       initial_population=initial_population,\n",
    "                       fitness_func=fitness_func,\n",
    "                       parent_selection_type=parent_selection_type,\n",
    "                       crossover_type=crossover_type,\n",
    "                       mutation_type=mutation_type,\n",
    "                       mutation_percent_genes=mutation_percent_genes,\n",
    "                       keep_parents=keep_parents,\n",
    "                       on_generation=callback_generation)\n",
    "\n",
    "ga_instance.run()\n",
    "\n",
    "ga_instance.plot_result(title=\"PatchCamelyon GA - Iteration vs. Fitness\", linewidth=4)"
   ]
  },
  {
   "cell_type": "markdown",
   "id": "activated-liechtenstein",
   "metadata": {
    "papermill": {
     "duration": 0.059618,
     "end_time": "2021-06-10T04:15:27.053088",
     "exception": false,
     "start_time": "2021-06-10T04:15:26.993470",
     "status": "completed"
    },
    "tags": []
   },
   "source": [
    "Plotting the final best solution after all of the generations have been done."
   ]
  },
  {
   "cell_type": "code",
   "execution_count": 13,
   "id": "stuffed-quantum",
   "metadata": {
    "execution": {
     "iopub.execute_input": "2021-06-10T04:15:27.177803Z",
     "iopub.status.busy": "2021-06-10T04:15:27.176712Z",
     "iopub.status.idle": "2021-06-10T04:18:48.099020Z",
     "shell.execute_reply": "2021-06-10T04:18:48.099522Z",
     "shell.execute_reply.started": "2021-06-04T08:46:12.787563Z"
    },
    "papermill": {
     "duration": 200.986794,
     "end_time": "2021-06-10T04:18:48.099709",
     "exception": false,
     "start_time": "2021-06-10T04:15:27.112915",
     "status": "completed"
    },
    "tags": []
   },
   "outputs": [
    {
     "name": "stdout",
     "output_type": "stream",
     "text": [
      "Fitness value of the best solution = 0.2800389240751134\n",
      "Index of the best solution : 0\n"
     ]
    }
   ],
   "source": [
    "solution, solution_fitness, solution_idx = ga_instance.best_solution()\n",
    "print(\"Fitness value of the best solution = {solution_fitness}\".format(solution_fitness=solution_fitness))\n",
    "print(\"Index of the best solution : {solution_idx}\".format(solution_idx=solution_idx))\n"
   ]
  },
  {
   "cell_type": "markdown",
   "id": "raised-retail",
   "metadata": {
    "papermill": {
     "duration": 0.067528,
     "end_time": "2021-06-10T04:18:48.234565",
     "exception": false,
     "start_time": "2021-06-10T04:18:48.167037",
     "status": "completed"
    },
    "tags": []
   },
   "source": [
    "Now we will apply the best solution to our model. After that we will run the final predictions for both the test set as for the train set. Also with Binary Cross Entropy and Binary Accuracy."
   ]
  },
  {
   "cell_type": "code",
   "execution_count": 14,
   "id": "weighted-laundry",
   "metadata": {
    "execution": {
     "iopub.execute_input": "2021-06-10T04:18:48.364815Z",
     "iopub.status.busy": "2021-06-10T04:18:48.363936Z",
     "iopub.status.idle": "2021-06-10T04:18:48.397348Z",
     "shell.execute_reply": "2021-06-10T04:18:48.396907Z"
    },
    "papermill": {
     "duration": 0.098655,
     "end_time": "2021-06-10T04:18:48.397471",
     "exception": false,
     "start_time": "2021-06-10T04:18:48.298816",
     "status": "completed"
    },
    "tags": []
   },
   "outputs": [],
   "source": [
    "best_solution_weights = pygad.kerasga.model_weights_as_matrix(model=model,\n",
    "                                                              weights_vector=solution)"
   ]
  },
  {
   "cell_type": "code",
   "execution_count": 15,
   "id": "characteristic-chrome",
   "metadata": {
    "execution": {
     "iopub.execute_input": "2021-06-10T04:18:48.524133Z",
     "iopub.status.busy": "2021-06-10T04:18:48.523279Z",
     "iopub.status.idle": "2021-06-10T04:30:03.955169Z",
     "shell.execute_reply": "2021-06-10T04:30:03.954147Z"
    },
    "papermill": {
     "duration": 675.497081,
     "end_time": "2021-06-10T04:30:03.955360",
     "exception": false,
     "start_time": "2021-06-10T04:18:48.458279",
     "status": "completed"
    },
    "tags": []
   },
   "outputs": [],
   "source": [
    "model.set_weights(best_solution_weights)\n",
    "predictions_train = model.predict(x_train)\n",
    "predictions_test = model.predict(x_test)"
   ]
  },
  {
   "cell_type": "code",
   "execution_count": 16,
   "id": "aerial-league",
   "metadata": {
    "execution": {
     "iopub.execute_input": "2021-06-10T04:30:04.083786Z",
     "iopub.status.busy": "2021-06-10T04:30:04.082966Z",
     "iopub.status.idle": "2021-06-10T04:30:04.118507Z",
     "shell.execute_reply": "2021-06-10T04:30:04.117760Z"
    },
    "papermill": {
     "duration": 0.101281,
     "end_time": "2021-06-10T04:30:04.118620",
     "exception": false,
     "start_time": "2021-06-10T04:30:04.017339",
     "status": "completed"
    },
    "tags": []
   },
   "outputs": [
    {
     "name": "stdout",
     "output_type": "stream",
     "text": [
      "Binary Crossentropy :  3.5709321\n",
      "Accuracy :  0.767\n",
      "[[343 137]\n",
      " [ 96 424]]\n"
     ]
    }
   ],
   "source": [
    "bce = tensorflow.keras.losses.BinaryCrossentropy()\n",
    "print(\"Binary Crossentropy : \", bce(y_train, predictions_train).numpy())\n",
    "\n",
    "ba = tensorflow.keras.metrics.BinaryAccuracy()\n",
    "ba.update_state(y_train, predictions_train)\n",
    "accuracy = ba.result().numpy()\n",
    "print(\"Accuracy : \", accuracy)\n",
    "\n",
    "y_train_argmax = np.argmax(y_train, axis=1)\n",
    "predictions_train = np.argmax(predictions_train, axis=1)\n",
    "print(confusion_matrix(y_train_argmax, predictions_train))"
   ]
  },
  {
   "cell_type": "code",
   "execution_count": 17,
   "id": "behavioral-lottery",
   "metadata": {
    "execution": {
     "iopub.execute_input": "2021-06-10T04:30:04.246803Z",
     "iopub.status.busy": "2021-06-10T04:30:04.245893Z",
     "iopub.status.idle": "2021-06-10T04:30:04.330745Z",
     "shell.execute_reply": "2021-06-10T04:30:04.331139Z"
    },
    "papermill": {
     "duration": 0.151477,
     "end_time": "2021-06-10T04:30:04.331292",
     "exception": false,
     "start_time": "2021-06-10T04:30:04.179815",
     "status": "completed"
    },
    "tags": []
   },
   "outputs": [
    {
     "name": "stdout",
     "output_type": "stream",
     "text": [
      "Binary Crossentropy :  4.1551857\n",
      "Accuracy :  0.7280884\n",
      "[[10799  5592]\n",
      " [ 3318 13059]]\n"
     ]
    }
   ],
   "source": [
    "bce = tensorflow.keras.losses.BinaryCrossentropy()\n",
    "print(\"Binary Crossentropy : \", bce(y_test, predictions_test).numpy())\n",
    "\n",
    "ba = tensorflow.keras.metrics.BinaryAccuracy()\n",
    "ba.update_state(y_test, predictions_test)\n",
    "accuracy = ba.result().numpy()\n",
    "print(\"Accuracy : \", accuracy)\n",
    "\n",
    "y_test_argmax = np.argmax(y_test, axis=1)\n",
    "predictions_test = np.argmax(predictions_test, axis=1)\n",
    "print(confusion_matrix(y_test_argmax, predictions_test))"
   ]
  }
 ],
 "metadata": {
  "kernelspec": {
   "display_name": "Python 3",
   "language": "python",
   "name": "python3"
  },
  "language_info": {
   "codemirror_mode": {
    "name": "ipython",
    "version": 3
   },
   "file_extension": ".py",
   "mimetype": "text/x-python",
   "name": "python",
   "nbconvert_exporter": "python",
   "pygments_lexer": "ipython3",
   "version": "3.7.10"
  },
  "papermill": {
   "default_parameters": {},
   "duration": 31254.394258,
   "end_time": "2021-06-10T04:30:07.381841",
   "environment_variables": {},
   "exception": null,
   "input_path": "__notebook__.ipynb",
   "output_path": "__notebook__.ipynb",
   "parameters": {},
   "start_time": "2021-06-09T19:49:12.987583",
   "version": "2.3.3"
  }
 },
 "nbformat": 4,
 "nbformat_minor": 5
}
