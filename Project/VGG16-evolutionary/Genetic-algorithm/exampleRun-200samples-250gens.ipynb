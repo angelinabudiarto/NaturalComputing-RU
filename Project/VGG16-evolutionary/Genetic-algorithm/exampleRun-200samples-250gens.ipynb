{
 "cells": [
  {
   "cell_type": "markdown",
   "metadata": {
    "papermill": {
     "duration": 0.017046,
     "end_time": "2021-06-09T19:48:31.049027",
     "exception": false,
     "start_time": "2021-06-09T19:48:31.031981",
     "status": "completed"
    },
    "tags": []
   },
   "source": [
    "## Natural Computing - Genetic Algorithm with PyGAD\n",
    "This notebook is used on Kaggle for the Natural Computing project.\n",
    "In this notebook the dataset Metastatic Tissue Classification - PatchCamelyon (`metastatic-tissue-classification-patchcamelyon`) is used."
   ]
  },
  {
   "cell_type": "markdown",
   "metadata": {
    "papermill": {
     "duration": 0.015281,
     "end_time": "2021-06-09T19:48:31.080047",
     "exception": false,
     "start_time": "2021-06-09T19:48:31.064766",
     "status": "completed"
    },
    "tags": []
   },
   "source": [
    "First install pygad for later use, since this isn't included in the default Kaggle workspace."
   ]
  },
  {
   "cell_type": "code",
   "execution_count": 1,
   "metadata": {
    "execution": {
     "iopub.execute_input": "2021-06-09T19:48:31.121001Z",
     "iopub.status.busy": "2021-06-09T19:48:31.120448Z",
     "iopub.status.idle": "2021-06-09T19:48:38.630728Z",
     "shell.execute_reply": "2021-06-09T19:48:38.629786Z",
     "shell.execute_reply.started": "2021-06-09T12:05:25.565046Z"
    },
    "papermill": {
     "duration": 7.535643,
     "end_time": "2021-06-09T19:48:38.630885",
     "exception": false,
     "start_time": "2021-06-09T19:48:31.095242",
     "status": "completed"
    },
    "tags": []
   },
   "outputs": [
    {
     "name": "stdout",
     "output_type": "stream",
     "text": [
      "Collecting pygad\r\n",
      "  Downloading pygad-2.14.3-py3-none-any.whl (46 kB)\r\n",
      "\u001b[K     |████████████████████████████████| 46 kB 453 kB/s \r\n",
      "\u001b[?25hRequirement already satisfied: numpy in /opt/conda/lib/python3.7/site-packages (from pygad) (1.19.5)\r\n",
      "Requirement already satisfied: matplotlib in /opt/conda/lib/python3.7/site-packages (from pygad) (3.4.1)\r\n",
      "Requirement already satisfied: pillow>=6.2.0 in /opt/conda/lib/python3.7/site-packages (from matplotlib->pygad) (7.2.0)\r\n",
      "Requirement already satisfied: pyparsing>=2.2.1 in /opt/conda/lib/python3.7/site-packages (from matplotlib->pygad) (2.4.7)\r\n",
      "Requirement already satisfied: python-dateutil>=2.7 in /opt/conda/lib/python3.7/site-packages (from matplotlib->pygad) (2.8.1)\r\n",
      "Requirement already satisfied: kiwisolver>=1.0.1 in /opt/conda/lib/python3.7/site-packages (from matplotlib->pygad) (1.3.1)\r\n",
      "Requirement already satisfied: cycler>=0.10 in /opt/conda/lib/python3.7/site-packages (from matplotlib->pygad) (0.10.0)\r\n",
      "Requirement already satisfied: six in /opt/conda/lib/python3.7/site-packages (from cycler>=0.10->matplotlib->pygad) (1.15.0)\r\n",
      "Installing collected packages: pygad\r\n",
      "Successfully installed pygad-2.14.3\r\n"
     ]
    }
   ],
   "source": [
    "!pip install pygad"
   ]
  },
  {
   "cell_type": "code",
   "execution_count": 2,
   "metadata": {
    "execution": {
     "iopub.execute_input": "2021-06-09T19:48:38.671346Z",
     "iopub.status.busy": "2021-06-09T19:48:38.670602Z",
     "iopub.status.idle": "2021-06-09T19:48:44.059048Z",
     "shell.execute_reply": "2021-06-09T19:48:44.058575Z",
     "shell.execute_reply.started": "2021-06-09T12:05:35.43079Z"
    },
    "papermill": {
     "duration": 5.410402,
     "end_time": "2021-06-09T19:48:44.059177",
     "exception": false,
     "start_time": "2021-06-09T19:48:38.648775",
     "status": "completed"
    },
    "tags": []
   },
   "outputs": [],
   "source": [
    "import tensorflow.keras\n",
    "import pygad.kerasga\n",
    "import numpy as np\n",
    "import pandas as pd\n",
    "import pygad\n",
    "import cv2\n",
    "import h5py\n",
    "\n",
    "from keras.datasets import mnist\n",
    "from keras.preprocessing import image\n",
    "from keras.applications.vgg16 import VGG16, preprocess_input\n",
    "from keras.layers import Input, Flatten, Dense, Dropout\n",
    "from keras.models import Model\n",
    "from sklearn.metrics import confusion_matrix"
   ]
  },
  {
   "cell_type": "markdown",
   "metadata": {
    "papermill": {
     "duration": 0.017362,
     "end_time": "2021-06-09T19:48:44.094760",
     "exception": false,
     "start_time": "2021-06-09T19:48:44.077398",
     "status": "completed"
    },
    "tags": []
   },
   "source": [
    "#### Data\n",
    "Import the data from the dataset and define the number of samples from the train set to run with the Genetic Algorithm."
   ]
  },
  {
   "cell_type": "code",
   "execution_count": 3,
   "metadata": {
    "execution": {
     "iopub.execute_input": "2021-06-09T19:48:44.369511Z",
     "iopub.status.busy": "2021-06-09T19:48:44.368483Z",
     "iopub.status.idle": "2021-06-09T19:48:55.864736Z",
     "shell.execute_reply": "2021-06-09T19:48:55.863839Z",
     "shell.execute_reply.started": "2021-06-09T12:05:42.672763Z"
    },
    "papermill": {
     "duration": 11.752583,
     "end_time": "2021-06-09T19:48:55.864886",
     "exception": false,
     "start_time": "2021-06-09T19:48:44.112303",
     "status": "completed"
    },
    "tags": []
   },
   "outputs": [],
   "source": [
    "num_samples = 200\n",
    "\n",
    "x_train = []\n",
    "y_train = []\n",
    "\n",
    "x_test = []\n",
    "y_test = []\n",
    "\n",
    "with h5py.File('/kaggle/input/metastatic-tissue-classification-patchcamelyon/pcam/training_split.h5', 'r') as f:\n",
    "    x_train = np.array(f['x'][:num_samples])\n",
    "    \n",
    "with h5py.File('/kaggle/input/metastatic-tissue-classification-patchcamelyon/Labels/Labels/camelyonpatch_level_2_split_train_y.h5', 'r') as f:\n",
    "    y_train = np.array(f['y'][:num_samples].flat)\n",
    "    \n",
    "with h5py.File('/kaggle/input/metastatic-tissue-classification-patchcamelyon/pcam/test_split.h5', 'r') as f:\n",
    "    x_test = np.array(f['x'][:])\n",
    "    \n",
    "with h5py.File('/kaggle/input/metastatic-tissue-classification-patchcamelyon/Labels/Labels/camelyonpatch_level_2_split_test_y.h5', 'r') as f:\n",
    "    y_test = np.array(f['y'][:].flat)"
   ]
  },
  {
   "cell_type": "code",
   "execution_count": 4,
   "metadata": {
    "execution": {
     "iopub.execute_input": "2021-06-09T19:48:55.906726Z",
     "iopub.status.busy": "2021-06-09T19:48:55.905051Z",
     "iopub.status.idle": "2021-06-09T19:48:55.908954Z",
     "shell.execute_reply": "2021-06-09T19:48:55.908514Z",
     "shell.execute_reply.started": "2021-06-09T12:05:52.854068Z"
    },
    "papermill": {
     "duration": 0.026331,
     "end_time": "2021-06-09T19:48:55.909064",
     "exception": false,
     "start_time": "2021-06-09T19:48:55.882733",
     "status": "completed"
    },
    "tags": []
   },
   "outputs": [
    {
     "name": "stdout",
     "output_type": "stream",
     "text": [
      "(200, 96, 96, 3) (200,)\n",
      "(32768, 96, 96, 3) (32768,)\n"
     ]
    }
   ],
   "source": [
    "print(x_train.shape, y_train.shape)\n",
    "print(x_test.shape, y_test.shape)"
   ]
  },
  {
   "cell_type": "code",
   "execution_count": 5,
   "metadata": {
    "execution": {
     "iopub.execute_input": "2021-06-09T19:48:55.948963Z",
     "iopub.status.busy": "2021-06-09T19:48:55.947621Z",
     "iopub.status.idle": "2021-06-09T19:48:55.950031Z",
     "shell.execute_reply": "2021-06-09T19:48:55.950481Z",
     "shell.execute_reply.started": "2021-06-09T12:05:52.876439Z"
    },
    "papermill": {
     "duration": 0.024061,
     "end_time": "2021-06-09T19:48:55.950603",
     "exception": false,
     "start_time": "2021-06-09T19:48:55.926542",
     "status": "completed"
    },
    "tags": []
   },
   "outputs": [],
   "source": [
    "input_img = (96, 96, 3) #All images in PatchCamelyon are in this shape, use for the input_shape of the Keras model"
   ]
  },
  {
   "cell_type": "markdown",
   "metadata": {
    "papermill": {
     "duration": 0.017964,
     "end_time": "2021-06-09T19:48:55.986133",
     "exception": false,
     "start_time": "2021-06-09T19:48:55.968169",
     "status": "completed"
    },
    "tags": []
   },
   "source": [
    "Setup of the Keras model VGG16"
   ]
  },
  {
   "cell_type": "code",
   "execution_count": 6,
   "metadata": {
    "execution": {
     "iopub.execute_input": "2021-06-09T19:48:56.027864Z",
     "iopub.status.busy": "2021-06-09T19:48:56.027282Z",
     "iopub.status.idle": "2021-06-09T19:48:59.410874Z",
     "shell.execute_reply": "2021-06-09T19:48:59.411425Z",
     "shell.execute_reply.started": "2021-06-09T12:05:52.889263Z"
    },
    "papermill": {
     "duration": 3.408258,
     "end_time": "2021-06-09T19:48:59.411609",
     "exception": false,
     "start_time": "2021-06-09T19:48:56.003351",
     "status": "completed"
    },
    "tags": []
   },
   "outputs": [
    {
     "name": "stdout",
     "output_type": "stream",
     "text": [
      "Downloading data from https://storage.googleapis.com/tensorflow/keras-applications/vgg16/vgg16_weights_tf_dim_ordering_tf_kernels_notop.h5\n",
      "58892288/58889256 [==============================] - 1s 0us/step\n",
      "Model: \"model\"\n",
      "_________________________________________________________________\n",
      "Layer (type)                 Output Shape              Param #   \n",
      "=================================================================\n",
      "input_1 (InputLayer)         [(None, 96, 96, 3)]       0         \n",
      "_________________________________________________________________\n",
      "block1_conv1 (Conv2D)        (None, 96, 96, 64)        1792      \n",
      "_________________________________________________________________\n",
      "block1_conv2 (Conv2D)        (None, 96, 96, 64)        36928     \n",
      "_________________________________________________________________\n",
      "block1_pool (MaxPooling2D)   (None, 48, 48, 64)        0         \n",
      "_________________________________________________________________\n",
      "block2_conv1 (Conv2D)        (None, 48, 48, 128)       73856     \n",
      "_________________________________________________________________\n",
      "block2_conv2 (Conv2D)        (None, 48, 48, 128)       147584    \n",
      "_________________________________________________________________\n",
      "block2_pool (MaxPooling2D)   (None, 24, 24, 128)       0         \n",
      "_________________________________________________________________\n",
      "block3_conv1 (Conv2D)        (None, 24, 24, 256)       295168    \n",
      "_________________________________________________________________\n",
      "block3_conv2 (Conv2D)        (None, 24, 24, 256)       590080    \n",
      "_________________________________________________________________\n",
      "block3_conv3 (Conv2D)        (None, 24, 24, 256)       590080    \n",
      "_________________________________________________________________\n",
      "block3_pool (MaxPooling2D)   (None, 12, 12, 256)       0         \n",
      "_________________________________________________________________\n",
      "block4_conv1 (Conv2D)        (None, 12, 12, 512)       1180160   \n",
      "_________________________________________________________________\n",
      "block4_conv2 (Conv2D)        (None, 12, 12, 512)       2359808   \n",
      "_________________________________________________________________\n",
      "block4_conv3 (Conv2D)        (None, 12, 12, 512)       2359808   \n",
      "_________________________________________________________________\n",
      "block4_pool (MaxPooling2D)   (None, 6, 6, 512)         0         \n",
      "_________________________________________________________________\n",
      "block5_conv1 (Conv2D)        (None, 6, 6, 512)         2359808   \n",
      "_________________________________________________________________\n",
      "block5_conv2 (Conv2D)        (None, 6, 6, 512)         2359808   \n",
      "_________________________________________________________________\n",
      "block5_conv3 (Conv2D)        (None, 6, 6, 512)         2359808   \n",
      "_________________________________________________________________\n",
      "block5_pool (MaxPooling2D)   (None, 3, 3, 512)         0         \n",
      "_________________________________________________________________\n",
      "flatten (Flatten)            (None, 4608)              0         \n",
      "_________________________________________________________________\n",
      "dense (Dense)                (None, 2)                 9218      \n",
      "=================================================================\n",
      "Total params: 14,723,906\n",
      "Trainable params: 9,218\n",
      "Non-trainable params: 14,714,688\n",
      "_________________________________________________________________\n",
      "None\n"
     ]
    }
   ],
   "source": [
    "vgg_model = VGG16(weights='imagenet', include_top=False, input_shape=input_img)\n",
    "\n",
    "for layer in vgg_model.layers:\n",
    "    layer.trainable = False\n",
    "\n",
    "x = vgg_model.output\n",
    "x = Flatten()(x)\n",
    "x = Dense(2, activation='softmax')(x)\n",
    "\n",
    "model = Model(inputs=vgg_model.input, outputs=x)\n",
    "print(model.summary())"
   ]
  },
  {
   "cell_type": "code",
   "execution_count": 7,
   "metadata": {
    "execution": {
     "iopub.execute_input": "2021-06-09T19:48:59.457277Z",
     "iopub.status.busy": "2021-06-09T19:48:59.456687Z",
     "iopub.status.idle": "2021-06-09T19:48:59.466040Z",
     "shell.execute_reply": "2021-06-09T19:48:59.466404Z",
     "shell.execute_reply.started": "2021-06-09T12:05:56.997657Z"
    },
    "papermill": {
     "duration": 0.033596,
     "end_time": "2021-06-09T19:48:59.466556",
     "exception": false,
     "start_time": "2021-06-09T19:48:59.432960",
     "status": "completed"
    },
    "tags": []
   },
   "outputs": [],
   "source": [
    "keras_ga = pygad.kerasga.KerasGA(model=model, num_solutions=10)"
   ]
  },
  {
   "cell_type": "markdown",
   "metadata": {
    "papermill": {
     "duration": 0.021253,
     "end_time": "2021-06-09T19:48:59.508915",
     "exception": false,
     "start_time": "2021-06-09T19:48:59.487662",
     "status": "completed"
    },
    "tags": []
   },
   "source": [
    "#### Fitness function\n",
    "Define the fitness function:\n",
    "- Form the model weights for usage in the VGG16 model\n",
    "- Apply the model weights\n",
    "- Predict the train set with updated model\n",
    "- Calculate Binary Crossentropy\n",
    "- Define fitness score\n",
    "- Return fitness score for particular solution"
   ]
  },
  {
   "cell_type": "code",
   "execution_count": 8,
   "metadata": {
    "execution": {
     "iopub.execute_input": "2021-06-09T19:48:59.556513Z",
     "iopub.status.busy": "2021-06-09T19:48:59.555989Z",
     "iopub.status.idle": "2021-06-09T19:48:59.559486Z",
     "shell.execute_reply": "2021-06-09T19:48:59.559856Z",
     "shell.execute_reply.started": "2021-06-09T12:23:37.853176Z"
    },
    "papermill": {
     "duration": 0.029934,
     "end_time": "2021-06-09T19:48:59.559988",
     "exception": false,
     "start_time": "2021-06-09T19:48:59.530054",
     "status": "completed"
    },
    "tags": []
   },
   "outputs": [],
   "source": [
    "def fitness_func(solution, sol_idx):\n",
    "    global x_train, y_train, keras_ga, model\n",
    "    \n",
    "    model_weights_matrix = pygad.kerasga.model_weights_as_matrix(model=model, weights_vector=solution)\n",
    "\n",
    "    model.set_weights(model_weights_matrix)\n",
    "    \n",
    "    predictions = model.predict(x_train)\n",
    "    \n",
    "    bce = tensorflow.keras.losses.BinaryCrossentropy()\n",
    "    solution_fitness = 1.0 / (bce(y_train, predictions).numpy() + 0.00000001)\n",
    "    \n",
    "    return solution_fitness"
   ]
  },
  {
   "cell_type": "markdown",
   "metadata": {
    "papermill": {
     "duration": 0.020553,
     "end_time": "2021-06-09T19:48:59.601178",
     "exception": false,
     "start_time": "2021-06-09T19:48:59.580625",
     "status": "completed"
    },
    "tags": []
   },
   "source": [
    "The callback generation is a way to displays information per generation. In this case we use this to display the generation number and the fitness score of the current best solution."
   ]
  },
  {
   "cell_type": "code",
   "execution_count": 9,
   "metadata": {
    "execution": {
     "iopub.execute_input": "2021-06-09T19:48:59.647093Z",
     "iopub.status.busy": "2021-06-09T19:48:59.646598Z",
     "iopub.status.idle": "2021-06-09T19:48:59.650162Z",
     "shell.execute_reply": "2021-06-09T19:48:59.650572Z",
     "shell.execute_reply.started": "2021-06-09T12:05:57.027689Z"
    },
    "papermill": {
     "duration": 0.028698,
     "end_time": "2021-06-09T19:48:59.650698",
     "exception": false,
     "start_time": "2021-06-09T19:48:59.622000",
     "status": "completed"
    },
    "tags": []
   },
   "outputs": [],
   "source": [
    "def callback_generation(ga_instance):\n",
    "    print(\"Generation = {generation}\".format(generation=ga_instance.generations_completed))\n",
    "    print(\"Fitness    = {fitness}\".format(fitness=ga_instance.best_solution()[1]))"
   ]
  },
  {
   "cell_type": "markdown",
   "metadata": {
    "papermill": {
     "duration": 0.020492,
     "end_time": "2021-06-09T19:48:59.691711",
     "exception": false,
     "start_time": "2021-06-09T19:48:59.671219",
     "status": "completed"
    },
    "tags": []
   },
   "source": [
    "We form a categorical array from the y labels of train and test to make it easier to work with the Binary Cross Entropy."
   ]
  },
  {
   "cell_type": "code",
   "execution_count": 10,
   "metadata": {
    "execution": {
     "iopub.execute_input": "2021-06-09T19:48:59.739443Z",
     "iopub.status.busy": "2021-06-09T19:48:59.737605Z",
     "iopub.status.idle": "2021-06-09T19:48:59.742711Z",
     "shell.execute_reply": "2021-06-09T19:48:59.742253Z",
     "shell.execute_reply.started": "2021-06-09T12:05:57.038124Z"
    },
    "papermill": {
     "duration": 0.030662,
     "end_time": "2021-06-09T19:48:59.742818",
     "exception": false,
     "start_time": "2021-06-09T19:48:59.712156",
     "status": "completed"
    },
    "tags": []
   },
   "outputs": [
    {
     "name": "stdout",
     "output_type": "stream",
     "text": [
      "200 (200, 2)\n",
      "32768 (32768, 2)\n"
     ]
    }
   ],
   "source": [
    "y_train = tensorflow.keras.utils.to_categorical(y_train)\n",
    "print(len(x_train),y_train.shape)\n",
    "\n",
    "y_test = tensorflow.keras.utils.to_categorical(y_test)\n",
    "print(len(x_test),y_test.shape)"
   ]
  },
  {
   "cell_type": "code",
   "execution_count": 11,
   "metadata": {
    "execution": {
     "iopub.execute_input": "2021-06-09T19:48:59.788789Z",
     "iopub.status.busy": "2021-06-09T19:48:59.788138Z",
     "iopub.status.idle": "2021-06-09T19:48:59.791054Z",
     "shell.execute_reply": "2021-06-09T19:48:59.790613Z",
     "shell.execute_reply.started": "2021-06-09T12:05:57.054073Z"
    },
    "papermill": {
     "duration": 0.027187,
     "end_time": "2021-06-09T19:48:59.791156",
     "exception": false,
     "start_time": "2021-06-09T19:48:59.763969",
     "status": "completed"
    },
    "tags": []
   },
   "outputs": [],
   "source": [
    "num_generations = 250 # Number of generations.\n",
    "num_parents_mating = 5 # Number of solutions to be selected as parents in the mating pool.\n",
    "initial_population = keras_ga.population_weights # Initial population of network weights.\n",
    "parent_selection_type = \"sss\" # Type of parent selection.\n",
    "crossover_type = \"single_point\" # Type of the crossover operator.\n",
    "mutation_type = \"random\" # Type of the mutation operator.\n",
    "mutation_percent_genes = 10 # Percentage of genes to mutate.\n",
    "keep_parents = 2 # Number of parents to keep in the next population."
   ]
  },
  {
   "cell_type": "markdown",
   "metadata": {
    "papermill": {
     "duration": 0.020627,
     "end_time": "2021-06-09T19:48:59.832274",
     "exception": false,
     "start_time": "2021-06-09T19:48:59.811647",
     "status": "completed"
    },
    "tags": []
   },
   "source": [
    "#### PyGAD instance\n",
    "Below the PyGAD Genetic Algorithm gets instantiated with the parameters set up above. After that it will run it's generations and show the Iteration vs. Fitness result graph."
   ]
  },
  {
   "cell_type": "code",
   "execution_count": 12,
   "metadata": {
    "execution": {
     "iopub.execute_input": "2021-06-09T19:48:59.879848Z",
     "iopub.status.busy": "2021-06-09T19:48:59.879050Z",
     "iopub.status.idle": "2021-06-10T01:31:31.597161Z",
     "shell.execute_reply": "2021-06-10T01:31:31.595610Z",
     "shell.execute_reply.started": "2021-06-09T12:23:40.504524Z"
    },
    "papermill": {
     "duration": 20551.744112,
     "end_time": "2021-06-10T01:31:31.597289",
     "exception": false,
     "start_time": "2021-06-09T19:48:59.853177",
     "status": "completed"
    },
    "tags": []
   },
   "outputs": [
    {
     "name": "stdout",
     "output_type": "stream",
     "text": [
      "Generation = 1\n",
      "Fitness    = 0.16891268519306474\n",
      "Generation = 2\n",
      "Fitness    = 0.17815756263659902\n",
      "Generation = 3\n",
      "Fitness    = 0.17815756263659902\n",
      "Generation = 4\n",
      "Fitness    = 0.17815756263659902\n",
      "Generation = 5\n",
      "Fitness    = 0.17815756263659902\n",
      "Generation = 6\n",
      "Fitness    = 0.17831737872048262\n",
      "Generation = 7\n",
      "Fitness    = 0.18137508816822093\n",
      "Generation = 8\n",
      "Fitness    = 0.1920173625294338\n",
      "Generation = 9\n",
      "Fitness    = 0.20138468060290965\n",
      "Generation = 10\n",
      "Fitness    = 0.2150468783075817\n",
      "Generation = 11\n",
      "Fitness    = 0.2150468783075817\n",
      "Generation = 12\n",
      "Fitness    = 0.21674136954439183\n",
      "Generation = 13\n",
      "Fitness    = 0.21819424991347616\n",
      "Generation = 14\n",
      "Fitness    = 0.23468936297235168\n",
      "Generation = 15\n",
      "Fitness    = 0.23468936297235168\n",
      "Generation = 16\n",
      "Fitness    = 0.23468936297235168\n",
      "Generation = 17\n",
      "Fitness    = 0.23468936297235168\n",
      "Generation = 18\n",
      "Fitness    = 0.2453497477836056\n",
      "Generation = 19\n",
      "Fitness    = 0.2453497477836056\n",
      "Generation = 20\n",
      "Fitness    = 0.24786584241412066\n",
      "Generation = 21\n",
      "Fitness    = 0.2517625093272819\n",
      "Generation = 22\n",
      "Fitness    = 0.2517625093272819\n",
      "Generation = 23\n",
      "Fitness    = 0.2517625093272819\n",
      "Generation = 24\n",
      "Fitness    = 0.2517625093272819\n",
      "Generation = 25\n",
      "Fitness    = 0.2701947908279066\n",
      "Generation = 26\n",
      "Fitness    = 0.2701947908279066\n",
      "Generation = 27\n",
      "Fitness    = 0.2769193788836323\n",
      "Generation = 28\n",
      "Fitness    = 0.3023668175616552\n",
      "Generation = 29\n",
      "Fitness    = 0.3023668175616552\n",
      "Generation = 30\n",
      "Fitness    = 0.3023668175616552\n",
      "Generation = 31\n",
      "Fitness    = 0.3023668175616552\n",
      "Generation = 32\n",
      "Fitness    = 0.3023668175616552\n",
      "Generation = 33\n",
      "Fitness    = 0.3023668175616552\n",
      "Generation = 34\n",
      "Fitness    = 0.3023668175616552\n",
      "Generation = 35\n",
      "Fitness    = 0.3023668175616552\n",
      "Generation = 36\n",
      "Fitness    = 0.3023668175616552\n",
      "Generation = 37\n",
      "Fitness    = 0.3023668175616552\n",
      "Generation = 38\n",
      "Fitness    = 0.3023668175616552\n",
      "Generation = 39\n",
      "Fitness    = 0.3023668175616552\n",
      "Generation = 40\n",
      "Fitness    = 0.3023668175616552\n",
      "Generation = 41\n",
      "Fitness    = 0.3023668175616552\n",
      "Generation = 42\n",
      "Fitness    = 0.3250604686736166\n",
      "Generation = 43\n",
      "Fitness    = 0.3334530348278907\n",
      "Generation = 44\n",
      "Fitness    = 0.3334530348278907\n",
      "Generation = 45\n",
      "Fitness    = 0.3334530348278907\n",
      "Generation = 46\n",
      "Fitness    = 0.3482302637652374\n",
      "Generation = 47\n",
      "Fitness    = 0.3514775261544738\n",
      "Generation = 48\n",
      "Fitness    = 0.3514775261544738\n",
      "Generation = 49\n",
      "Fitness    = 0.3612310233834811\n",
      "Generation = 50\n",
      "Fitness    = 0.3612310233834811\n",
      "Generation = 51\n",
      "Fitness    = 0.3612310233834811\n",
      "Generation = 52\n",
      "Fitness    = 0.3612310233834811\n",
      "Generation = 53\n",
      "Fitness    = 0.37049563179504463\n",
      "Generation = 54\n",
      "Fitness    = 0.37049563179504463\n",
      "Generation = 55\n",
      "Fitness    = 0.37049563179504463\n",
      "Generation = 56\n",
      "Fitness    = 0.3715619597042675\n",
      "Generation = 57\n",
      "Fitness    = 0.3824902545881092\n",
      "Generation = 58\n",
      "Fitness    = 0.3824902545881092\n",
      "Generation = 59\n",
      "Fitness    = 0.3824902545881092\n",
      "Generation = 60\n",
      "Fitness    = 0.3824902545881092\n",
      "Generation = 61\n",
      "Fitness    = 0.3824902545881092\n",
      "Generation = 62\n",
      "Fitness    = 0.3824902545881092\n",
      "Generation = 63\n",
      "Fitness    = 0.3824902545881092\n",
      "Generation = 64\n",
      "Fitness    = 0.3824902545881092\n",
      "Generation = 65\n",
      "Fitness    = 0.3862858018388781\n",
      "Generation = 66\n",
      "Fitness    = 0.4195054477650718\n",
      "Generation = 67\n",
      "Fitness    = 0.4195054477650718\n",
      "Generation = 68\n",
      "Fitness    = 0.4195054477650718\n",
      "Generation = 69\n",
      "Fitness    = 0.4195054477650718\n",
      "Generation = 70\n",
      "Fitness    = 0.4195054477650718\n",
      "Generation = 71\n",
      "Fitness    = 0.4195054477650718\n",
      "Generation = 72\n",
      "Fitness    = 0.4195054477650718\n",
      "Generation = 73\n",
      "Fitness    = 0.4195054477650718\n",
      "Generation = 74\n",
      "Fitness    = 0.4195054477650718\n",
      "Generation = 75\n",
      "Fitness    = 0.4195054477650718\n",
      "Generation = 76\n",
      "Fitness    = 0.4195054477650718\n",
      "Generation = 77\n",
      "Fitness    = 0.4195054477650718\n",
      "Generation = 78\n",
      "Fitness    = 0.4195054477650718\n",
      "Generation = 79\n",
      "Fitness    = 0.448436816067543\n",
      "Generation = 80\n",
      "Fitness    = 0.448436816067543\n",
      "Generation = 81\n",
      "Fitness    = 0.448436816067543\n",
      "Generation = 82\n",
      "Fitness    = 0.448436816067543\n",
      "Generation = 83\n",
      "Fitness    = 0.448436816067543\n",
      "Generation = 84\n",
      "Fitness    = 0.448436816067543\n",
      "Generation = 85\n",
      "Fitness    = 0.448436816067543\n",
      "Generation = 86\n",
      "Fitness    = 0.448436816067543\n",
      "Generation = 87\n",
      "Fitness    = 0.448436816067543\n",
      "Generation = 88\n",
      "Fitness    = 0.448436816067543\n",
      "Generation = 89\n",
      "Fitness    = 0.448436816067543\n",
      "Generation = 90\n",
      "Fitness    = 0.448436816067543\n",
      "Generation = 91\n",
      "Fitness    = 0.448436816067543\n",
      "Generation = 92\n",
      "Fitness    = 0.448436816067543\n",
      "Generation = 93\n",
      "Fitness    = 0.448436816067543\n",
      "Generation = 94\n",
      "Fitness    = 0.448436816067543\n",
      "Generation = 95\n",
      "Fitness    = 0.448436816067543\n",
      "Generation = 96\n",
      "Fitness    = 0.448436816067543\n",
      "Generation = 97\n",
      "Fitness    = 0.448436816067543\n",
      "Generation = 98\n",
      "Fitness    = 0.448436816067543\n",
      "Generation = 99\n",
      "Fitness    = 0.448436816067543\n",
      "Generation = 100\n",
      "Fitness    = 0.448436816067543\n",
      "Generation = 101\n",
      "Fitness    = 0.448436816067543\n",
      "Generation = 102\n",
      "Fitness    = 0.448436816067543\n",
      "Generation = 103\n",
      "Fitness    = 0.448436816067543\n",
      "Generation = 104\n",
      "Fitness    = 0.46831802276898127\n",
      "Generation = 105\n",
      "Fitness    = 0.48107302705505145\n",
      "Generation = 106\n",
      "Fitness    = 0.5001795017016917\n",
      "Generation = 107\n",
      "Fitness    = 0.5001795017016917\n",
      "Generation = 108\n",
      "Fitness    = 0.5001795017016917\n",
      "Generation = 109\n",
      "Fitness    = 0.5001795017016917\n",
      "Generation = 110\n",
      "Fitness    = 0.5001795017016917\n",
      "Generation = 111\n",
      "Fitness    = 0.5001795017016917\n",
      "Generation = 112\n",
      "Fitness    = 0.5001795017016917\n",
      "Generation = 113\n",
      "Fitness    = 0.5001795017016917\n",
      "Generation = 114\n",
      "Fitness    = 0.5001795017016917\n",
      "Generation = 115\n",
      "Fitness    = 0.5001795017016917\n",
      "Generation = 116\n",
      "Fitness    = 0.5001795017016917\n",
      "Generation = 117\n",
      "Fitness    = 0.5001795017016917\n",
      "Generation = 118\n",
      "Fitness    = 0.5001795017016917\n",
      "Generation = 119\n",
      "Fitness    = 0.5001795017016917\n",
      "Generation = 120\n",
      "Fitness    = 0.5001795017016917\n",
      "Generation = 121\n",
      "Fitness    = 0.5094701534417108\n",
      "Generation = 122\n",
      "Fitness    = 0.5094701534417108\n",
      "Generation = 123\n",
      "Fitness    = 0.5094701534417108\n",
      "Generation = 124\n",
      "Fitness    = 0.5094701534417108\n",
      "Generation = 125\n",
      "Fitness    = 0.5094701534417108\n",
      "Generation = 126\n",
      "Fitness    = 0.5094701534417108\n",
      "Generation = 127\n",
      "Fitness    = 0.5094701534417108\n",
      "Generation = 128\n",
      "Fitness    = 0.5094701534417108\n",
      "Generation = 129\n",
      "Fitness    = 0.5094701534417108\n",
      "Generation = 130\n",
      "Fitness    = 0.5094701534417108\n",
      "Generation = 131\n",
      "Fitness    = 0.5094701534417108\n",
      "Generation = 132\n",
      "Fitness    = 0.5094701534417108\n",
      "Generation = 133\n",
      "Fitness    = 0.5094701534417108\n",
      "Generation = 134\n",
      "Fitness    = 0.5094701534417108\n",
      "Generation = 135\n",
      "Fitness    = 0.5094701534417108\n",
      "Generation = 136\n",
      "Fitness    = 0.5094701534417108\n",
      "Generation = 137\n",
      "Fitness    = 0.5094701534417108\n",
      "Generation = 138\n",
      "Fitness    = 0.5094701534417108\n",
      "Generation = 139\n",
      "Fitness    = 0.5094701534417108\n",
      "Generation = 140\n",
      "Fitness    = 0.5094701534417108\n",
      "Generation = 141\n",
      "Fitness    = 0.5094701534417108\n",
      "Generation = 142\n",
      "Fitness    = 0.5094701534417108\n",
      "Generation = 143\n",
      "Fitness    = 0.5094701534417108\n",
      "Generation = 144\n",
      "Fitness    = 0.5201865861343479\n",
      "Generation = 145\n",
      "Fitness    = 0.5201865861343479\n",
      "Generation = 146\n",
      "Fitness    = 0.5201865861343479\n",
      "Generation = 147\n",
      "Fitness    = 0.5201865861343479\n",
      "Generation = 148\n",
      "Fitness    = 0.5201865861343479\n",
      "Generation = 149\n",
      "Fitness    = 0.5201865861343479\n",
      "Generation = 150\n",
      "Fitness    = 0.5201865861343479\n",
      "Generation = 151\n",
      "Fitness    = 0.5201865861343479\n",
      "Generation = 152\n",
      "Fitness    = 0.5201865861343479\n",
      "Generation = 153\n",
      "Fitness    = 0.5201865861343479\n",
      "Generation = 154\n",
      "Fitness    = 0.5201865861343479\n",
      "Generation = 155\n",
      "Fitness    = 0.5201865861343479\n",
      "Generation = 156\n",
      "Fitness    = 0.5201865861343479\n",
      "Generation = 157\n",
      "Fitness    = 0.5201865861343479\n",
      "Generation = 158\n",
      "Fitness    = 0.5201865861343479\n",
      "Generation = 159\n",
      "Fitness    = 0.5201865861343479\n",
      "Generation = 160\n",
      "Fitness    = 0.5201865861343479\n",
      "Generation = 161\n",
      "Fitness    = 0.5201865861343479\n",
      "Generation = 162\n",
      "Fitness    = 0.5201865861343479\n",
      "Generation = 163\n",
      "Fitness    = 0.5201865861343479\n",
      "Generation = 164\n",
      "Fitness    = 0.5201865861343479\n",
      "Generation = 165\n",
      "Fitness    = 0.5201865861343479\n",
      "Generation = 166\n",
      "Fitness    = 0.5201865861343479\n",
      "Generation = 167\n",
      "Fitness    = 0.5201865861343479\n",
      "Generation = 168\n",
      "Fitness    = 0.5201865861343479\n",
      "Generation = 169\n",
      "Fitness    = 0.5201867474210407\n",
      "Generation = 170\n",
      "Fitness    = 0.5201867474210407\n",
      "Generation = 171\n",
      "Fitness    = 0.5201867474210407\n",
      "Generation = 172\n",
      "Fitness    = 0.5201867474210407\n",
      "Generation = 173\n",
      "Fitness    = 0.5201867474210407\n",
      "Generation = 174\n",
      "Fitness    = 0.5201867474210407\n",
      "Generation = 175\n",
      "Fitness    = 0.5201867474210407\n",
      "Generation = 176\n",
      "Fitness    = 0.5201867474210407\n",
      "Generation = 177\n",
      "Fitness    = 0.5343337386520808\n",
      "Generation = 178\n",
      "Fitness    = 0.5343337386520808\n",
      "Generation = 179\n",
      "Fitness    = 0.5343337386520808\n",
      "Generation = 180\n",
      "Fitness    = 0.5343337386520808\n",
      "Generation = 181\n",
      "Fitness    = 0.5343337386520808\n",
      "Generation = 182\n",
      "Fitness    = 0.5343337386520808\n",
      "Generation = 183\n",
      "Fitness    = 0.5343337386520808\n",
      "Generation = 184\n",
      "Fitness    = 0.5343337386520808\n",
      "Generation = 185\n",
      "Fitness    = 0.5343337386520808\n",
      "Generation = 186\n",
      "Fitness    = 0.5343337386520808\n",
      "Generation = 187\n",
      "Fitness    = 0.5343337386520808\n",
      "Generation = 188\n",
      "Fitness    = 0.5343337386520808\n",
      "Generation = 189\n",
      "Fitness    = 0.5343337386520808\n",
      "Generation = 190\n",
      "Fitness    = 0.5343337386520808\n",
      "Generation = 191\n",
      "Fitness    = 0.5343337386520808\n",
      "Generation = 192\n",
      "Fitness    = 0.5343337386520808\n",
      "Generation = 193\n",
      "Fitness    = 0.5343337386520808\n",
      "Generation = 194\n",
      "Fitness    = 0.5343337386520808\n",
      "Generation = 195\n",
      "Fitness    = 0.5343337386520808\n",
      "Generation = 196\n",
      "Fitness    = 0.5343337386520808\n",
      "Generation = 197\n",
      "Fitness    = 0.5418585042136725\n",
      "Generation = 198\n",
      "Fitness    = 0.5418585042136725\n",
      "Generation = 199\n",
      "Fitness    = 0.5418585042136725\n",
      "Generation = 200\n",
      "Fitness    = 0.5418585042136725\n",
      "Generation = 201\n",
      "Fitness    = 0.5418585042136725\n",
      "Generation = 202\n",
      "Fitness    = 0.5418585042136725\n",
      "Generation = 203\n",
      "Fitness    = 0.5418585042136725\n",
      "Generation = 204\n",
      "Fitness    = 0.5418585042136725\n",
      "Generation = 205\n",
      "Fitness    = 0.5418585042136725\n",
      "Generation = 206\n",
      "Fitness    = 0.5418585042136725\n",
      "Generation = 207\n",
      "Fitness    = 0.5418585042136725\n",
      "Generation = 208\n",
      "Fitness    = 0.5418585042136725\n",
      "Generation = 209\n",
      "Fitness    = 0.5418585042136725\n",
      "Generation = 210\n",
      "Fitness    = 0.5418585042136725\n",
      "Generation = 211\n",
      "Fitness    = 0.5418585042136725\n",
      "Generation = 212\n",
      "Fitness    = 0.5418585042136725\n",
      "Generation = 213\n",
      "Fitness    = 0.5418585042136725\n",
      "Generation = 214\n",
      "Fitness    = 0.5418585042136725\n",
      "Generation = 215\n",
      "Fitness    = 0.5418585042136725\n",
      "Generation = 216\n",
      "Fitness    = 0.5418585042136725\n",
      "Generation = 217\n",
      "Fitness    = 0.5418585042136725\n",
      "Generation = 218\n",
      "Fitness    = 0.5418585042136725\n",
      "Generation = 219\n",
      "Fitness    = 0.5418585042136725\n",
      "Generation = 220\n",
      "Fitness    = 0.5418585042136725\n",
      "Generation = 221\n",
      "Fitness    = 0.5418585042136725\n",
      "Generation = 222\n",
      "Fitness    = 0.5418585042136725\n",
      "Generation = 223\n",
      "Fitness    = 0.5418585042136725\n",
      "Generation = 224\n",
      "Fitness    = 0.5418585042136725\n",
      "Generation = 225\n",
      "Fitness    = 0.5418585042136725\n",
      "Generation = 226\n",
      "Fitness    = 0.5418585042136725\n",
      "Generation = 227\n",
      "Fitness    = 0.5472566672887846\n",
      "Generation = 228\n",
      "Fitness    = 0.5472566672887846\n",
      "Generation = 229\n",
      "Fitness    = 0.5472566672887846\n",
      "Generation = 230\n",
      "Fitness    = 0.5472566672887846\n",
      "Generation = 231\n",
      "Fitness    = 0.5472566672887846\n",
      "Generation = 232\n",
      "Fitness    = 0.5472566672887846\n",
      "Generation = 233\n",
      "Fitness    = 0.5472566672887846\n",
      "Generation = 234\n",
      "Fitness    = 0.5472566672887846\n",
      "Generation = 235\n",
      "Fitness    = 0.5472566672887846\n",
      "Generation = 236\n",
      "Fitness    = 0.5472566672887846\n",
      "Generation = 237\n",
      "Fitness    = 0.5472566672887846\n",
      "Generation = 238\n",
      "Fitness    = 0.5472566672887846\n",
      "Generation = 239\n",
      "Fitness    = 0.5472566672887846\n",
      "Generation = 240\n",
      "Fitness    = 0.5472566672887846\n",
      "Generation = 241\n",
      "Fitness    = 0.5472566672887846\n",
      "Generation = 242\n",
      "Fitness    = 0.5911213184639056\n",
      "Generation = 243\n",
      "Fitness    = 0.5911213184639056\n",
      "Generation = 244\n",
      "Fitness    = 0.5911213184639056\n",
      "Generation = 245\n",
      "Fitness    = 0.5911213184639056\n",
      "Generation = 246\n",
      "Fitness    = 0.5911213184639056\n",
      "Generation = 247\n",
      "Fitness    = 0.619269913019987\n",
      "Generation = 248\n",
      "Fitness    = 0.619269913019987\n",
      "Generation = 249\n",
      "Fitness    = 0.619269913019987\n",
      "Generation = 250\n",
      "Fitness    = 0.619269913019987\n"
     ]
    },
    {
     "data": {
      "image/png": "[encoded data removed]",
      "text/plain": [
       "<Figure size 432x288 with 1 Axes>"
      ]
     },
     "metadata": {
      "needs_background": "light"
     },
     "output_type": "display_data"
    },
    {
     "data": {
      "image/png": "[encoded data removed]",
      "text/plain": [
       "<Figure size 432x288 with 1 Axes>"
      ]
     },
     "execution_count": 12,
     "metadata": {},
     "output_type": "execute_result"
    }
   ],
   "source": [
    "ga_instance = pygad.GA(num_generations=num_generations,\n",
    "                       num_parents_mating=num_parents_mating,\n",
    "                       initial_population=initial_population,\n",
    "                       fitness_func=fitness_func,\n",
    "                       parent_selection_type=parent_selection_type,\n",
    "                       crossover_type=crossover_type,\n",
    "                       mutation_type=mutation_type,\n",
    "                       mutation_percent_genes=mutation_percent_genes,\n",
    "                       keep_parents=keep_parents,\n",
    "                       on_generation=callback_generation)\n",
    "\n",
    "ga_instance.run()\n",
    "\n",
    "ga_instance.plot_result(title=\"PatchCamelyon GA - Iteration vs. Fitness\", linewidth=4)"
   ]
  },
  {
   "cell_type": "markdown",
   "metadata": {
    "papermill": {
     "duration": 0.148394,
     "end_time": "2021-06-10T01:31:31.895079",
     "exception": false,
     "start_time": "2021-06-10T01:31:31.746685",
     "status": "completed"
    },
    "tags": []
   },
   "source": [
    "Plotting the final best solution after all of the generations have been done."
   ]
  },
  {
   "cell_type": "code",
   "execution_count": 13,
   "metadata": {
    "execution": {
     "iopub.execute_input": "2021-06-10T01:31:32.200618Z",
     "iopub.status.busy": "2021-06-10T01:31:32.199643Z",
     "iopub.status.idle": "2021-06-10T01:32:13.305873Z",
     "shell.execute_reply": "2021-06-10T01:32:13.306294Z",
     "shell.execute_reply.started": "2021-06-04T08:46:12.787563Z"
    },
    "papermill": {
     "duration": 41.260662,
     "end_time": "2021-06-10T01:32:13.306431",
     "exception": false,
     "start_time": "2021-06-10T01:31:32.045769",
     "status": "completed"
    },
    "tags": []
   },
   "outputs": [
    {
     "name": "stdout",
     "output_type": "stream",
     "text": [
      "Fitness value of the best solution = 0.619269913019987\n",
      "Index of the best solution : 0\n"
     ]
    }
   ],
   "source": [
    "solution, solution_fitness, solution_idx = ga_instance.best_solution()\n",
    "print(\"Fitness value of the best solution = {solution_fitness}\".format(solution_fitness=solution_fitness))\n",
    "print(\"Index of the best solution : {solution_idx}\".format(solution_idx=solution_idx))\n"
   ]
  },
  {
   "cell_type": "markdown",
   "metadata": {
    "papermill": {
     "duration": 0.142915,
     "end_time": "2021-06-10T01:32:13.593438",
     "exception": false,
     "start_time": "2021-06-10T01:32:13.450523",
     "status": "completed"
    },
    "tags": []
   },
   "source": [
    "Now we will apply the best solution to our model. After that we will run the final predictions for both the test set as for the train set. Also with Binary Cross Entropy and Binary Accuracy."
   ]
  },
  {
   "cell_type": "code",
   "execution_count": 14,
   "metadata": {
    "execution": {
     "iopub.execute_input": "2021-06-10T01:32:13.885529Z",
     "iopub.status.busy": "2021-06-10T01:32:13.884673Z",
     "iopub.status.idle": "2021-06-10T01:32:13.918607Z",
     "shell.execute_reply": "2021-06-10T01:32:13.918120Z"
    },
    "papermill": {
     "duration": 0.181993,
     "end_time": "2021-06-10T01:32:13.918728",
     "exception": false,
     "start_time": "2021-06-10T01:32:13.736735",
     "status": "completed"
    },
    "tags": []
   },
   "outputs": [],
   "source": [
    "best_solution_weights = pygad.kerasga.model_weights_as_matrix(model=model,\n",
    "                                                              weights_vector=solution)"
   ]
  },
  {
   "cell_type": "code",
   "execution_count": 15,
   "metadata": {
    "execution": {
     "iopub.execute_input": "2021-06-10T01:32:14.211234Z",
     "iopub.status.busy": "2021-06-10T01:32:14.210377Z",
     "iopub.status.idle": "2021-06-10T01:43:13.735041Z",
     "shell.execute_reply": "2021-06-10T01:43:13.734551Z"
    },
    "papermill": {
     "duration": 659.672764,
     "end_time": "2021-06-10T01:43:13.735186",
     "exception": false,
     "start_time": "2021-06-10T01:32:14.062422",
     "status": "completed"
    },
    "tags": []
   },
   "outputs": [],
   "source": [
    "model.set_weights(best_solution_weights)\n",
    "predictions_train = model.predict(x_train)\n",
    "predictions_test = model.predict(x_test)"
   ]
  },
  {
   "cell_type": "code",
   "execution_count": 16,
   "metadata": {
    "execution": {
     "iopub.execute_input": "2021-06-10T01:43:14.034905Z",
     "iopub.status.busy": "2021-06-10T01:43:14.033936Z",
     "iopub.status.idle": "2021-06-10T01:43:14.066358Z",
     "shell.execute_reply": "2021-06-10T01:43:14.065907Z"
    },
    "papermill": {
     "duration": 0.185022,
     "end_time": "2021-06-10T01:43:14.066504",
     "exception": false,
     "start_time": "2021-06-10T01:43:13.881482",
     "status": "completed"
    },
    "tags": []
   },
   "outputs": [
    {
     "name": "stdout",
     "output_type": "stream",
     "text": [
      "Binary Crossentropy :  1.6148047\n",
      "Accuracy :  0.895\n",
      "[[ 77  11]\n",
      " [ 10 102]]\n"
     ]
    }
   ],
   "source": [
    "bce = tensorflow.keras.losses.BinaryCrossentropy()\n",
    "print(\"Binary Crossentropy : \", bce(y_train, predictions_train).numpy())\n",
    "\n",
    "ba = tensorflow.keras.metrics.BinaryAccuracy()\n",
    "ba.update_state(y_train, predictions_train)\n",
    "accuracy = ba.result().numpy()\n",
    "print(\"Accuracy : \", accuracy)\n",
    "\n",
    "y_train_argmax = np.argmax(y_train, axis=1)\n",
    "predictions_train = np.argmax(predictions_train, axis=1)\n",
    "print(confusion_matrix(y_train_argmax, predictions_train))"
   ]
  },
  {
   "cell_type": "code",
   "execution_count": 17,
   "metadata": {
    "execution": {
     "iopub.execute_input": "2021-06-10T01:43:14.368882Z",
     "iopub.status.busy": "2021-06-10T01:43:14.368001Z",
     "iopub.status.idle": "2021-06-10T01:43:14.423009Z",
     "shell.execute_reply": "2021-06-10T01:43:14.422583Z"
    },
    "papermill": {
     "duration": 0.209935,
     "end_time": "2021-06-10T01:43:14.423132",
     "exception": false,
     "start_time": "2021-06-10T01:43:14.213197",
     "status": "completed"
    },
    "tags": []
   },
   "outputs": [
    {
     "name": "stdout",
     "output_type": "stream",
     "text": [
      "Binary Crossentropy :  4.351452\n",
      "Accuracy :  0.7157898\n",
      "[[12359  4032]\n",
      " [ 5281 11096]]\n"
     ]
    }
   ],
   "source": [
    "bce = tensorflow.keras.losses.BinaryCrossentropy()\n",
    "print(\"Binary Crossentropy : \", bce(y_test, predictions_test).numpy())\n",
    "\n",
    "ba = tensorflow.keras.metrics.BinaryAccuracy()\n",
    "ba.update_state(y_test, predictions_test)\n",
    "accuracy = ba.result().numpy()\n",
    "print(\"Accuracy : \", accuracy)\n",
    "\n",
    "y_test_argmax = np.argmax(y_test, axis=1)\n",
    "predictions_test = np.argmax(predictions_test, axis=1)\n",
    "print(confusion_matrix(y_test_argmax, predictions_test))"
   ]
  }
 ],
 "metadata": {
  "kernelspec": {
   "display_name": "Python 3",
   "language": "python",
   "name": "python3"
  },
  "language_info": {
   "codemirror_mode": {
    "name": "ipython",
    "version": 3
   },
   "file_extension": ".py",
   "mimetype": "text/x-python",
   "name": "python",
   "nbconvert_exporter": "python",
   "pygments_lexer": "ipython3",
   "version": "3.8.3"
  },
  "papermill": {
   "default_parameters": {},
   "duration": 21292.668052,
   "end_time": "2021-06-10T01:43:17.387443",
   "environment_variables": {},
   "exception": null,
   "input_path": "__notebook__.ipynb",
   "output_path": "__notebook__.ipynb",
   "parameters": {},
   "start_time": "2021-06-09T19:48:24.719391",
   "version": "2.3.3"
  }
 },
 "nbformat": 4,
 "nbformat_minor": 5
}
