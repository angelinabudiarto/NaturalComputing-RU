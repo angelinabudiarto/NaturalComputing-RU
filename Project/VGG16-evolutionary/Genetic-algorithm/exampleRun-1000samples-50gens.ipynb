{
 "cells": [
  {
   "cell_type": "markdown",
   "id": "limiting-cycling",
   "metadata": {
    "papermill": {
     "duration": 0.016837,
     "end_time": "2021-06-10T06:11:30.240466",
     "exception": false,
     "start_time": "2021-06-10T06:11:30.223629",
     "status": "completed"
    },
    "tags": []
   },
   "source": [
    "## Natural Computing - Genetic Algorithm with PyGAD\n",
    "This notebook is used on Kaggle for the Natural Computing project.\n",
    "In this notebook the dataset Metastatic Tissue Classification - PatchCamelyon (`metastatic-tissue-classification-patchcamelyon`) is used."
   ]
  },
  {
   "cell_type": "markdown",
   "id": "pregnant-consequence",
   "metadata": {
    "papermill": {
     "duration": 0.015385,
     "end_time": "2021-06-10T06:11:30.271512",
     "exception": false,
     "start_time": "2021-06-10T06:11:30.256127",
     "status": "completed"
    },
    "tags": []
   },
   "source": [
    "First install pygad for later use, since this isn't included in the default Kaggle workspace."
   ]
  },
  {
   "cell_type": "code",
   "execution_count": 1,
   "id": "alive-bargain",
   "metadata": {
    "execution": {
     "iopub.execute_input": "2021-06-10T06:11:30.312140Z",
     "iopub.status.busy": "2021-06-10T06:11:30.311646Z",
     "iopub.status.idle": "2021-06-10T06:11:37.919259Z",
     "shell.execute_reply": "2021-06-10T06:11:37.920308Z",
     "shell.execute_reply.started": "2021-06-09T12:05:25.565046Z"
    },
    "papermill": {
     "duration": 7.633808,
     "end_time": "2021-06-10T06:11:37.920628",
     "exception": false,
     "start_time": "2021-06-10T06:11:30.286820",
     "status": "completed"
    },
    "tags": []
   },
   "outputs": [
    {
     "name": "stdout",
     "output_type": "stream",
     "text": [
      "Collecting pygad\r\n",
      "  Downloading pygad-2.14.3-py3-none-any.whl (46 kB)\r\n",
      "\u001b[K     |████████████████████████████████| 46 kB 372 kB/s \r\n",
      "\u001b[?25hRequirement already satisfied: numpy in /opt/conda/lib/python3.7/site-packages (from pygad) (1.19.5)\r\n",
      "Requirement already satisfied: matplotlib in /opt/conda/lib/python3.7/site-packages (from pygad) (3.4.1)\r\n",
      "Requirement already satisfied: cycler>=0.10 in /opt/conda/lib/python3.7/site-packages (from matplotlib->pygad) (0.10.0)\r\n",
      "Requirement already satisfied: pillow>=6.2.0 in /opt/conda/lib/python3.7/site-packages (from matplotlib->pygad) (7.2.0)\r\n",
      "Requirement already satisfied: kiwisolver>=1.0.1 in /opt/conda/lib/python3.7/site-packages (from matplotlib->pygad) (1.3.1)\r\n",
      "Requirement already satisfied: pyparsing>=2.2.1 in /opt/conda/lib/python3.7/site-packages (from matplotlib->pygad) (2.4.7)\r\n",
      "Requirement already satisfied: python-dateutil>=2.7 in /opt/conda/lib/python3.7/site-packages (from matplotlib->pygad) (2.8.1)\r\n",
      "Requirement already satisfied: six in /opt/conda/lib/python3.7/site-packages (from cycler>=0.10->matplotlib->pygad) (1.15.0)\r\n",
      "Installing collected packages: pygad\r\n",
      "Successfully installed pygad-2.14.3\r\n"
     ]
    }
   ],
   "source": [
    "!pip install pygad"
   ]
  },
  {
   "cell_type": "code",
   "execution_count": 2,
   "id": "indian-mason",
   "metadata": {
    "execution": {
     "iopub.execute_input": "2021-06-10T06:11:37.962670Z",
     "iopub.status.busy": "2021-06-10T06:11:37.961924Z",
     "iopub.status.idle": "2021-06-10T06:11:43.101655Z",
     "shell.execute_reply": "2021-06-10T06:11:43.100725Z",
     "shell.execute_reply.started": "2021-06-09T12:05:35.43079Z"
    },
    "papermill": {
     "duration": 5.162609,
     "end_time": "2021-06-10T06:11:43.101792",
     "exception": false,
     "start_time": "2021-06-10T06:11:37.939183",
     "status": "completed"
    },
    "tags": []
   },
   "outputs": [],
   "source": [
    "import tensorflow.keras\n",
    "import pygad.kerasga\n",
    "import numpy as np\n",
    "import pandas as pd\n",
    "import pygad\n",
    "import cv2\n",
    "import h5py\n",
    "\n",
    "from keras.datasets import mnist\n",
    "from keras.preprocessing import image\n",
    "from keras.applications.vgg16 import VGG16, preprocess_input\n",
    "from keras.layers import Input, Flatten, Dense, Dropout\n",
    "from keras.models import Model\n",
    "from sklearn.metrics import confusion_matrix"
   ]
  },
  {
   "cell_type": "markdown",
   "id": "transsexual-mirror",
   "metadata": {
    "papermill": {
     "duration": 0.018201,
     "end_time": "2021-06-10T06:11:43.138880",
     "exception": false,
     "start_time": "2021-06-10T06:11:43.120679",
     "status": "completed"
    },
    "tags": []
   },
   "source": [
    "#### Data\n",
    "Import the data from the dataset and define the number of samples from the train set to run with the Genetic Algorithm."
   ]
  },
  {
   "cell_type": "code",
   "execution_count": 3,
   "id": "warming-textbook",
   "metadata": {
    "execution": {
     "iopub.execute_input": "2021-06-10T06:11:44.136262Z",
     "iopub.status.busy": "2021-06-10T06:11:44.134910Z",
     "iopub.status.idle": "2021-06-10T06:11:52.876984Z",
     "shell.execute_reply": "2021-06-10T06:11:52.876111Z",
     "shell.execute_reply.started": "2021-06-09T12:05:42.672763Z"
    },
    "papermill": {
     "duration": 9.721038,
     "end_time": "2021-06-10T06:11:52.877130",
     "exception": false,
     "start_time": "2021-06-10T06:11:43.156092",
     "status": "completed"
    },
    "tags": []
   },
   "outputs": [],
   "source": [
    "num_samples = 1000\n",
    "\n",
    "x_train = []\n",
    "y_train = []\n",
    "\n",
    "x_test = []\n",
    "y_test = []\n",
    "\n",
    "with h5py.File('/kaggle/input/metastatic-tissue-classification-patchcamelyon/pcam/training_split.h5', 'r') as f:\n",
    "    x_train = np.array(f['x'][:num_samples])\n",
    "    \n",
    "with h5py.File('/kaggle/input/metastatic-tissue-classification-patchcamelyon/Labels/Labels/camelyonpatch_level_2_split_train_y.h5', 'r') as f:\n",
    "    y_train = np.array(f['y'][:num_samples].flat)\n",
    "    \n",
    "with h5py.File('/kaggle/input/metastatic-tissue-classification-patchcamelyon/pcam/test_split.h5', 'r') as f:\n",
    "    x_test = np.array(f['x'][:])\n",
    "    \n",
    "with h5py.File('/kaggle/input/metastatic-tissue-classification-patchcamelyon/Labels/Labels/camelyonpatch_level_2_split_test_y.h5', 'r') as f:\n",
    "    y_test = np.array(f['y'][:].flat)"
   ]
  },
  {
   "cell_type": "code",
   "execution_count": 4,
   "id": "hungarian-johns",
   "metadata": {
    "execution": {
     "iopub.execute_input": "2021-06-10T06:11:52.919213Z",
     "iopub.status.busy": "2021-06-10T06:11:52.917786Z",
     "iopub.status.idle": "2021-06-10T06:11:52.921768Z",
     "shell.execute_reply": "2021-06-10T06:11:52.921283Z",
     "shell.execute_reply.started": "2021-06-09T12:05:52.854068Z"
    },
    "papermill": {
     "duration": 0.026188,
     "end_time": "2021-06-10T06:11:52.921886",
     "exception": false,
     "start_time": "2021-06-10T06:11:52.895698",
     "status": "completed"
    },
    "tags": []
   },
   "outputs": [
    {
     "name": "stdout",
     "output_type": "stream",
     "text": [
      "(1000, 96, 96, 3) (1000,)\n",
      "(32768, 96, 96, 3) (32768,)\n"
     ]
    }
   ],
   "source": [
    "print(x_train.shape, y_train.shape)\n",
    "print(x_test.shape, y_test.shape)"
   ]
  },
  {
   "cell_type": "code",
   "execution_count": 5,
   "id": "unnecessary-toner",
   "metadata": {
    "execution": {
     "iopub.execute_input": "2021-06-10T06:11:52.963003Z",
     "iopub.status.busy": "2021-06-10T06:11:52.962508Z",
     "iopub.status.idle": "2021-06-10T06:11:52.965809Z",
     "shell.execute_reply": "2021-06-10T06:11:52.966185Z",
     "shell.execute_reply.started": "2021-06-09T12:05:52.876439Z"
    },
    "papermill": {
     "duration": 0.024935,
     "end_time": "2021-06-10T06:11:52.966308",
     "exception": false,
     "start_time": "2021-06-10T06:11:52.941373",
     "status": "completed"
    },
    "tags": []
   },
   "outputs": [],
   "source": [
    "input_img = (96, 96, 3) #All images in PatchCamelyon are in this shape, use for the input_shape of the Keras model"
   ]
  },
  {
   "cell_type": "markdown",
   "id": "prepared-world",
   "metadata": {
    "papermill": {
     "duration": 0.017459,
     "end_time": "2021-06-10T06:11:53.001558",
     "exception": false,
     "start_time": "2021-06-10T06:11:52.984099",
     "status": "completed"
    },
    "tags": []
   },
   "source": [
    "Setup of the Keras model VGG16"
   ]
  },
  {
   "cell_type": "code",
   "execution_count": 6,
   "id": "wireless-enemy",
   "metadata": {
    "execution": {
     "iopub.execute_input": "2021-06-10T06:11:53.043919Z",
     "iopub.status.busy": "2021-06-10T06:11:53.043349Z",
     "iopub.status.idle": "2021-06-10T06:11:56.748140Z",
     "shell.execute_reply": "2021-06-10T06:11:56.747697Z",
     "shell.execute_reply.started": "2021-06-09T12:05:52.889263Z"
    },
    "papermill": {
     "duration": 3.729183,
     "end_time": "2021-06-10T06:11:56.748269",
     "exception": false,
     "start_time": "2021-06-10T06:11:53.019086",
     "status": "completed"
    },
    "tags": []
   },
   "outputs": [
    {
     "name": "stdout",
     "output_type": "stream",
     "text": [
      "Downloading data from https://storage.googleapis.com/tensorflow/keras-applications/vgg16/vgg16_weights_tf_dim_ordering_tf_kernels_notop.h5\n",
      "58892288/58889256 [==============================] - 1s 0us/step\n",
      "Model: \"model\"\n",
      "_________________________________________________________________\n",
      "Layer (type)                 Output Shape              Param #   \n",
      "=================================================================\n",
      "input_1 (InputLayer)         [(None, 96, 96, 3)]       0         \n",
      "_________________________________________________________________\n",
      "block1_conv1 (Conv2D)        (None, 96, 96, 64)        1792      \n",
      "_________________________________________________________________\n",
      "block1_conv2 (Conv2D)        (None, 96, 96, 64)        36928     \n",
      "_________________________________________________________________\n",
      "block1_pool (MaxPooling2D)   (None, 48, 48, 64)        0         \n",
      "_________________________________________________________________\n",
      "block2_conv1 (Conv2D)        (None, 48, 48, 128)       73856     \n",
      "_________________________________________________________________\n",
      "block2_conv2 (Conv2D)        (None, 48, 48, 128)       147584    \n",
      "_________________________________________________________________\n",
      "block2_pool (MaxPooling2D)   (None, 24, 24, 128)       0         \n",
      "_________________________________________________________________\n",
      "block3_conv1 (Conv2D)        (None, 24, 24, 256)       295168    \n",
      "_________________________________________________________________\n",
      "block3_conv2 (Conv2D)        (None, 24, 24, 256)       590080    \n",
      "_________________________________________________________________\n",
      "block3_conv3 (Conv2D)        (None, 24, 24, 256)       590080    \n",
      "_________________________________________________________________\n",
      "block3_pool (MaxPooling2D)   (None, 12, 12, 256)       0         \n",
      "_________________________________________________________________\n",
      "block4_conv1 (Conv2D)        (None, 12, 12, 512)       1180160   \n",
      "_________________________________________________________________\n",
      "block4_conv2 (Conv2D)        (None, 12, 12, 512)       2359808   \n",
      "_________________________________________________________________\n",
      "block4_conv3 (Conv2D)        (None, 12, 12, 512)       2359808   \n",
      "_________________________________________________________________\n",
      "block4_pool (MaxPooling2D)   (None, 6, 6, 512)         0         \n",
      "_________________________________________________________________\n",
      "block5_conv1 (Conv2D)        (None, 6, 6, 512)         2359808   \n",
      "_________________________________________________________________\n",
      "block5_conv2 (Conv2D)        (None, 6, 6, 512)         2359808   \n",
      "_________________________________________________________________\n",
      "block5_conv3 (Conv2D)        (None, 6, 6, 512)         2359808   \n",
      "_________________________________________________________________\n",
      "block5_pool (MaxPooling2D)   (None, 3, 3, 512)         0         \n",
      "_________________________________________________________________\n",
      "flatten (Flatten)            (None, 4608)              0         \n",
      "_________________________________________________________________\n",
      "dense (Dense)                (None, 2)                 9218      \n",
      "=================================================================\n",
      "Total params: 14,723,906\n",
      "Trainable params: 9,218\n",
      "Non-trainable params: 14,714,688\n",
      "_________________________________________________________________\n",
      "None\n"
     ]
    }
   ],
   "source": [
    "vgg_model = VGG16(weights='imagenet', include_top=False, input_shape=input_img)\n",
    "\n",
    "for layer in vgg_model.layers:\n",
    "    layer.trainable = False\n",
    "\n",
    "x = vgg_model.output\n",
    "x = Flatten()(x)\n",
    "x = Dense(2, activation='softmax')(x)\n",
    "\n",
    "model = Model(inputs=vgg_model.input, outputs=x)\n",
    "print(model.summary())"
   ]
  },
  {
   "cell_type": "code",
   "execution_count": 7,
   "id": "future-witch",
   "metadata": {
    "execution": {
     "iopub.execute_input": "2021-06-10T06:11:56.795725Z",
     "iopub.status.busy": "2021-06-10T06:11:56.795169Z",
     "iopub.status.idle": "2021-06-10T06:11:56.804218Z",
     "shell.execute_reply": "2021-06-10T06:11:56.804591Z",
     "shell.execute_reply.started": "2021-06-09T12:05:56.997657Z"
    },
    "papermill": {
     "duration": 0.033764,
     "end_time": "2021-06-10T06:11:56.804719",
     "exception": false,
     "start_time": "2021-06-10T06:11:56.770955",
     "status": "completed"
    },
    "tags": []
   },
   "outputs": [],
   "source": [
    "keras_ga = pygad.kerasga.KerasGA(model=model, num_solutions=10)"
   ]
  },
  {
   "cell_type": "markdown",
   "id": "large-listening",
   "metadata": {
    "papermill": {
     "duration": 0.021398,
     "end_time": "2021-06-10T06:11:56.847220",
     "exception": false,
     "start_time": "2021-06-10T06:11:56.825822",
     "status": "completed"
    },
    "tags": []
   },
   "source": [
    "#### Fitness function\n",
    "Define the fitness function:\n",
    "- Form the model weights for usage in the VGG16 model\n",
    "- Apply the model weights\n",
    "- Predict the train set with updated model\n",
    "- Calculate Binary Crossentropy\n",
    "- Define fitness score\n",
    "- Return fitness score for particular solution"
   ]
  },
  {
   "cell_type": "code",
   "execution_count": 8,
   "id": "funky-gregory",
   "metadata": {
    "execution": {
     "iopub.execute_input": "2021-06-10T06:11:56.896392Z",
     "iopub.status.busy": "2021-06-10T06:11:56.895053Z",
     "iopub.status.idle": "2021-06-10T06:11:56.897954Z",
     "shell.execute_reply": "2021-06-10T06:11:56.897543Z",
     "shell.execute_reply.started": "2021-06-09T12:23:37.853176Z"
    },
    "papermill": {
     "duration": 0.029579,
     "end_time": "2021-06-10T06:11:56.898063",
     "exception": false,
     "start_time": "2021-06-10T06:11:56.868484",
     "status": "completed"
    },
    "tags": []
   },
   "outputs": [],
   "source": [
    "def fitness_func(solution, sol_idx):\n",
    "    global x_train, y_train, keras_ga, model\n",
    "    \n",
    "    model_weights_matrix = pygad.kerasga.model_weights_as_matrix(model=model, weights_vector=solution)\n",
    "\n",
    "    model.set_weights(model_weights_matrix)\n",
    "    \n",
    "    predictions = model.predict(x_train)\n",
    "    \n",
    "    bce = tensorflow.keras.losses.BinaryCrossentropy()\n",
    "    solution_fitness = 1.0 / (bce(y_train, predictions).numpy() + 0.00000001)\n",
    "    \n",
    "    return solution_fitness"
   ]
  },
  {
   "cell_type": "markdown",
   "id": "sitting-source",
   "metadata": {
    "papermill": {
     "duration": 0.021864,
     "end_time": "2021-06-10T06:11:56.941881",
     "exception": false,
     "start_time": "2021-06-10T06:11:56.920017",
     "status": "completed"
    },
    "tags": []
   },
   "source": [
    "The callback generation is a way to displays information per generation. In this case we use this to display the generation number and the fitness score of the current best solution."
   ]
  },
  {
   "cell_type": "code",
   "execution_count": 9,
   "id": "canadian-velvet",
   "metadata": {
    "execution": {
     "iopub.execute_input": "2021-06-10T06:11:56.991076Z",
     "iopub.status.busy": "2021-06-10T06:11:56.989813Z",
     "iopub.status.idle": "2021-06-10T06:11:56.992689Z",
     "shell.execute_reply": "2021-06-10T06:11:56.992245Z",
     "shell.execute_reply.started": "2021-06-09T12:05:57.027689Z"
    },
    "papermill": {
     "duration": 0.028798,
     "end_time": "2021-06-10T06:11:56.992795",
     "exception": false,
     "start_time": "2021-06-10T06:11:56.963997",
     "status": "completed"
    },
    "tags": []
   },
   "outputs": [],
   "source": [
    "def callback_generation(ga_instance):\n",
    "    print(\"Generation = {generation}\".format(generation=ga_instance.generations_completed))\n",
    "    print(\"Fitness    = {fitness}\".format(fitness=ga_instance.best_solution()[1]))"
   ]
  },
  {
   "cell_type": "markdown",
   "id": "friendly-uzbekistan",
   "metadata": {
    "papermill": {
     "duration": 0.020871,
     "end_time": "2021-06-10T06:11:57.034911",
     "exception": false,
     "start_time": "2021-06-10T06:11:57.014040",
     "status": "completed"
    },
    "tags": []
   },
   "source": [
    "We form a categorical array from the y labels of train and test to make it easier to work with the Binary Cross Entropy."
   ]
  },
  {
   "cell_type": "code",
   "execution_count": 10,
   "id": "proper-cooperation",
   "metadata": {
    "execution": {
     "iopub.execute_input": "2021-06-10T06:11:57.083782Z",
     "iopub.status.busy": "2021-06-10T06:11:57.082127Z",
     "iopub.status.idle": "2021-06-10T06:11:57.088179Z",
     "shell.execute_reply": "2021-06-10T06:11:57.088730Z",
     "shell.execute_reply.started": "2021-06-09T12:05:57.038124Z"
    },
    "papermill": {
     "duration": 0.032539,
     "end_time": "2021-06-10T06:11:57.088893",
     "exception": false,
     "start_time": "2021-06-10T06:11:57.056354",
     "status": "completed"
    },
    "tags": []
   },
   "outputs": [
    {
     "name": "stdout",
     "output_type": "stream",
     "text": [
      "1000 (1000, 2)\n",
      "32768 (32768, 2)\n"
     ]
    }
   ],
   "source": [
    "y_train = tensorflow.keras.utils.to_categorical(y_train)\n",
    "print(len(x_train),y_train.shape)\n",
    "\n",
    "y_test = tensorflow.keras.utils.to_categorical(y_test)\n",
    "print(len(x_test),y_test.shape)"
   ]
  },
  {
   "cell_type": "code",
   "execution_count": 11,
   "id": "musical-stocks",
   "metadata": {
    "execution": {
     "iopub.execute_input": "2021-06-10T06:11:57.136517Z",
     "iopub.status.busy": "2021-06-10T06:11:57.135906Z",
     "iopub.status.idle": "2021-06-10T06:11:57.139333Z",
     "shell.execute_reply": "2021-06-10T06:11:57.139879Z",
     "shell.execute_reply.started": "2021-06-09T12:05:57.054073Z"
    },
    "papermill": {
     "duration": 0.029107,
     "end_time": "2021-06-10T06:11:57.140007",
     "exception": false,
     "start_time": "2021-06-10T06:11:57.110900",
     "status": "completed"
    },
    "tags": []
   },
   "outputs": [],
   "source": [
    "num_generations = 50 # Number of generations.\n",
    "num_parents_mating = 5 # Number of solutions to be selected as parents in the mating pool.\n",
    "initial_population = keras_ga.population_weights # Initial population of network weights.\n",
    "parent_selection_type = \"sss\" # Type of parent selection.\n",
    "crossover_type = \"single_point\" # Type of the crossover operator.\n",
    "mutation_type = \"random\" # Type of the mutation operator.\n",
    "mutation_percent_genes = 10 # Percentage of genes to mutate.\n",
    "keep_parents = 2 # Number of parents to keep in the next population."
   ]
  },
  {
   "cell_type": "markdown",
   "id": "derived-solid",
   "metadata": {
    "papermill": {
     "duration": 0.022296,
     "end_time": "2021-06-10T06:11:57.185579",
     "exception": false,
     "start_time": "2021-06-10T06:11:57.163283",
     "status": "completed"
    },
    "tags": []
   },
   "source": [
    "#### PyGAD instance\n",
    "Below the PyGAD Genetic Algorithm gets instantiated with the parameters set up above. After that it will run it's generations and show the Iteration vs. Fitness result graph."
   ]
  },
  {
   "cell_type": "code",
   "execution_count": 12,
   "id": "returning-outreach",
   "metadata": {
    "execution": {
     "iopub.execute_input": "2021-06-10T06:11:57.233889Z",
     "iopub.status.busy": "2021-06-10T06:11:57.233232Z",
     "iopub.status.idle": "2021-06-10T11:50:14.635672Z",
     "shell.execute_reply": "2021-06-10T11:50:14.635179Z",
     "shell.execute_reply.started": "2021-06-09T12:23:40.504524Z"
    },
    "papermill": {
     "duration": 20297.428187,
     "end_time": "2021-06-10T11:50:14.635818",
     "exception": false,
     "start_time": "2021-06-10T06:11:57.207631",
     "status": "completed"
    },
    "tags": []
   },
   "outputs": [
    {
     "name": "stdout",
     "output_type": "stream",
     "text": [
      "Generation = 1\n",
      "Fitness    = 0.16224314691119907\n",
      "Generation = 2\n",
      "Fitness    = 0.17344900694717638\n",
      "Generation = 3\n",
      "Fitness    = 0.19683227153339886\n",
      "Generation = 4\n",
      "Fitness    = 0.19683227153339886\n",
      "Generation = 5\n",
      "Fitness    = 0.19685207773448155\n",
      "Generation = 6\n",
      "Fitness    = 0.20035244913817477\n",
      "Generation = 7\n",
      "Fitness    = 0.21848580986132216\n",
      "Generation = 8\n",
      "Fitness    = 0.22205657080382002\n",
      "Generation = 9\n",
      "Fitness    = 0.22300407953291693\n",
      "Generation = 10\n",
      "Fitness    = 0.2599352160660254\n",
      "Generation = 11\n",
      "Fitness    = 0.2599352160660254\n",
      "Generation = 12\n",
      "Fitness    = 0.2599352160660254\n",
      "Generation = 13\n",
      "Fitness    = 0.2599352160660254\n",
      "Generation = 14\n",
      "Fitness    = 0.2599352160660254\n",
      "Generation = 15\n",
      "Fitness    = 0.2599352160660254\n",
      "Generation = 16\n",
      "Fitness    = 0.2599352160660254\n",
      "Generation = 17\n",
      "Fitness    = 0.2599352160660254\n",
      "Generation = 18\n",
      "Fitness    = 0.2599352160660254\n",
      "Generation = 19\n",
      "Fitness    = 0.2599352160660254\n",
      "Generation = 20\n",
      "Fitness    = 0.2599352160660254\n",
      "Generation = 21\n",
      "Fitness    = 0.2599352160660254\n",
      "Generation = 22\n",
      "Fitness    = 0.2599352160660254\n",
      "Generation = 23\n",
      "Fitness    = 0.2599352160660254\n",
      "Generation = 24\n",
      "Fitness    = 0.2599352160660254\n",
      "Generation = 25\n",
      "Fitness    = 0.2604518760351253\n",
      "Generation = 26\n",
      "Fitness    = 0.2604518760351253\n",
      "Generation = 27\n",
      "Fitness    = 0.2604518760351253\n",
      "Generation = 28\n",
      "Fitness    = 0.2604518760351253\n",
      "Generation = 29\n",
      "Fitness    = 0.2604518760351253\n",
      "Generation = 30\n",
      "Fitness    = 0.2604518760351253\n",
      "Generation = 31\n",
      "Fitness    = 0.2604518760351253\n",
      "Generation = 32\n",
      "Fitness    = 0.2604518760351253\n",
      "Generation = 33\n",
      "Fitness    = 0.2604518760351253\n",
      "Generation = 34\n",
      "Fitness    = 0.2604518760351253\n",
      "Generation = 35\n",
      "Fitness    = 0.2604518760351253\n",
      "Generation = 36\n",
      "Fitness    = 0.2604518760351253\n",
      "Generation = 37\n",
      "Fitness    = 0.2604518760351253\n",
      "Generation = 38\n",
      "Fitness    = 0.2604518760351253\n",
      "Generation = 39\n",
      "Fitness    = 0.2604518760351253\n",
      "Generation = 40\n",
      "Fitness    = 0.2604518760351253\n",
      "Generation = 41\n",
      "Fitness    = 0.2604518760351253\n",
      "Generation = 42\n",
      "Fitness    = 0.2604518760351253\n",
      "Generation = 43\n",
      "Fitness    = 0.2604518760351253\n",
      "Generation = 44\n",
      "Fitness    = 0.2604518760351253\n",
      "Generation = 45\n",
      "Fitness    = 0.2604518760351253\n",
      "Generation = 46\n",
      "Fitness    = 0.2604518760351253\n",
      "Generation = 47\n",
      "Fitness    = 0.2604518760351253\n",
      "Generation = 48\n",
      "Fitness    = 0.2604518760351253\n",
      "Generation = 49\n",
      "Fitness    = 0.260774736369403\n",
      "Generation = 50\n",
      "Fitness    = 0.260774736369403\n"
     ]
    },
    {
     "data": {
      "image/png": "[encoded data removed]",
      "text/plain": [
       "<Figure size 432x288 with 1 Axes>"
      ]
     },
     "metadata": {
      "needs_background": "light"
     },
     "output_type": "display_data"
    },
    {
     "data": {
      "image/png": "[encoded data removed]",
      "text/plain": [
       "<Figure size 432x288 with 1 Axes>"
      ]
     },
     "execution_count": 12,
     "metadata": {},
     "output_type": "execute_result"
    }
   ],
   "source": [
    "ga_instance = pygad.GA(num_generations=num_generations,\n",
    "                       num_parents_mating=num_parents_mating,\n",
    "                       initial_population=initial_population,\n",
    "                       fitness_func=fitness_func,\n",
    "                       parent_selection_type=parent_selection_type,\n",
    "                       crossover_type=crossover_type,\n",
    "                       mutation_type=mutation_type,\n",
    "                       mutation_percent_genes=mutation_percent_genes,\n",
    "                       keep_parents=keep_parents,\n",
    "                       on_generation=callback_generation)\n",
    "\n",
    "ga_instance.run()\n",
    "\n",
    "ga_instance.plot_result(title=\"PatchCamelyon GA - Iteration vs. Fitness\", linewidth=4)"
   ]
  },
  {
   "cell_type": "markdown",
   "id": "hollywood-sheep",
   "metadata": {
    "papermill": {
     "duration": 0.048405,
     "end_time": "2021-06-10T11:50:14.733900",
     "exception": false,
     "start_time": "2021-06-10T11:50:14.685495",
     "status": "completed"
    },
    "tags": []
   },
   "source": [
    "Plotting the final best solution after all of the generations have been done."
   ]
  },
  {
   "cell_type": "code",
   "execution_count": 13,
   "id": "regulated-compromise",
   "metadata": {
    "execution": {
     "iopub.execute_input": "2021-06-10T11:50:14.837488Z",
     "iopub.status.busy": "2021-06-10T11:50:14.836638Z",
     "iopub.status.idle": "2021-06-10T11:53:35.696919Z",
     "shell.execute_reply": "2021-06-10T11:53:35.697315Z",
     "shell.execute_reply.started": "2021-06-04T08:46:12.787563Z"
    },
    "papermill": {
     "duration": 200.914638,
     "end_time": "2021-06-10T11:53:35.697483",
     "exception": false,
     "start_time": "2021-06-10T11:50:14.782845",
     "status": "completed"
    },
    "tags": []
   },
   "outputs": [
    {
     "name": "stdout",
     "output_type": "stream",
     "text": [
      "Fitness value of the best solution = 0.260774736369403\n",
      "Index of the best solution : 0\n"
     ]
    }
   ],
   "source": [
    "solution, solution_fitness, solution_idx = ga_instance.best_solution()\n",
    "print(\"Fitness value of the best solution = {solution_fitness}\".format(solution_fitness=solution_fitness))\n",
    "print(\"Index of the best solution : {solution_idx}\".format(solution_idx=solution_idx))\n"
   ]
  },
  {
   "cell_type": "markdown",
   "id": "proved-hello",
   "metadata": {
    "papermill": {
     "duration": 0.046609,
     "end_time": "2021-06-10T11:53:35.791110",
     "exception": false,
     "start_time": "2021-06-10T11:53:35.744501",
     "status": "completed"
    },
    "tags": []
   },
   "source": [
    "Now we will apply the best solution to our model. After that we will run the final predictions for both the test set as for the train set. Also with Binary Cross Entropy and Binary Accuracy."
   ]
  },
  {
   "cell_type": "code",
   "execution_count": 14,
   "id": "billion-census",
   "metadata": {
    "execution": {
     "iopub.execute_input": "2021-06-10T11:53:35.889420Z",
     "iopub.status.busy": "2021-06-10T11:53:35.888648Z",
     "iopub.status.idle": "2021-06-10T11:53:35.923341Z",
     "shell.execute_reply": "2021-06-10T11:53:35.922879Z"
    },
    "papermill": {
     "duration": 0.085376,
     "end_time": "2021-06-10T11:53:35.923482",
     "exception": false,
     "start_time": "2021-06-10T11:53:35.838106",
     "status": "completed"
    },
    "tags": []
   },
   "outputs": [],
   "source": [
    "best_solution_weights = pygad.kerasga.model_weights_as_matrix(model=model,\n",
    "                                                              weights_vector=solution)"
   ]
  },
  {
   "cell_type": "code",
   "execution_count": 15,
   "id": "mental-illness",
   "metadata": {
    "execution": {
     "iopub.execute_input": "2021-06-10T11:53:36.023205Z",
     "iopub.status.busy": "2021-06-10T11:53:36.022390Z",
     "iopub.status.idle": "2021-06-10T12:04:51.505970Z",
     "shell.execute_reply": "2021-06-10T12:04:51.507106Z"
    },
    "papermill": {
     "duration": 675.536421,
     "end_time": "2021-06-10T12:04:51.507329",
     "exception": false,
     "start_time": "2021-06-10T11:53:35.970908",
     "status": "completed"
    },
    "tags": []
   },
   "outputs": [],
   "source": [
    "model.set_weights(best_solution_weights)\n",
    "predictions_train = model.predict(x_train)\n",
    "predictions_test = model.predict(x_test)"
   ]
  },
  {
   "cell_type": "code",
   "execution_count": 16,
   "id": "brutal-production",
   "metadata": {
    "execution": {
     "iopub.execute_input": "2021-06-10T12:04:51.691106Z",
     "iopub.status.busy": "2021-06-10T12:04:51.689583Z",
     "iopub.status.idle": "2021-06-10T12:04:51.787478Z",
     "shell.execute_reply": "2021-06-10T12:04:51.786994Z"
    },
    "papermill": {
     "duration": 0.191033,
     "end_time": "2021-06-10T12:04:51.787601",
     "exception": false,
     "start_time": "2021-06-10T12:04:51.596568",
     "status": "completed"
    },
    "tags": []
   },
   "outputs": [
    {
     "name": "stdout",
     "output_type": "stream",
     "text": [
      "Binary Crossentropy :  3.8347273\n",
      "Accuracy :  0.747\n",
      "[[317 163]\n",
      " [ 90 430]]\n"
     ]
    }
   ],
   "source": [
    "bce = tensorflow.keras.losses.BinaryCrossentropy()\n",
    "print(\"Binary Crossentropy : \", bce(y_train, predictions_train).numpy())\n",
    "\n",
    "ba = tensorflow.keras.metrics.BinaryAccuracy()\n",
    "ba.update_state(y_train, predictions_train)\n",
    "accuracy = ba.result().numpy()\n",
    "print(\"Accuracy : \", accuracy)\n",
    "\n",
    "y_train_argmax = np.argmax(y_train, axis=1)\n",
    "predictions_train = np.argmax(predictions_train, axis=1)\n",
    "print(confusion_matrix(y_train_argmax, predictions_train))"
   ]
  },
  {
   "cell_type": "code",
   "execution_count": 17,
   "id": "covered-continent",
   "metadata": {
    "execution": {
     "iopub.execute_input": "2021-06-10T12:04:51.889811Z",
     "iopub.status.busy": "2021-06-10T12:04:51.889008Z",
     "iopub.status.idle": "2021-06-10T12:04:51.942884Z",
     "shell.execute_reply": "2021-06-10T12:04:51.943255Z"
    },
    "papermill": {
     "duration": 0.106994,
     "end_time": "2021-06-10T12:04:51.943389",
     "exception": false,
     "start_time": "2021-06-10T12:04:51.836395",
     "status": "completed"
    },
    "tags": []
   },
   "outputs": [
    {
     "name": "stdout",
     "output_type": "stream",
     "text": [
      "Binary Crossentropy :  4.431924\n",
      "Accuracy :  0.70806885\n",
      "[[10163  6228]\n",
      " [ 3338 13039]]\n"
     ]
    }
   ],
   "source": [
    "bce = tensorflow.keras.losses.BinaryCrossentropy()\n",
    "print(\"Binary Crossentropy : \", bce(y_test, predictions_test).numpy())\n",
    "\n",
    "ba = tensorflow.keras.metrics.BinaryAccuracy()\n",
    "ba.update_state(y_test, predictions_test)\n",
    "accuracy = ba.result().numpy()\n",
    "print(\"Accuracy : \", accuracy)\n",
    "\n",
    "y_test_argmax = np.argmax(y_test, axis=1)\n",
    "predictions_test = np.argmax(predictions_test, axis=1)\n",
    "print(confusion_matrix(y_test_argmax, predictions_test))"
   ]
  }
 ],
 "metadata": {
  "kernelspec": {
   "display_name": "Python 3",
   "language": "python",
   "name": "python3"
  },
  "language_info": {
   "codemirror_mode": {
    "name": "ipython",
    "version": 3
   },
   "file_extension": ".py",
   "mimetype": "text/x-python",
   "name": "python",
   "nbconvert_exporter": "python",
   "pygments_lexer": "ipython3",
   "version": "3.7.10"
  },
  "papermill": {
   "default_parameters": {},
   "duration": 21211.037073,
   "end_time": "2021-06-10T12:04:54.820959",
   "environment_variables": {},
   "exception": null,
   "input_path": "__notebook__.ipynb",
   "output_path": "__notebook__.ipynb",
   "parameters": {},
   "start_time": "2021-06-10T06:11:23.783886",
   "version": "2.3.3"
  }
 },
 "nbformat": 4,
 "nbformat_minor": 5
}
