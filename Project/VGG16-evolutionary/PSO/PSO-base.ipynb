{
 "metadata": {
  "kernelspec": {
   "language": "python",
   "display_name": "Python 3",
   "name": "python3"
  },
  "language_info": {
   "name": "python",
   "version": "3.7.10",
   "mimetype": "text/x-python",
   "codemirror_mode": {
    "name": "ipython",
    "version": 3
   },
   "pygments_lexer": "ipython3",
   "nbconvert_exporter": "python",
   "file_extension": ".py"
  }
 },
 "nbformat_minor": 4,
 "nbformat": 4,
 "cells": [
  {
   "cell_type": "markdown",
   "source": [
    "# Natural Computing - Particle Swarm Optimization\n",
    "This notebook is used on Kaggle for the Natural Computing project. In this notebook the dataset Metastatic Tissue Classification - PatchCamelyon (metastatic-tissue-classification-patchcamelyon) is used."
   ],
   "metadata": {
    "collapsed": false,
    "pycharm": {
     "name": "#%% md\n"
    }
   }
  },
  {
   "cell_type": "markdown",
   "source": [
    "# Imports"
   ],
   "metadata": {}
  },
  {
   "cell_type": "code",
   "source": [
    "%%capture\n",
    "import sys\n",
    "import numpy as np\n",
    "import os\n",
    "import cv2\n",
    "import matplotlib.pyplot as plt\n",
    "from sklearn.metrics import confusion_matrix\n",
    "\n",
    "import tensorflow_datasets as tfds\n",
    "import tensorflow as tf\n",
    "\n",
    "import keras\n",
    "from keras.models import Sequential\n",
    "from keras.applications.vgg16 import VGG16\n",
    "from keras.preprocessing import image\n",
    "from keras.applications.vgg16 import preprocess_input\n",
    "from keras.layers import Input, Flatten, Dense\n",
    "from keras.models import Model\n",
    "from keras import backend as K\n",
    "from keras.datasets import mnist\n",
    "\n",
    "import pyswarms\n",
    "from pyswarms.utils.plotters import plot_cost_history, plot_contour, plot_surface\n",
    "from pyswarms.utils.plotters.formatters import Mesher\n",
    "from pyswarms.utils.functions import single_obj as fx\n",
    "\n",
    "from IPython.display import Image\n",
    "\n",
    "import h5py"
   ],
   "metadata": {
    "execution": {
     "iopub.status.busy": "2021-06-09T10:55:57.930564Z",
     "iopub.execute_input": "2021-06-09T10:55:57.930945Z",
     "iopub.status.idle": "2021-06-09T10:56:17.387592Z",
     "shell.execute_reply.started": "2021-06-09T10:55:57.930866Z",
     "shell.execute_reply": "2021-06-09T10:56:17.386721Z"
    },
    "trusted": true
   },
   "execution_count": null,
   "outputs": []
  },
  {
   "cell_type": "markdown",
   "source": [
    "# Pretrained model (VGG16)\n",
    "\n",
    "Setup of the Keras model VGG16 (pretrained weights on ImageNet), all layers are pretrained except the last layer. A Dense layer is added."
   ],
   "metadata": {}
  },
  {
   "cell_type": "code",
   "source": [
    "def pretrained_model_last(img_shape, num_classes, layer_type, summary_print=False):\n",
    "  vgg16 = VGG16(weights='imagenet', include_top=False, input_shape=img_shape)\n",
    "\n",
    "  for layer in vgg16.layers:\n",
    "    if layer.name == 'block5_conv3':\n",
    "      break\n",
    "    layer.trainable = False\n",
    "  \n",
    "  last = vgg16.layers[-1].output\n",
    "  print(vgg16.input.shape)\n",
    "\n",
    "  x = Flatten(name='flatten')(last)\n",
    "  x = Dense(num_classes, activation=layer_type, name='predictions')(x)\n",
    "    \n",
    "  pretrained_model = Model(inputs=vgg16.input, outputs=x)\n",
    "  \n",
    "  layer_last = pretrained_model.layers[-1]\n",
    "\n",
    "  if summary_print==True:\n",
    "    pretrained_model.summary()\n",
    "\n",
    "  return pretrained_model"
   ],
   "metadata": {
    "id": "T1oXWphJ4kb-",
    "execution": {
     "iopub.status.busy": "2021-06-09T10:56:17.390825Z",
     "iopub.execute_input": "2021-06-09T10:56:17.391076Z",
     "iopub.status.idle": "2021-06-09T10:56:17.398588Z",
     "shell.execute_reply.started": "2021-06-09T10:56:17.39105Z",
     "shell.execute_reply": "2021-06-09T10:56:17.397665Z"
    },
    "trusted": true
   },
   "execution_count": null,
   "outputs": []
  },
  {
   "cell_type": "markdown",
   "source": [
    "# Particle Swarm Optimization (class optimizer)\n",
    "\n",
    "Possibility to implement the PSO_optimizer (class) in Keras network. Computation times are longer so therefore this implementation is not used."
   ],
   "metadata": {}
  },
  {
   "cell_type": "code",
   "source": [
    "'''\n",
    "class PSO_optimizer (keras.optimizers.Optimizer):\n",
    "    \n",
    "    def __init__(self, c1=0.5, c2=2, w=1, dimensions=0, n_particles=100,\n",
    "                 name=\"PSO_optimizer\", **kwargs):\n",
    "        super().__init__(name, **kwargs)\n",
    "        self._set_hyper(\"c1\", kwargs.get(\"c1\", c1))\n",
    "        self._set_hyper(\"c2\", kwargs.get(\"c2\", c2))\n",
    "        self._set_hyper(\"w\", kwargs.get(\"w\", w))\n",
    "        self._set_hyper(\"dimensions\", kwargs.get(\"dimensions\", dimensions))\n",
    "        self._set_hyper(\"n_particles\", kwargs.get(\"n_particles\", n_particles))\n",
    "        self._is_first = True \n",
    "        \n",
    "    def _create_slots(self, var_list):\n",
    "        for var in var_list:\n",
    "            self.add_slot(var, \"pw\") \n",
    "            \n",
    "    @tf.function\n",
    "    def _resource_apply_dense(self, var, y): \n",
    "        \n",
    "        def logits_function(p):\n",
    "            start = 0\n",
    "            end = n_inputs*n_hidden\n",
    "            W1 = p[start:end].reshape((n_inputs,n_hidden))\n",
    "\n",
    "            start = end \n",
    "            end = start+n_hidden\n",
    "            b1 = p[start:end].reshape((n_hidden,))\n",
    "\n",
    "            start = end \n",
    "            end = start+(n_classes*n_hidden)\n",
    "            W2 = p[start:end].reshape((n_hidden,n_classes))\n",
    "\n",
    "            start = end \n",
    "            end = start+n_classes\n",
    "            b2 = p[start:end].reshape((n_classes,))\n",
    "\n",
    "            z1 = X.dot(W1) + b1  \n",
    "            a1 = np.tanh(z1)    \n",
    "            logits = a1.dot(W2) + b2 \n",
    "            return logits  \n",
    "\n",
    "        def forward_prop(params):\n",
    "            logits = logits_function(params)\n",
    "            exp_scores = np.exp(logits)\n",
    "            probs = exp_scores / np.sum(exp_scores, axis=1, keepdims=True)\n",
    "            corect_logprobs = -np.log(probs[range(num_samples), y])\n",
    "            loss = np.sum(corect_logprobs) / num_samples\n",
    "            return loss\n",
    "\n",
    "        def f(x):\n",
    "            n_particles = x.shape[0]\n",
    "            j = [forward_prop(x[i]) for i in range(n_particles)]\n",
    "            return np.array(j)\n",
    "\n",
    "        var_dtype = var.dtype.base_dtype\n",
    "        \n",
    "        X = flatten_output.reshape((num_samples, n_inputs))\n",
    "        y = y_train_sample\n",
    "\n",
    "        n_particles = self._get_hyper('n_particles')\n",
    "        dimensions = self._get_hyper('dimensions')\n",
    "        w = self._get_hyper('w')\n",
    "        c1 = self._get_hyper('c1')\n",
    "        c2 = self._get_hyper('c2')\n",
    "        options = {\"c1\": int(c1.initialized_value()),\n",
    "                   \"c2\": int(c2.initialized_value()),\n",
    "                   \"w\": int(w.initialized_value())}\n",
    "        n_particles = int(n_particles.initialized_value())\n",
    "        dimensions = int(dimensions.initialized_value())\n",
    "\n",
    "        optimizer_pso = pyswarms.single.GlobalBestPSO(n_particles=n_particles, dimensions=dimensions, options=options)\n",
    "\n",
    "        cost, pos = optimizer_pso.optimize(f, iters=10, verbose=0)\n",
    "\n",
    "        pw_var = self.get_slot(var, \"pw\")\n",
    "\n",
    "        if self._is_first:\n",
    "            self._is_first = False\n",
    "            new_var = pos\n",
    "        else:\n",
    "            cost, new_var = optimizer_pso.optimize(f, iters=50, verbose=0) \n",
    "\n",
    "        pw_var.assign(new_var)\n",
    "         \n",
    "    def _resource_apply_sparse(self, var, y):\n",
    "        raise NotImplementedError\n",
    "        \n",
    "    def get_config(self):\n",
    "        base_config = super().get_config()\n",
    "        return {\n",
    "            **base_config,\n",
    "            \"c1\": self._serialize_hyperparameter(\"c1\"),\n",
    "            \"c2\": self._serialize_hyperparameter(\"c2\"),\n",
    "            \"w\": self._serialize_hyperparameter(\"w\"),\n",
    "            \"dimensions\": self._serialize_hyperparameter(\"dimensions\"),\n",
    "            \"n_particles\": self._serialize_hyperparameter(\"n_particles\"),\n",
    "        }\n",
    "'''"
   ],
   "metadata": {},
   "execution_count": null,
   "outputs": []
  },
  {
   "cell_type": "markdown",
   "source": [
    "# MNIST"
   ],
   "metadata": {
    "id": "6h6YJu96UVj1"
   }
  },
  {
   "cell_type": "code",
   "source": [
    "(x_train, y_train), (x_test, y_test) = mnist.load_data()\n",
    "\n",
    "x_test = [cv2.cvtColor(cv2.resize(i, (32,32)), cv2.COLOR_GRAY2BGR) for i in x_test]\n",
    "x_test = np.concatenate([arr[np.newaxis] for arr in x_test]).astype('float32')\n",
    "\n",
    "x_train = [cv2.cvtColor(cv2.resize(i, (32,32)), cv2.COLOR_GRAY2BGR) for i in x_train]\n",
    "x_train = np.concatenate([arr[np.newaxis] for arr in x_train]).astype('float32')\n",
    "\n",
    "y_train_onehot = tf.keras.utils.to_categorical(y_train, 10)\n",
    "y_test_onehot = tf.keras.utils.to_categorical(y_test, 10)\n",
    "\n",
    "print(x_train.shape)\n",
    "print(y_train.shape)"
   ],
   "metadata": {
    "id": "E4Ci4TToUUvG",
    "outputId": "fd404863-f547-4362-e622-099106474490",
    "execution": {
     "iopub.status.busy": "2021-06-09T10:56:25.757225Z",
     "iopub.execute_input": "2021-06-09T10:56:25.757588Z",
     "iopub.status.idle": "2021-06-09T10:56:27.461024Z",
     "shell.execute_reply.started": "2021-06-09T10:56:25.757557Z",
     "shell.execute_reply": "2021-06-09T10:56:27.460094Z"
    },
    "trusted": true
   },
   "execution_count": null,
   "outputs": []
  },
  {
   "cell_type": "markdown",
   "source": [
    "Characteristics of the data"
   ],
   "metadata": {
    "collapsed": false,
    "pycharm": {
     "name": "#%% md\n"
    }
   }
  },
  {
   "cell_type": "code",
   "source": [
    "num_classes = y_train_onehot.shape[-1]\n",
    "input_shape = x_train.shape[-3:]"
   ],
   "metadata": {
    "id": "nt8zoUE0XnPo",
    "execution": {
     "iopub.status.busy": "2021-06-09T10:56:27.462537Z",
     "iopub.execute_input": "2021-06-09T10:56:27.463081Z",
     "iopub.status.idle": "2021-06-09T10:56:27.467722Z",
     "shell.execute_reply.started": "2021-06-09T10:56:27.463041Z",
     "shell.execute_reply": "2021-06-09T10:56:27.466625Z"
    },
    "trusted": true
   },
   "execution_count": null,
   "outputs": []
  },
  {
   "cell_type": "markdown",
   "source": [
    "## Select part of the data (n samples)\n",
    "\n",
    "Import the data from the dataset and define the number of samples from the train set to run with the PSO."
   ],
   "metadata": {}
  },
  {
   "cell_type": "code",
   "source": [
    "num_samples = 1000\n",
    "\n",
    "x_train_sample = x_train[:num_samples]\n",
    "print(x_train_sample.shape)\n",
    "\n",
    "y_train_sample = y_train[:num_samples]\n",
    "print(y_train_sample.shape)\n",
    "\n",
    "y_train_oh_sample = y_train_onehot[:num_samples]\n",
    "print(y_train_oh_sample.shape)"
   ],
   "metadata": {
    "execution": {
     "iopub.status.busy": "2021-06-09T10:56:27.469357Z",
     "iopub.execute_input": "2021-06-09T10:56:27.469716Z",
     "iopub.status.idle": "2021-06-09T10:56:27.48005Z",
     "shell.execute_reply.started": "2021-06-09T10:56:27.46968Z",
     "shell.execute_reply": "2021-06-09T10:56:27.478917Z"
    },
    "trusted": true
   },
   "execution_count": null,
   "outputs": []
  },
  {
   "cell_type": "markdown",
   "source": [
    "## Stochastic Gradient Descent\n",
    "\n",
    "Apply SGD in order to compare the performances and evaluate\n"
   ],
   "metadata": {
    "id": "PjbMKvigWEQ-"
   }
  },
  {
   "cell_type": "code",
   "source": [
    "batch_size = 100\n",
    "epochs = 5"
   ],
   "metadata": {
    "id": "1AcTRIi8ZFYU",
    "execution": {
     "iopub.status.busy": "2021-06-09T07:56:18.755443Z",
     "iopub.execute_input": "2021-06-09T07:56:18.755974Z",
     "iopub.status.idle": "2021-06-09T07:56:18.761375Z",
     "shell.execute_reply.started": "2021-06-09T07:56:18.755937Z",
     "shell.execute_reply": "2021-06-09T07:56:18.760464Z"
    },
    "trusted": true
   },
   "execution_count": null,
   "outputs": []
  },
  {
   "cell_type": "code",
   "source": [
    "model_mnist_sgd = pretrained_model_last(img_shape=input_shape, num_classes=num_classes, layer_type='softmax', summary_print=True) #num_classes"
   ],
   "metadata": {
    "id": "zLsEjeNN3HEX",
    "outputId": "1f084e97-3ea6-46d3-bd41-09e4e8683022",
    "execution": {
     "iopub.status.busy": "2021-06-09T07:56:18.762696Z",
     "iopub.execute_input": "2021-06-09T07:56:18.763328Z",
     "iopub.status.idle": "2021-06-09T07:56:19.121417Z",
     "shell.execute_reply.started": "2021-06-09T07:56:18.763289Z",
     "shell.execute_reply": "2021-06-09T07:56:19.112338Z"
    },
    "trusted": true
   },
   "execution_count": null,
   "outputs": []
  },
  {
   "cell_type": "code",
   "source": [
    "model_mnist_sgd.compile(optimizer=keras.optimizers.Adam(1e-4), loss='categorical_crossentropy', metrics=['acc'])\n",
    "model_mnist_sgd.fit(x_train_sample, y_train_oh_sample, epochs=epochs, batch_size=batch_size)\n",
    "loss_sgd, acc_sgd = model_mnist_sgd.evaluate(x_test, y_test_onehot)"
   ],
   "metadata": {
    "id": "uq6y17JPSgy5",
    "outputId": "1d09abba-a8b9-40b3-da10-5315f4285cad",
    "execution": {
     "iopub.status.busy": "2021-06-09T07:56:19.123985Z",
     "iopub.execute_input": "2021-06-09T07:56:19.124369Z",
     "iopub.status.idle": "2021-06-09T07:56:58.970684Z",
     "shell.execute_reply.started": "2021-06-09T07:56:19.124327Z",
     "shell.execute_reply": "2021-06-09T07:56:58.969685Z"
    },
    "trusted": true
   },
   "execution_count": null,
   "outputs": []
  },
  {
   "cell_type": "code",
   "source": [
    "print('Accuracy: ', acc_sgd)"
   ],
   "metadata": {
    "execution": {
     "iopub.status.busy": "2021-06-09T07:56:58.972133Z",
     "iopub.execute_input": "2021-06-09T07:56:58.972464Z",
     "iopub.status.idle": "2021-06-09T07:56:58.978044Z",
     "shell.execute_reply.started": "2021-06-09T07:56:58.972427Z",
     "shell.execute_reply": "2021-06-09T07:56:58.977153Z"
    },
    "trusted": true
   },
   "execution_count": null,
   "outputs": []
  },
  {
   "cell_type": "code",
   "source": [
    "prediction_sgd = np.argmax(model_mnist_sgd.predict(x_test), axis=1)\n",
    "confusion_matrix(y_test,prediction_sgd)"
   ],
   "metadata": {
    "execution": {
     "iopub.status.busy": "2021-06-09T07:56:58.979611Z",
     "iopub.execute_input": "2021-06-09T07:56:58.980219Z",
     "iopub.status.idle": "2021-06-09T07:57:24.651544Z",
     "shell.execute_reply.started": "2021-06-09T07:56:58.980181Z",
     "shell.execute_reply": "2021-06-09T07:57:24.650648Z"
    },
    "trusted": true
   },
   "execution_count": null,
   "outputs": []
  },
  {
   "cell_type": "markdown",
   "source": [
    "## Particle Swarm Optimization"
   ],
   "metadata": {
    "id": "Gy9de5NmWG_6"
   }
  },
  {
   "cell_type": "code",
   "source": [
    "'''\n",
    "model_mnist_pso = pretrained_model_last(img_shape=input_shape, num_classes=num_classes, layer_type='softmax', summary_print=True)\n",
    "model_mnist_pso.compile(loss=\"mse\", \n",
    "                        optimizer=PSO_optimizer(dimensions=dimensions, \n",
    "                                                n_particles=100))\n",
    "model_mnist_pso.fit(x_train_sample,y_train_sample, epochs=epochs, batch_size=batch_size)\n",
    "'''"
   ],
   "metadata": {
    "trusted": true
   },
   "execution_count": null,
   "outputs": []
  },
  {
   "cell_type": "code",
   "source": [
    "model_mnist_pso = pretrained_model_last(img_shape=input_shape, num_classes=num_classes, layer_type='softmax', summary_print=True)"
   ],
   "metadata": {
    "id": "xrmquArQtHWb",
    "outputId": "38aea5a9-88da-4d6c-87ee-9914d3212183",
    "execution": {
     "iopub.status.busy": "2021-06-09T07:57:24.653237Z",
     "iopub.execute_input": "2021-06-09T07:57:24.653728Z",
     "iopub.status.idle": "2021-06-09T07:57:24.974457Z",
     "shell.execute_reply.started": "2021-06-09T07:57:24.653686Z",
     "shell.execute_reply": "2021-06-09T07:57:24.973559Z"
    },
    "trusted": true
   },
   "execution_count": null,
   "outputs": []
  },
  {
   "cell_type": "markdown",
   "source": [
    "* Define number of inputs, hidden and classes\n",
    "* Calculate the dimensions\n",
    "* Retrieve the layer to train\n",
    "* Define input for the PSO\n",
    "* Apply PSO optimizer\n",
    "    * Logits function to update weights and biases of a particle\n",
    "    * Forward propagation (for one particle)\n",
    "        * apply softmax and negative log likelihood\n",
    "    * Compute forward propagation and thus the loss for the whole swarm\n"
   ],
   "metadata": {
    "collapsed": false,
    "pycharm": {
     "name": "#%% md\n"
    }
   }
  },
  {
   "cell_type": "code",
   "source": [
    "n_inputs = 512 \n",
    "n_hidden = 1 \n",
    "n_classes = 10 "
   ],
   "metadata": {
    "id": "vw7ndItfkp4T",
    "execution": {
     "iopub.status.busy": "2021-06-09T07:57:24.97705Z",
     "iopub.execute_input": "2021-06-09T07:57:24.977395Z",
     "iopub.status.idle": "2021-06-09T07:57:24.982741Z",
     "shell.execute_reply.started": "2021-06-09T07:57:24.977358Z",
     "shell.execute_reply": "2021-06-09T07:57:24.981928Z"
    },
    "trusted": true
   },
   "execution_count": null,
   "outputs": []
  },
  {
   "cell_type": "code",
   "source": [
    "dimensions = (n_inputs * n_hidden) + (n_hidden * n_classes) + n_hidden + n_classes\n",
    "print(dimensions)"
   ],
   "metadata": {
    "id": "d4dKvj9rmXB6",
    "outputId": "1599a864-6c7d-49c8-d7b8-9d1b74db3a19",
    "execution": {
     "iopub.status.busy": "2021-06-09T07:57:24.984797Z",
     "iopub.execute_input": "2021-06-09T07:57:24.985667Z",
     "iopub.status.idle": "2021-06-09T07:57:24.993423Z",
     "shell.execute_reply.started": "2021-06-09T07:57:24.985623Z",
     "shell.execute_reply": "2021-06-09T07:57:24.992488Z"
    },
    "trusted": true
   },
   "execution_count": null,
   "outputs": []
  },
  {
   "cell_type": "code",
   "source": [
    "layer_flatten = K.function([model_mnist_pso.layers[0].output],\n",
    "                                  [model_mnist_pso.layers[-2].output])\n",
    "flatten_output = layer_flatten([x_train_sample])[0]\n"
   ],
   "metadata": {
    "id": "uePJZXvH0yg3",
    "execution": {
     "iopub.status.busy": "2021-06-09T07:57:24.995183Z",
     "iopub.execute_input": "2021-06-09T07:57:24.996103Z",
     "iopub.status.idle": "2021-06-09T07:57:25.082085Z",
     "shell.execute_reply.started": "2021-06-09T07:57:24.996063Z",
     "shell.execute_reply": "2021-06-09T07:57:25.080924Z"
    },
    "trusted": true
   },
   "execution_count": null,
   "outputs": []
  },
  {
   "cell_type": "code",
   "source": [
    "X = flatten_output.reshape((num_samples, n_inputs))\n",
    "y = y_train_sample \n",
    "print(X.shape)\n",
    "print(y.shape)"
   ],
   "metadata": {
    "id": "VWsKz5NCaK4d",
    "outputId": "03a7ec63-9749-466c-d7f9-bb8cf6e3440a",
    "execution": {
     "iopub.status.busy": "2021-06-09T07:57:25.084826Z",
     "iopub.execute_input": "2021-06-09T07:57:25.085694Z",
     "iopub.status.idle": "2021-06-09T07:57:25.092539Z",
     "shell.execute_reply.started": "2021-06-09T07:57:25.085642Z",
     "shell.execute_reply": "2021-06-09T07:57:25.091607Z"
    },
    "trusted": true
   },
   "execution_count": null,
   "outputs": []
  },
  {
   "cell_type": "code",
   "source": [
    "layer_last = model_mnist_pso.layers[-1]\n",
    "weights_ll = np.array(layer_last.get_weights())\n",
    "print(weights_ll[0].shape)"
   ],
   "metadata": {
    "id": "ZVxjtDiRh1tI",
    "outputId": "c23bdb29-2126-4e0b-bfbc-5d8cb572efe7",
    "execution": {
     "iopub.status.busy": "2021-06-09T07:57:25.094595Z",
     "iopub.execute_input": "2021-06-09T07:57:25.095416Z",
     "iopub.status.idle": "2021-06-09T07:57:25.109275Z",
     "shell.execute_reply.started": "2021-06-09T07:57:25.095378Z",
     "shell.execute_reply": "2021-06-09T07:57:25.108227Z"
    },
    "trusted": true
   },
   "execution_count": null,
   "outputs": []
  },
  {
   "cell_type": "markdown",
   "source": [
    "Compute the logits (weights and biases)"
   ],
   "metadata": {
    "collapsed": false,
    "pycharm": {
     "name": "#%% md\n"
    }
   }
  },
  {
   "cell_type": "code",
   "source": [
    "def logits_function(p):\n",
    "    start = 0\n",
    "    end = n_inputs*n_hidden\n",
    "    W1 = p[start:end].reshape((n_inputs,n_hidden))\n",
    "\n",
    "    start = end \n",
    "    end = start+n_hidden\n",
    "    b1 = p[start:end].reshape((n_hidden,))\n",
    "\n",
    "    start = end \n",
    "    end = start+(n_classes*n_hidden)\n",
    "    W2 = p[start:end].reshape((n_hidden,n_classes))\n",
    "\n",
    "    start = end \n",
    "    end = start+n_classes\n",
    "    b2 = p[start:end].reshape((n_classes,))\n",
    "\n",
    "    z1 = X.dot(W1) + b1 \n",
    "    a1 = np.tanh(z1)   \n",
    "    logits = a1.dot(W2) + b2 \n",
    "    return logits   "
   ],
   "metadata": {
    "id": "7gcyltZokwzv",
    "execution": {
     "iopub.status.busy": "2021-06-09T07:57:25.111121Z",
     "iopub.execute_input": "2021-06-09T07:57:25.111914Z",
     "iopub.status.idle": "2021-06-09T07:57:25.121288Z",
     "shell.execute_reply.started": "2021-06-09T07:57:25.111873Z",
     "shell.execute_reply": "2021-06-09T07:57:25.120375Z"
    },
    "trusted": true
   },
   "execution_count": null,
   "outputs": []
  },
  {
   "cell_type": "markdown",
   "source": [
    "* Compute the softmax activation for the returned logits,\n",
    "* Compute the negative log-likelihood loss and return this.\n",
    "The negative log-likelihood loss is the error between the predictions and theground truth."
   ],
   "metadata": {
    "collapsed": false
   }
  },
  {
   "cell_type": "code",
   "source": [
    "def forward_prop(params):\n",
    "    logits = logits_function(params)\n",
    "\n",
    "    # Softmax (logits)\n",
    "    exp_scores = np.exp(logits)\n",
    "    probs = exp_scores / np.sum(exp_scores, axis=1, keepdims=True)\n",
    "\n",
    "    # Negative log likelihood\n",
    "    corect_logprobs = -np.log(probs[range(num_samples), y])\n",
    "    loss = np.sum(corect_logprobs) / num_samples\n",
    "\n",
    "    return loss"
   ],
   "metadata": {
    "id": "Q-9uy2Kok568",
    "execution": {
     "iopub.status.busy": "2021-06-09T07:57:25.123311Z",
     "iopub.execute_input": "2021-06-09T07:57:25.124165Z",
     "iopub.status.idle": "2021-06-09T07:57:25.132185Z",
     "shell.execute_reply.started": "2021-06-09T07:57:25.124125Z",
     "shell.execute_reply": "2021-06-09T07:57:25.131248Z"
    },
    "trusted": true
   },
   "execution_count": null,
   "outputs": []
  },
  {
   "cell_type": "markdown",
   "source": [
    "The loss for each particle of the swarm is the result of the forward propagation."
   ],
   "metadata": {
    "collapsed": false
   }
  },
  {
   "cell_type": "code",
   "execution_count": null,
   "outputs": [],
   "source": [
    "def f(x):\n",
    "    n_particles = x.shape[0]\n",
    "    j = [forward_prop(x[i]) for i in range(n_particles)]\n",
    "    return np.array(j)"
   ],
   "metadata": {
    "collapsed": false,
    "pycharm": {
     "name": "#%%\n"
    }
   }
  },
  {
   "cell_type": "markdown",
   "source": [
    "Prediction function for the given positions (sum up to 1)"
   ],
   "metadata": {
    "collapsed": false
   }
  },
  {
   "cell_type": "code",
   "source": [
    "def predict(pos):\n",
    "    logits = logits_function(pos)\n",
    "    y_pred = np.argmax(logits, axis=1)\n",
    "    return y_pred"
   ],
   "metadata": {
    "execution": {
     "iopub.status.busy": "2021-06-09T07:57:25.314062Z",
     "iopub.execute_input": "2021-06-09T07:57:25.314405Z",
     "iopub.status.idle": "2021-06-09T07:57:25.318989Z",
     "shell.execute_reply.started": "2021-06-09T07:57:25.314373Z",
     "shell.execute_reply": "2021-06-09T07:57:25.317936Z"
    },
    "trusted": true
   },
   "execution_count": null,
   "outputs": []
  },
  {
   "cell_type": "markdown",
   "source": [
    "* Define the intializations for the swarm\n",
    "* Apply PSO\n",
    "    * Define the optimzer for the MNIST data\n",
    "    * Optimize the optimizer given the swarm optimizer function defined earlier (f)\n",
    "* Plot the cost of the optimization\n",
    "* Accuracy\n",
    "* Confusion matrix\n",
    "\n",
    "The personal best position (given the loss) is compared to the current position for each particle in the swarm.  After this, the personal best is compared to the global best, and the matrices (position andcosts) are updated.  We want the cost as low as possible (close to zero), and the cost represents the lowest value of the loss.\n",
    "\n",
    "Optimizer is done for 3 different combinations of number of particles and generations"
   ],
   "metadata": {
    "collapsed": false
   }
  },
  {
   "cell_type": "code",
   "source": [
    "\n",
    "options = {'c1': 0.25, 'c2': 2, 'w':0.8} #options in order to initialize swarm\n",
    "\n",
    "dimensions = dimensions\n",
    "optimizer_mnist_pso = pyswarms.single.GlobalBestPSO(n_particles=100, dimensions=dimensions, options=options)\n",
    "cost_mnist, pos_mnist = optimizer_mnist_pso.optimize(f, iters=1000, verbose=0)\n",
    "\n",
    "print('Cost: ', cost_mnist)\n",
    "\n",
    "plot_cost_history(optimizer_mnist_pso.cost_history)\n",
    "plt.show()\n",
    "\n",
    "print('Accuracy: ', (predict(pos_mnist) == y).mean())\n",
    "\n",
    "prediction_pso = predict(pos_mnist) \n",
    "confusion_matrix(y_test[:num_samples],prediction_pso)"
   ],
   "metadata": {
    "id": "c04F1LLWlEpw",
    "outputId": "2983fba4-79fd-4dda-ae02-23899f8b45e1",
    "execution": {
     "iopub.status.busy": "2021-06-09T07:57:27.776174Z",
     "iopub.execute_input": "2021-06-09T07:57:27.7765Z",
     "iopub.status.idle": "2021-06-09T07:59:33.227556Z",
     "shell.execute_reply.started": "2021-06-09T07:57:27.776469Z",
     "shell.execute_reply": "2021-06-09T07:59:33.226495Z"
    },
    "trusted": true
   },
   "execution_count": null,
   "outputs": []
  },
  {
   "cell_type": "code",
   "source": [
    "options = {'c1': 0.25, 'c2': 2, 'w':0.8} #options in order to initialize swarm\n",
    "\n",
    "dimensions = dimensions\n",
    "optimizer_mnist_pso = pyswarms.single.GlobalBestPSO(n_particles=100, dimensions=dimensions, options=options)\n",
    "cost_mnist, pos_mnist = optimizer_mnist_pso.optimize(f, iters=2000, verbose=0) \n",
    "\n",
    "print('Cost: ', cost_mnist)\n",
    "\n",
    "plot_cost_history(optimizer_mnist_pso.cost_history)\n",
    "plt.show()\n",
    "\n",
    "print('Accuracy: ', (predict(pos_mnist) == y).mean())\n",
    "\n",
    "prediction_pso = predict(pos_mnist) \n",
    "confusion_matrix(y_test[:num_samples],prediction_pso)\n",
    "\n"
   ],
   "metadata": {
    "execution": {
     "iopub.status.busy": "2021-06-09T08:02:26.393768Z",
     "iopub.execute_input": "2021-06-09T08:02:26.394139Z",
     "iopub.status.idle": "2021-06-09T08:02:26.400237Z",
     "shell.execute_reply.started": "2021-06-09T08:02:26.394106Z",
     "shell.execute_reply": "2021-06-09T08:02:26.399287Z"
    },
    "trusted": true
   },
   "execution_count": null,
   "outputs": []
  },
  {
   "cell_type": "code",
   "source": [
    "options = {'c1': 0.25, 'c2': 2, 'w':0.8} #options in order to initialize swarm\n",
    "\n",
    "dimensions = dimensions\n",
    "optimizer_mnist_pso = pyswarms.single.GlobalBestPSO(n_particles=250, dimensions=dimensions, options=options)\n",
    "cost_mnist, pos_mnist = optimizer_mnist_pso.optimize(f, iters=1000, verbose=0)\n",
    "\n",
    "print('Cost: ', cost_mnist)\n",
    "\n",
    "plot_cost_history(optimizer_mnist_pso.cost_history)\n",
    "plt.show()\n",
    "\n",
    "print('Accuracy: ', (predict(pos_mnist) == y).mean())\n",
    "\n",
    "prediction_pso = predict(pos_mnist)\n",
    "confusion_matrix(y_test[:num_samples],prediction_pso)"
   ],
   "metadata": {
    "execution": {
     "iopub.status.busy": "2021-06-09T08:02:27.394037Z",
     "iopub.execute_input": "2021-06-09T08:02:27.394374Z",
     "iopub.status.idle": "2021-06-09T08:02:27.400444Z",
     "shell.execute_reply.started": "2021-06-09T08:02:27.394344Z",
     "shell.execute_reply": "2021-06-09T08:02:27.399499Z"
    },
    "trusted": true
   },
   "execution_count": null,
   "outputs": []
  },
  {
   "cell_type": "markdown",
   "source": [
    "# Patch Camelyon\n",
    "\n",
    "Characteristics of the data"
   ],
   "metadata": {
    "id": "thGZeL3hScRm"
   }
  },
  {
   "cell_type": "code",
   "source": [
    "num_classes = 2\n",
    "input_shape = (96,96,3)"
   ],
   "metadata": {
    "execution": {
     "iopub.status.busy": "2021-06-09T10:56:38.61965Z",
     "iopub.execute_input": "2021-06-09T10:56:38.619978Z",
     "iopub.status.idle": "2021-06-09T10:56:38.62623Z",
     "shell.execute_reply.started": "2021-06-09T10:56:38.619946Z",
     "shell.execute_reply": "2021-06-09T10:56:38.625247Z"
    },
    "trusted": true
   },
   "execution_count": null,
   "outputs": []
  },
  {
   "cell_type": "markdown",
   "source": [
    "## Select part of the data (n samples)\n",
    "\n",
    "Import the data from the dataset and define the number of samples from the train set to run with the PSO."
   ],
   "metadata": {}
  },
  {
   "cell_type": "code",
   "source": [
    "num_samples = 1000\n",
    "\n",
    "x_train_sample = []\n",
    "y_train_sample = []\n",
    "\n",
    "x_test = []\n",
    "y_test = []\n",
    "\n",
    "with h5py.File('/kaggle/input/metastatic-tissue-classification-patchcamelyon/pcam/training_split.h5', 'r') as f:\n",
    "    x_train_sample = np.array(f['x'][:num_samples])\n",
    "\n",
    "with h5py.File('/kaggle/input/metastatic-tissue-classification-patchcamelyon/Labels/Labels/camelyonpatch_level_2_split_train_y.h5', 'r') as f:\n",
    "    y_train_sample = np.array(f['y'][:num_samples].flat)\n",
    "\n",
    "with h5py.File('/kaggle/input/metastatic-tissue-classification-patchcamelyon/pcam/test_split.h5', 'r') as f:\n",
    "    x_test = np.array(f['x'][:])\n",
    "\n",
    "with h5py.File('/kaggle/input/metastatic-tissue-classification-patchcamelyon/Labels/Labels/camelyonpatch_level_2_split_test_y.h5', 'r') as f:\n",
    "    y_test = np.array(f['y'][:].flat)"
   ],
   "metadata": {
    "execution": {
     "iopub.status.busy": "2021-06-09T10:56:39.129855Z",
     "iopub.execute_input": "2021-06-09T10:56:39.130244Z",
     "iopub.status.idle": "2021-06-09T10:56:53.108027Z",
     "shell.execute_reply.started": "2021-06-09T10:56:39.130205Z",
     "shell.execute_reply": "2021-06-09T10:56:53.107192Z"
    },
    "trusted": true
   },
   "execution_count": null,
   "outputs": []
  },
  {
   "cell_type": "code",
   "source": [
    "print(x_train_sample.shape)\n",
    "print(y_train_sample.shape)"
   ],
   "metadata": {
    "execution": {
     "iopub.status.busy": "2021-06-09T10:56:53.109444Z",
     "iopub.execute_input": "2021-06-09T10:56:53.109809Z",
     "iopub.status.idle": "2021-06-09T10:56:53.117282Z",
     "shell.execute_reply.started": "2021-06-09T10:56:53.10977Z",
     "shell.execute_reply": "2021-06-09T10:56:53.116273Z"
    },
    "trusted": true
   },
   "execution_count": null,
   "outputs": []
  },
  {
   "cell_type": "markdown",
   "source": [
    "Convert samples to Tensor"
   ],
   "metadata": {
    "collapsed": false,
    "pycharm": {
     "name": "#%% md\n"
    }
   }
  },
  {
   "cell_type": "code",
   "source": [
    "def convert_sample(sample):\n",
    "    image, label = sample[0], sample[1]\n",
    "    image = tf.image.convert_image_dtype(image, tf.float32)\n",
    "    label = tf.one_hot(label, 2, dtype=tf.float32)\n",
    "    return image, label\n",
    "    \n",
    "x_train_tf, y_train_tf = map(convert_sample, (x_train_sample, y_train_sample))\n",
    "x_test_tf, y_test_tf = map(convert_sample, (x_test, y_test))"
   ],
   "metadata": {
    "id": "I8mHN3rY72Xi",
    "execution": {
     "iopub.status.busy": "2021-06-09T10:56:53.119369Z",
     "iopub.execute_input": "2021-06-09T10:56:53.119759Z",
     "iopub.status.idle": "2021-06-09T10:56:55.03089Z",
     "shell.execute_reply.started": "2021-06-09T10:56:53.119722Z",
     "shell.execute_reply": "2021-06-09T10:56:55.030064Z"
    },
    "trusted": true
   },
   "execution_count": null,
   "outputs": []
  },
  {
   "cell_type": "markdown",
   "source": [
    "## Stochastic Gradient Descent \n",
    "\n",
    "Apply SGD in order to compare the performances and evaluate"
   ],
   "metadata": {}
  },
  {
   "cell_type": "code",
   "source": [
    "batch_size = 100\n",
    "epochs = 2"
   ],
   "metadata": {
    "execution": {
     "iopub.status.busy": "2021-06-09T08:02:38.867912Z",
     "iopub.execute_input": "2021-06-09T08:02:38.86827Z",
     "iopub.status.idle": "2021-06-09T08:02:38.873043Z",
     "shell.execute_reply.started": "2021-06-09T08:02:38.868231Z",
     "shell.execute_reply": "2021-06-09T08:02:38.871944Z"
    },
    "trusted": true
   },
   "execution_count": null,
   "outputs": []
  },
  {
   "cell_type": "code",
   "source": [
    "model_patch_sgd = pretrained_model_last(img_shape=input_shape, num_classes=num_classes-1, layer_type='softmax', summary_print=True)"
   ],
   "metadata": {
    "execution": {
     "iopub.status.busy": "2021-06-09T08:04:53.407496Z",
     "iopub.execute_input": "2021-06-09T08:04:53.407931Z",
     "iopub.status.idle": "2021-06-09T08:04:53.726364Z",
     "shell.execute_reply.started": "2021-06-09T08:04:53.407893Z",
     "shell.execute_reply": "2021-06-09T08:04:53.717328Z"
    },
    "trusted": true
   },
   "execution_count": null,
   "outputs": []
  },
  {
   "cell_type": "code",
   "source": [
    "model_patch_sgd.compile(optimizer=keras.optimizers.Adam(1e-4), loss='binary_crossentropy', metrics=['acc'])\n",
    "model_patch_sgd.fit(x_train_sample, y_train_sample, epochs=epochs, batch_size=batch_size)\n",
    "loss_sgd, acc_sgd = model_patch_sgd.evaluate(x_test, y_test)\n"
   ],
   "metadata": {
    "execution": {
     "iopub.status.busy": "2021-06-09T09:14:32.740011Z",
     "iopub.execute_input": "2021-06-09T09:14:32.740319Z",
     "iopub.status.idle": "2021-06-09T09:14:32.751009Z",
     "shell.execute_reply.started": "2021-06-09T09:14:32.740292Z",
     "shell.execute_reply": "2021-06-09T09:14:32.749914Z"
    },
    "trusted": true
   },
   "execution_count": null,
   "outputs": []
  },
  {
   "cell_type": "code",
   "source": [
    "print('Accuracy: ', acc_sgd)"
   ],
   "metadata": {
    "execution": {
     "iopub.status.busy": "2021-06-09T08:02:39.419215Z",
     "iopub.status.idle": "2021-06-09T08:02:39.420584Z"
    },
    "trusted": true
   },
   "execution_count": null,
   "outputs": []
  },
  {
   "cell_type": "markdown",
   "source": [
    "## Particle Swarm Optimization"
   ],
   "metadata": {}
  },
  {
   "cell_type": "code",
   "source": [
    "model_patch_pso = pretrained_model_last(img_shape=input_shape, num_classes=num_classes, layer_type='softmax', summary_print=True)"
   ],
   "metadata": {
    "execution": {
     "iopub.status.busy": "2021-06-09T10:56:55.032287Z",
     "iopub.execute_input": "2021-06-09T10:56:55.03261Z",
     "iopub.status.idle": "2021-06-09T10:56:56.281678Z",
     "shell.execute_reply.started": "2021-06-09T10:56:55.032575Z",
     "shell.execute_reply": "2021-06-09T10:56:56.28088Z"
    },
    "trusted": true
   },
   "execution_count": null,
   "outputs": []
  },
  {
   "cell_type": "markdown",
   "source": [
    "* Define number of inputs, hidden and classes\n",
    "* Calculate the dimensions\n",
    "* Retrieve the layer to train\n",
    "* Define input for the PSO\n",
    "* Apply PSO optimizer\n",
    "    * Logits function to update weights and biases of a particle\n",
    "    * Forward propagation (for one particle)\n",
    "        * apply softmax and negative log likelihood\n",
    "    * Compute forward propagation and thus the loss for the whole swarm"
   ],
   "metadata": {
    "collapsed": false,
    "pycharm": {
     "name": "#%% md\n"
    }
   }
  },
  {
   "cell_type": "code",
   "source": [
    "n_inputs = 4608\n",
    "n_hidden = 1 \n",
    "n_classes = 2 "
   ],
   "metadata": {
    "execution": {
     "iopub.status.busy": "2021-06-09T10:56:56.282953Z",
     "iopub.execute_input": "2021-06-09T10:56:56.283289Z",
     "iopub.status.idle": "2021-06-09T10:56:56.287335Z",
     "shell.execute_reply.started": "2021-06-09T10:56:56.283241Z",
     "shell.execute_reply": "2021-06-09T10:56:56.286358Z"
    },
    "trusted": true
   },
   "execution_count": null,
   "outputs": []
  },
  {
   "cell_type": "code",
   "source": [
    "dimensions = (n_inputs * n_hidden) + (n_hidden * n_classes) + n_hidden + n_classes\n",
    "print(dimensions)"
   ],
   "metadata": {
    "execution": {
     "iopub.status.busy": "2021-06-09T10:56:56.288433Z",
     "iopub.execute_input": "2021-06-09T10:56:56.288765Z",
     "iopub.status.idle": "2021-06-09T10:56:56.300503Z",
     "shell.execute_reply.started": "2021-06-09T10:56:56.28873Z",
     "shell.execute_reply": "2021-06-09T10:56:56.299408Z"
    },
    "trusted": true
   },
   "execution_count": null,
   "outputs": []
  },
  {
   "cell_type": "code",
   "source": [
    "layer_flatten = K.function([model_patch_pso.layers[0].output],\n",
    "                                  [model_patch_pso.layers[-2].output])\n",
    "flatten_output = layer_flatten([x_train_sample])[0]"
   ],
   "metadata": {
    "execution": {
     "iopub.status.busy": "2021-06-09T10:56:56.301686Z",
     "iopub.execute_input": "2021-06-09T10:56:56.302143Z",
     "iopub.status.idle": "2021-06-09T10:57:02.567263Z",
     "shell.execute_reply.started": "2021-06-09T10:56:56.302107Z",
     "shell.execute_reply": "2021-06-09T10:57:02.566223Z"
    },
    "trusted": true
   },
   "execution_count": null,
   "outputs": []
  },
  {
   "cell_type": "code",
   "source": [
    "X = flatten_output.reshape((num_samples, n_inputs))\n",
    "y = y_train_sample\n",
    "print(X.shape)\n",
    "print(y.shape)"
   ],
   "metadata": {
    "execution": {
     "iopub.status.busy": "2021-06-09T10:57:02.569746Z",
     "iopub.execute_input": "2021-06-09T10:57:02.570016Z",
     "iopub.status.idle": "2021-06-09T10:57:02.578251Z",
     "shell.execute_reply.started": "2021-06-09T10:57:02.569984Z",
     "shell.execute_reply": "2021-06-09T10:57:02.5771Z"
    },
    "trusted": true
   },
   "execution_count": null,
   "outputs": []
  },
  {
   "cell_type": "code",
   "source": [
    "layer_last = model_patch_pso.layers[-1]\n",
    "weights_ll = np.array(layer_last.get_weights())\n",
    "print(weights_ll[0].shape)"
   ],
   "metadata": {
    "execution": {
     "iopub.status.busy": "2021-06-09T10:57:02.580323Z",
     "iopub.execute_input": "2021-06-09T10:57:02.580697Z",
     "iopub.status.idle": "2021-06-09T10:57:02.589739Z",
     "shell.execute_reply.started": "2021-06-09T10:57:02.580652Z",
     "shell.execute_reply": "2021-06-09T10:57:02.588734Z"
    },
    "trusted": true
   },
   "execution_count": null,
   "outputs": []
  },
  {
   "cell_type": "markdown",
   "source": [
    "Compute the logits (weights and biases)"
   ],
   "metadata": {
    "collapsed": false
   }
  },
  {
   "cell_type": "code",
   "source": [
    "def logits_function(p):\n",
    "    start = 0\n",
    "    end = n_inputs*n_hidden\n",
    "    W1 = p[start:end].reshape((n_inputs,n_hidden))\n",
    "\n",
    "    start = end \n",
    "    end = start+n_hidden\n",
    "    b1 = p[start:end].reshape((n_hidden,))\n",
    "\n",
    "    start = end \n",
    "    end = start+(n_classes*n_hidden)\n",
    "    W2 = p[start:end].reshape((n_hidden,n_classes))\n",
    "\n",
    "    start = end \n",
    "    end = start+n_classes\n",
    "    b2 = p[start:end].reshape((n_classes,))\n",
    "\n",
    "    z1 = X.dot(W1) + b1\n",
    "    a1 = np.tanh(z1)     \n",
    "    logits = a1.dot(W2) + b2 \n",
    "    return logits     \n"
   ],
   "metadata": {
    "execution": {
     "iopub.status.busy": "2021-06-09T10:57:02.591339Z",
     "iopub.execute_input": "2021-06-09T10:57:02.591979Z",
     "iopub.status.idle": "2021-06-09T10:57:02.599914Z",
     "shell.execute_reply.started": "2021-06-09T10:57:02.59194Z",
     "shell.execute_reply": "2021-06-09T10:57:02.598995Z"
    },
    "trusted": true
   },
   "execution_count": null,
   "outputs": []
  },
  {
   "cell_type": "markdown",
   "source": [
    "* Compute the softmax activation for the returned logits,\n",
    "* Compute the negative log-likelihood loss and return this.\n",
    "The negative log-likelihood loss is the error between the predictions and theground truth."
   ],
   "metadata": {
    "collapsed": false
   }
  },
  {
   "cell_type": "code",
   "source": [
    "def forward_prop(params):\n",
    "    logits = logits_function(params)\n",
    "\n",
    "    # Softmax (logits)\n",
    "    exp_scores = np.exp(logits)\n",
    "    probs = exp_scores / np.sum(exp_scores, axis=1, keepdims=True)\n",
    "\n",
    "    # Negative log likelihood\n",
    "    corect_logprobs = -np.log(probs[range(num_samples), y])\n",
    "    loss = np.sum(corect_logprobs) / num_samples\n",
    "\n",
    "    return loss"
   ],
   "metadata": {
    "execution": {
     "iopub.status.busy": "2021-06-09T10:57:02.601213Z",
     "iopub.execute_input": "2021-06-09T10:57:02.601648Z",
     "iopub.status.idle": "2021-06-09T10:57:02.609892Z",
     "shell.execute_reply.started": "2021-06-09T10:57:02.601612Z",
     "shell.execute_reply": "2021-06-09T10:57:02.609021Z"
    },
    "trusted": true
   },
   "execution_count": null,
   "outputs": []
  },
  {
   "cell_type": "markdown",
   "source": [
    "The loss for each particle of the swarm is the result of the forward propagation."
   ],
   "metadata": {
    "collapsed": false
   }
  },
  {
   "cell_type": "code",
   "source": [
    "def f(x):\n",
    "    n_particles = x.shape[0]\n",
    "    j = [forward_prop(x[i]) for i in range(n_particles)]\n",
    "    return np.array(j)"
   ],
   "metadata": {
    "id": "s2B0wxod7b3X",
    "outputId": "21596d5d-34b4-4935-ea4b-79bc1f685f42",
    "execution": {
     "iopub.status.busy": "2021-06-09T10:57:02.611131Z",
     "iopub.execute_input": "2021-06-09T10:57:02.611553Z",
     "iopub.status.idle": "2021-06-09T10:57:02.619743Z",
     "shell.execute_reply.started": "2021-06-09T10:57:02.611516Z",
     "shell.execute_reply": "2021-06-09T10:57:02.618879Z"
    },
    "trusted": true
   },
   "execution_count": null,
   "outputs": []
  },
  {
   "cell_type": "markdown",
   "source": [
    "Prediction function for the given positions (sum up to 1)"
   ],
   "metadata": {
    "collapsed": false
   }
  },
  {
   "cell_type": "code",
   "source": [
    "def predict(pos):\n",
    "    logits = logits_function(pos)\n",
    "    y_pred = np.argmax(logits, axis=1)\n",
    "    return y_pred"
   ],
   "metadata": {
    "execution": {
     "iopub.status.busy": "2021-06-09T10:57:02.620992Z",
     "iopub.execute_input": "2021-06-09T10:57:02.621377Z",
     "iopub.status.idle": "2021-06-09T10:57:02.628985Z",
     "shell.execute_reply.started": "2021-06-09T10:57:02.62134Z",
     "shell.execute_reply": "2021-06-09T10:57:02.628255Z"
    },
    "trusted": true
   },
   "execution_count": null,
   "outputs": []
  },
  {
   "cell_type": "markdown",
   "source": [
    "* Define the intializations for the swarm\n",
    "* Apply PSO\n",
    "    * Define the optimzer for the patch data\n",
    "    * Optimize the optimizer given the swarm optimizer function defined earlier (f)\n",
    "* Plot the cost of the optimization\n",
    "* Accuracy\n",
    "* Confusion matrix\n",
    "\n",
    "The personal best position (given the loss) is compared to the current position for each particle in the swarm.  After this, the personal best is compared to the global best, and the matrices (position andcosts) are updated.  We want the cost as low as possible (close to zero), and the cost represents the lowest value of the loss.\n",
    "\n",
    "Optimizer is done for 5 different combinations of number of particles and generations"
   ],
   "metadata": {
    "collapsed": false,
    "pycharm": {
     "name": "#%% md\n"
    }
   }
  },
  {
   "cell_type": "code",
   "source": [
    "options = {'c1': 0.25, 'c2': 3, 'w':0.8} #options in order to initialize swarm\n",
    "\n",
    "dimensions = dimensions\n",
    "optimizer_patch_pso = pyswarms.single.GlobalBestPSO(n_particles=100, dimensions=dimensions, options=options) \n",
    "cost_patch, pos_patch = optimizer_patch_pso.optimize(f, iters=100, verbose=0) \n",
    "\n",
    "print('Cost: ', cost_patch)\n",
    "\n",
    "plot_cost_history(optimizer_patch_pso.cost_history)\n",
    "plt.show()\n",
    "\n",
    "print('Accuracy: ', (predict(pos_patch) == y).mean())\n",
    "\n",
    "prediction_pso = predict(pos_patch)\n",
    "confusion_matrix(y_test[:num_samples],prediction_pso)"
   ],
   "metadata": {
    "execution": {
     "iopub.status.busy": "2021-06-09T10:57:02.630318Z",
     "iopub.execute_input": "2021-06-09T10:57:02.630665Z",
     "iopub.status.idle": "2021-06-09T10:59:22.188251Z",
     "shell.execute_reply.started": "2021-06-09T10:57:02.630628Z",
     "shell.execute_reply": "2021-06-09T10:59:22.186874Z"
    },
    "trusted": true
   },
   "execution_count": null,
   "outputs": []
  },
  {
   "cell_type": "code",
   "source": [
    "options = {'c1': 0.25, 'c2': 3, 'w':0.8} #options in order to initialize swarm\n",
    "\n",
    "dimensions = dimensions\n",
    "optimizer_patch_pso = pyswarms.single.GlobalBestPSO(n_particles=250, dimensions=dimensions, options=options) \n",
    "cost_patch, pos_patch = optimizer_patch_pso.optimize(f, iters=100, verbose=0) \n",
    "\n",
    "print('Cost: ', cost_patch)\n",
    "\n",
    "plot_cost_history(optimizer_patch_pso.cost_history)\n",
    "plt.show()\n",
    "\n",
    "print('Accuracy: ', (predict(pos_patch) == y).mean())\n",
    "\n",
    "prediction_pso = predict(pos_patch)\n",
    "confusion_matrix(y_test[:num_samples],prediction_pso)"
   ],
   "metadata": {
    "execution": {
     "iopub.status.busy": "2021-06-09T11:05:07.101716Z",
     "iopub.execute_input": "2021-06-09T11:05:07.102053Z",
     "iopub.status.idle": "2021-06-09T11:09:58.146574Z",
     "shell.execute_reply.started": "2021-06-09T11:05:07.102022Z",
     "shell.execute_reply": "2021-06-09T11:09:58.145306Z"
    },
    "trusted": true
   },
   "execution_count": null,
   "outputs": []
  },
  {
   "cell_type": "code",
   "source": [
    "options = {'c1': 0.25, 'c2': 3, 'w':0.8} #options in order to initialize swarm\n",
    "\n",
    "dimensions = dimensions\n",
    "optimizer_patch_pso = pyswarms.single.GlobalBestPSO(n_particles=500, dimensions=dimensions, options=options) \n",
    "cost_patch, pos_patch = optimizer_patch_pso.optimize(f, iters=100, verbose=0) \n",
    "\n",
    "print('Cost: ', cost_patch)\n",
    "\n",
    "plot_cost_history(optimizer_patch_pso.cost_history)\n",
    "plt.show()\n",
    "\n",
    "print('Accuracy: ', (predict(pos_patch) == y).mean())\n",
    "\n",
    "prediction_pso = predict(pos_patch)\n",
    "confusion_matrix(y_test[:num_samples],prediction_pso)"
   ],
   "metadata": {
    "execution": {
     "iopub.status.busy": "2021-06-09T11:09:58.148233Z",
     "iopub.execute_input": "2021-06-09T11:09:58.148586Z",
     "iopub.status.idle": "2021-06-09T11:19:08.901513Z",
     "shell.execute_reply.started": "2021-06-09T11:09:58.14855Z",
     "shell.execute_reply": "2021-06-09T11:19:08.900492Z"
    },
    "trusted": true
   },
   "execution_count": null,
   "outputs": []
  },
  {
   "cell_type": "code",
   "source": [
    "options = {'c1': 0.25, 'c2': 3, 'w':0.8} #options in order to initialize swarm\n",
    "\n",
    "dimensions = dimensions\n",
    "optimizer_patch_pso = pyswarms.single.GlobalBestPSO(n_particles=100, dimensions=dimensions, options=options) \n",
    "cost_patch, pos_patch = optimizer_patch_pso.optimize(f, iters=500, verbose=0) \n",
    "\n",
    "print('Cost: ', cost_patch)\n",
    "\n",
    "plot_cost_history(optimizer_patch_pso.cost_history)\n",
    "plt.show()\n",
    "\n",
    "print('Accuracy: ', (predict(pos_patch) == y).mean())\n",
    "\n",
    "prediction_pso = predict(pos_patch)\n",
    "confusion_matrix(y_test[:num_samples],prediction_pso)"
   ],
   "metadata": {
    "execution": {
     "iopub.status.busy": "2021-06-09T11:19:08.903221Z",
     "iopub.execute_input": "2021-06-09T11:19:08.903572Z",
     "iopub.status.idle": "2021-06-09T11:28:15.626047Z",
     "shell.execute_reply.started": "2021-06-09T11:19:08.903535Z",
     "shell.execute_reply": "2021-06-09T11:28:15.625088Z"
    },
    "trusted": true
   },
   "execution_count": null,
   "outputs": []
  },
  {
   "cell_type": "code",
   "source": [
    "options = {'c1': 0.25, 'c2': 3, 'w':0.8} #options in order to initialize swarm\n",
    "\n",
    "dimensions = dimensions\n",
    "optimizer_patch_pso = pyswarms.single.GlobalBestPSO(n_particles=100, dimensions=dimensions, options=options) \n",
    "cost_patch, pos_patch = optimizer_patch_pso.optimize(f, iters=1000, verbose=0) \n",
    "\n",
    "print('Cost: ', cost_patch)\n",
    "\n",
    "plot_cost_history(optimizer_patch_pso.cost_history)\n",
    "plt.show()\n",
    "\n",
    "print('Accuracy: ', (predict(pos_patch) == y).mean())\n",
    "\n",
    "prediction_pso = predict(pos_patch)\n",
    "confusion_matrix(y_test[:num_samples],prediction_pso)"
   ],
   "metadata": {
    "execution": {
     "iopub.status.busy": "2021-06-09T11:28:15.627443Z",
     "iopub.execute_input": "2021-06-09T11:28:15.627956Z",
     "iopub.status.idle": "2021-06-09T11:47:08.972386Z",
     "shell.execute_reply.started": "2021-06-09T11:28:15.627916Z",
     "shell.execute_reply": "2021-06-09T11:47:08.971457Z"
    },
    "trusted": true
   },
   "execution_count": null,
   "outputs": []
  },
  {
   "cell_type": "markdown",
   "source": [
    "Possibility to make GIF of the swarm"
   ],
   "metadata": {
    "collapsed": false
   }
  },
  {
   "cell_type": "code",
   "source": [
    "'''\n",
    "m = Mesher(func=fx.sphere)\n",
    "optimizer_patch_pso_gif = pyswarms.single.GlobalBestPSO(n_particles=100, dimensions=2, options=options) \n",
    "cost_patch, pos_patch = optimizer_patch_pso_gif.optimize(fx.sphere, iters=100, verbose=0) \n",
    "'''"
   ],
   "metadata": {
    "execution": {
     "iopub.status.busy": "2021-06-09T08:19:45.269694Z",
     "iopub.execute_input": "2021-06-09T08:19:45.270096Z",
     "iopub.status.idle": "2021-06-09T08:19:45.305745Z",
     "shell.execute_reply.started": "2021-06-09T08:19:45.27006Z",
     "shell.execute_reply": "2021-06-09T08:19:45.30488Z"
    },
    "trusted": true
   },
   "execution_count": null,
   "outputs": []
  },
  {
   "cell_type": "code",
   "source": "'''\n%%capture\nanimation = plot_contour(pos_history=optimizer_patch_pso_gif.pos_history,\n                         mesher=m,\n                         mark=(0,0))\n'''",
   "metadata": {
    "execution": {
     "iopub.status.busy": "2021-06-09T08:19:51.467441Z",
     "iopub.execute_input": "2021-06-09T08:19:51.467774Z",
     "iopub.status.idle": "2021-06-09T08:19:54.230854Z",
     "shell.execute_reply.started": "2021-06-09T08:19:51.467741Z",
     "shell.execute_reply": "2021-06-09T08:19:54.229955Z"
    },
    "trusted": true
   },
   "execution_count": null,
   "outputs": []
  },
  {
   "cell_type": "code",
   "source": "'''\nanimation.save('plot0.gif', writer='imagemagick', fps=10)\nImage(url='plot0.gif')\n'''",
   "metadata": {
    "execution": {
     "iopub.status.busy": "2021-06-09T08:19:56.131838Z",
     "iopub.execute_input": "2021-06-09T08:19:56.132161Z",
     "iopub.status.idle": "2021-06-09T08:20:29.379949Z",
     "shell.execute_reply.started": "2021-06-09T08:19:56.132131Z",
     "shell.execute_reply": "2021-06-09T08:20:29.378818Z"
    },
    "trusted": true
   },
   "execution_count": null,
   "outputs": []
  }
 ]
}